{
 "cells": [
  {
   "cell_type": "code",
   "execution_count": 31,
   "metadata": {},
   "outputs": [
    {
     "name": "stdout",
     "output_type": "stream",
     "text": [
      "The autoreload extension is already loaded. To reload it, use:\n",
      "  %reload_ext autoreload\n"
     ]
    }
   ],
   "source": [
    "# %%\n",
    "%load_ext autoreload\n",
    "%autoreload 2\n",
    "import numpy as np\n",
    "import matplotlib.pyplot as plt\n",
    "from matplotlib.gridspec import GridSpec\n",
    "import pandas as pd\n",
    "import seaborn as sns\n",
    "import math\n",
    "from collections import Counter\n",
    "from functools import reduce\n",
    "#For interactive plots \n",
    "\n",
    "import plotly.graph_objects as go #pip install plotly\n",
    "import dash\n",
    "from dash import dcc, html #pip install dash\n",
    "from dash.dependencies import Input, Output #pip install dash-bootstrap-components\n",
    "\n",
    "#load the statistical libraries\n",
    "from statsmodels.stats import diagnostic\n",
    "from scipy import stats\n",
    "\n",
    "from src.data.utils import get_franchise_movies, get_franchise_data, get_inflation_rate, get_movie, get_genre_counts\n"
   ]
  },
  {
   "cell_type": "code",
   "execution_count": 32,
   "metadata": {},
   "outputs": [],
   "source": [
    "#loading the inflation rate data set from the columbia bank \n",
    "inflation_rate_df=get_inflation_rate()\n",
    "\n",
    "#loading the complete data set \n",
    "movies_df_raw = pd.read_csv('data/movie_metadata_with_tmdb.csv')\n",
    "\n",
    "#loading the data set for the franchise movies \n",
    "franchise_df=get_franchise_movies(movies_df_raw,inflation_rate_df,'data/missing_dates_manualsearch.csv')\n",
    "\n",
    "#Data frame with all the movies with processing\n",
    "movies_df=get_movie(movies_df_raw,inflation_rate_df)\n",
    "\n",
    "#Data frame with movies that are not part of a franchise\n",
    "movies_no_franchise_df = movies_df[movies_df['collection_id'].isna()].reset_index(drop=True)\n",
    "\n",
    "#Data frame of only the franchise name and their characteristics\n",
    "franchise_data_df = get_franchise_data(franchise_df)\n",
    "\n",
    "# Drop franchises where any movie in the franchise does not have a release date\n",
    "franchise_df = franchise_df.groupby('collection_id').filter(lambda x: x['Movie release date'].notna().all())\n",
    "#print(\"Number of movies with all movies having release dates : \", len(franchise_df_2))\n"
   ]
  },
  {
   "cell_type": "code",
   "execution_count": 33,
   "metadata": {},
   "outputs": [],
   "source": [
    "from sklearn.feature_extraction.text import CountVectorizer\n",
    "def get_1_2_movies(data): \n",
    "    \"\"\"\n",
    "    Function to get the 1_st and 2_nd movie franhcise to analyse it in the tree and KNN model\n",
    "    \"\"\"\n",
    "    # Drop unnecessary columns\n",
    "    data.drop(columns=[\n",
    "    'Freebase movie ID', 'Movie release date', 'Movie languages (Freebase ID:name tuples)', \n",
    "    'vote_count', 'tmdb_original_language', 'Movie release date corrected', 'box_office', \n",
    "    'Movie runtime', 'Movie countries (Freebase ID:name tuples)', 'CPI', 'budget', 'tmdb_id','profit'\n",
    "    ], inplace=True)\n",
    "    \n",
    "    data['movie_order'] = data['movie_order'].astype(int)\n",
    "\n",
    "    data = data[(data['movie_order'] == 1) | (data['movie_order'] == 2)]\n",
    "    data = data.pivot(index='collection_id', columns='movie_order')\n",
    "    data.columns = ['_'.join(map(str, col)).strip() for col in data.columns]\n",
    "    data = data.drop(columns =['years_diff_bt_pre_movies_1','collection_size_2'], axis=1)\n",
    "\n",
    "    #movie_genre = data['genres'].apply(lambda x: ', '.join(set([genre for sublist in x for genre in sublist])))\n",
    "\n",
    "    return data \n",
    "    \n",
    "    "
   ]
  },
  {
   "cell_type": "code",
   "execution_count": 34,
   "metadata": {},
   "outputs": [],
   "source": [
    "franchise_tree = get_1_2_movies(franchise_df)"
   ]
  },
  {
   "cell_type": "code",
   "execution_count": 37,
   "metadata": {},
   "outputs": [],
   "source": [
    "\n",
    "franchise_tree=franchise_tree.dropna()\n",
    "franchise_tree\n"
   ]
  },
  {
   "cell_type": "code",
   "execution_count": null,
   "metadata": {},
   "outputs": [],
   "source": []
  }
 ],
 "metadata": {
  "kernelspec": {
   "display_name": "ada",
   "language": "python",
   "name": "python3"
  },
  "language_info": {
   "codemirror_mode": {
    "name": "ipython",
    "version": 3
   },
   "file_extension": ".py",
   "mimetype": "text/x-python",
   "name": "python",
   "nbconvert_exporter": "python",
   "pygments_lexer": "ipython3",
   "version": "3.11.10"
  }
 },
 "nbformat": 4,
 "nbformat_minor": 2
}
