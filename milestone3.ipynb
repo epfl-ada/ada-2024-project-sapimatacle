{
 "cells": [
  {
   "cell_type": "markdown",
   "metadata": {},
   "source": [
    "# To be continued or discontinued: investigating secret formula for successful movie franchise\n",
    "This notebook contains in-depth analysis and visualization for our project. Some figures in the blog post is taken from this notebook."
   ]
  },
  {
   "cell_type": "markdown",
   "metadata": {},
   "source": [
    "## Data loading and preprocessing"
   ]
  },
  {
   "cell_type": "markdown",
   "metadata": {},
   "source": [
    "__Delete unused import before submission__"
   ]
  },
  {
   "cell_type": "code",
   "execution_count": null,
   "metadata": {},
   "outputs": [],
   "source": [
    "%load_ext autoreload\n",
    "%autoreload 2\n",
    "from collections import Counter, defaultdict\n",
    "\n",
    "import numpy as np\n",
    "import matplotlib.pyplot as plt\n",
    "from matplotlib.gridspec import GridSpec\n",
    "import pandas as pd\n",
    "import seaborn as sns\n",
    "from wordcloud import WordCloud\n",
    "#load the statistical libraries\n",
    "from statsmodels.stats import diagnostic\n",
    "from scipy import stats\n",
    "from scipy.stats import zscore\n",
    "\n",
    "# sklearn\n",
    "from sklearn.model_selection import train_test_split\n",
    "from sklearn.ensemble import HistGradientBoostingClassifier\n",
    "from sklearn.feature_extraction.text import CountVectorizer\n",
    "from sklearn.preprocessing import StandardScaler\n",
    "from sklearn.cluster import KMeans\n",
    "from sklearn.decomposition import PCA\n",
    "from sklearn.metrics import silhouette_score\n",
    "\n",
    "# custom functions\n",
    "from src.data.utils import get_franchise_movies, get_inflation_rate, get_movie, clean_character_metadata, custom_autopct, create_ethnicity_columns, get_tree_df, get_genre_counts, get_franchise_data, clean_categories, get_1_2_movies\n",
    "from src.utils.plotting import plot_geo_piecharts, plot_heatmap_1, plot_heatmap_2\n",
    "from src.utils.importance import run_importance\n",
    "sns.set_theme(style='darkgrid', palette='colorblind', color_codes=True)\n"
   ]
  },
  {
   "cell_type": "markdown",
   "metadata": {},
   "source": [
    "We'll start by loading the character data and drop rows if any of the columns in `COL_FOR_DROPNA` is missing. This will make the following analysis easier without dropping too many rows (55467/395202 dropped)."
   ]
  },
  {
   "cell_type": "markdown",
   "metadata": {},
   "source": [
    "__DO NOT EDIT THE LOADING ORDER OF `character_df`, `movies_df_raw`, `franchise_df` AND `movies_no_franchise_df`.__"
   ]
  },
  {
   "cell_type": "code",
   "execution_count": 2,
   "metadata": {},
   "outputs": [],
   "source": [
    "COL_NAMES = [\n",
    "    'Wikipedia_movie_ID', 'Freebase_movie_ID', 'Movie_release_date', 'Character_name', \n",
    "    'Actor_date_of_birth', 'Actor_gender', 'Actor_height_m', 'Actor_ethnicity_Freebase_ID', \n",
    "    'Actor_name', 'Actor_age_at_movie_release', 'Freebase_character_actor_map_ID', \n",
    "    'Freebase_character_ID', 'Freebase_actor_ID'\n",
    "]\n",
    "COL_FOR_DROPNA = ['Wikipedia_movie_ID', 'Freebase_movie_ID', 'Movie_release_date',\n",
    "                  'Actor_gender', 'Actor_name', 'Freebase_character_actor_map_ID',\n",
    "                  'Freebase_actor_ID']\n",
    "RANDOM_STATE = 42"
   ]
  },
  {
   "cell_type": "code",
   "execution_count": 60,
   "metadata": {},
   "outputs": [
    {
     "name": "stdout",
     "output_type": "stream",
     "text": [
      "Dropping character data rows with missing values in any of ['Wikipedia_movie_ID', 'Freebase_movie_ID', 'Movie_release_date', 'Actor_gender', 'Actor_name', 'Freebase_character_actor_map_ID', 'Freebase_actor_ID'].\n",
      "Number of rows dropped: 55467\n",
      "395202 rows remaining.\n",
      "Running sentiment analysis...\n"
     ]
    },
    {
     "name": "stderr",
     "output_type": "stream",
     "text": [
      "100%|██████████| 52034/52034 [00:07<00:00, 7303.69it/s]\n"
     ]
    }
   ],
   "source": [
    "# load and prepare character_df\n",
    "character_df = pd.read_csv('data/character.metadata.tsv', names=COL_NAMES, sep='\\t')\n",
    "character_df = clean_character_metadata(character_df, mapping_path='data/ethnicity_mapping.csv', columns=COL_FOR_DROPNA)\n",
    "\n",
    "#loading the inflation rate data set from the columbia bank\n",
    "inflation_rate_df=get_inflation_rate()\n",
    "#loading the complete data set \n",
    "movies_df_raw = pd.read_csv('data/movie_metadata_with_tmdb.csv')\n",
    "movies_df_raw = create_ethnicity_columns(movies_df_raw, character_df)\n",
    "#Data frame with all the movies with preprocessing\n",
    "movies_df=get_movie(movies_df_raw,inflation_rate_df)\n",
    "\n",
    "#loading the data set for the franchise movies \n",
    "franchise_df=get_franchise_movies(movies_df_raw,inflation_rate_df,'data/missing_dates_manualsearch.csv')\n",
    "#Data frame with movies that are not part of a franchise\n",
    "movies_no_franchise_df = movies_df[movies_df['collection_id'].isna()].reset_index(drop=True)\n",
    "\n",
    "# create a new column to check if the movie is part of a franchise\n",
    "character_df[\"is_in_franchise\"] = character_df[\"Wikipedia_movie_ID\"].isin(franchise_df[\"Wikipedia movie ID\"])\n",
    "\n",
    "#Data frame of only the franchise name and their characteristics\n",
    "# franchise_data_df = get_franchise_data(franchise_df)\n",
    "\n",
    "# Drop franchises where any movie in the franchise does not have a release date\n",
    "# franchise_df_2 = franchise_df.groupby('collection_id').filter(lambda x: x['Movie release date'].notna().all())\n",
    "# print(\"Number of movies with all movies having release dates : \", len(franchise_df_2))\n",
    "# print(franchise_df)"
   ]
  },
  {
   "cell_type": "markdown",
   "metadata": {},
   "source": [
    "## First look of the data"
   ]
  },
  {
   "cell_type": "code",
   "execution_count": 61,
   "metadata": {},
   "outputs": [
    {
     "name": "stdout",
     "output_type": "stream",
     "text": [
      "count    1592.00000\n",
      "mean        3.24309\n",
      "std         3.75448\n",
      "min         2.00000\n",
      "25%         2.00000\n",
      "50%         2.00000\n",
      "75%         3.00000\n",
      "max        66.00000\n",
      "Name: Wikipedia movie ID, dtype: float64\n",
      "Number of movies in collections: 5163\n",
      "Number of movies in the entire data set: 81740\n",
      "Number of movies not in a collections: 75558\n"
     ]
    }
   ],
   "source": [
    "# Counting the number of movies per collections\n",
    "franchise_counts = franchise_df.groupby(by='collection_id')['Wikipedia movie ID'].count()\n",
    "print(franchise_counts.describe())\n",
    "print(f\"Number of movies in collections: {len(franchise_df['collection_id'])}\")\n",
    "print(f\"Number of movies in the entire data set: {len(movies_df['collection_id'])}\")\n",
    "print(f\"Number of movies not in a collections: {len(movies_no_franchise_df)}\")\n"
   ]
  },
  {
   "cell_type": "markdown",
   "metadata": {},
   "source": [
    "When importing the data, we decided to directly drop the franchises that had only one movie, as it would bias our analysis (it means that the other movies in the collections were not included in the dataset as they were released after 2016). \n",
    "Now, we have 1595 collections, with 5173 movies, which we deem enough. We also see a strong outlier that has 66 movies (the maximum).\n"
   ]
  },
  {
   "cell_type": "code",
   "execution_count": 62,
   "metadata": {},
   "outputs": [
    {
     "data": {
      "image/png": "[encoded data removed]",
      "text/plain": [
       "<Figure size 640x480 with 1 Axes>"
      ]
     },
     "metadata": {},
     "output_type": "display_data"
    }
   ],
   "source": [
    "proportion = len(franchise_df) / len(movies_df)\n",
    "proportions = pd.DataFrame({'Proportion': [proportion, 1 - proportion]}, index=['In franchise', 'Not in franchise'])\n",
    "explode = (0, 0.1)\n",
    "fig, ax = plt.subplots()\n",
    "ax.pie(proportions['Proportion'], labels=proportions.index, autopct='%1.1f%%', startangle=90)\n",
    "\n",
    "plt.show()"
   ]
  },
  {
   "cell_type": "code",
   "execution_count": 65,
   "metadata": {},
   "outputs": [
    {
     "data": {
      "image/png": "[encoded data removed]",
      "text/plain": [
       "<Figure size 800x500 with 2 Axes>"
      ]
     },
     "metadata": {},
     "output_type": "display_data"
    }
   ],
   "source": [
    "# Plot the box plot\n",
    "fig, axes = plt.subplots(2, 1, figsize=(8, 5))\n",
    "\n",
    "# Boxplot with outliers\n",
    "axes[0].boxplot(franchise_counts, vert=False)\n",
    "axes[0].set_title('Box plot of franchise sizes (with outliers)',\n",
    "                  fontweight='bold', fontsize=14)\n",
    "axes[0].set_xlabel('Number of movies')\n",
    "axes[0].set_ylabel('Franchises')\n",
    "axes[0].set_yticks([])\n",
    "\n",
    "# Boxplot without outliers\n",
    "axes[1].boxplot(franchise_counts, vert=False, showfliers=False)\n",
    "axes[1].set_title('Box plot of franchise sizes (without outliers)',\n",
    "                  fontweight='bold', fontsize=14)\n",
    "axes[1].set_xlabel('Number of movies')\n",
    "axes[1].set_ylabel('Franchises')\n",
    "axes[1].set_yticks([])\n",
    "\n",
    "plt.tight_layout()\n",
    "plt.show()"
   ]
  },
  {
   "cell_type": "code",
   "execution_count": 64,
   "metadata": {},
   "outputs": [
    {
     "name": "stdout",
     "output_type": "stream",
     "text": [
      "Number of outliers: 20\n"
     ]
    }
   ],
   "source": [
    "from scipy.stats import zscore\n",
    "# Performe the Z-scores for the franchise_counts\n",
    "franchise_counts_zscores = zscore(franchise_counts)\n",
    "franchise_counts2 = franchise_counts.to_frame(name='count')\n",
    "franchise_counts2['zscore'] = franchise_counts_zscores\n",
    "\n",
    "# Identify outliers (Z-score > 3 or < -3)\n",
    "outliers_franchise_counts = franchise_counts2[(franchise_counts2['zscore'] > 3) | (franchise_counts2['zscore'] < -3)]\n",
    "print(f\"Number of outliers: {len(outliers_franchise_counts)}\")"
   ]
  },
  {
   "cell_type": "markdown",
   "metadata": {},
   "source": [
    "Here, we can see that at least 75% of the franchises have between 2 and 4 movies. And when looking closely at the outliers, such as \"Our gang: The Roach/Pathé silents (1922-1928)\" with 66 movies, we see that they mostly do not correspond to sequels, but to franchises. This is something to keep in mind for the data analysis."
   ]
  },
  {
   "cell_type": "markdown",
   "metadata": {},
   "source": [
    "## Univariate Analysis "
   ]
  },
  {
   "cell_type": "markdown",
   "metadata": {},
   "source": [
    "In this part we've investigated each column of the dataset and visualized what we are working with and compared movie in franchise and movie that aren't."
   ]
  },
  {
   "cell_type": "markdown",
   "metadata": {},
   "source": [
    "### Genres"
   ]
  },
  {
   "cell_type": "markdown",
   "metadata": {},
   "source": [
    "Now, we wanted to look more closely at the genre columns, as it is one of the parameters needed to answer our research questions. First, let's plot the genre proportions in the original dataset, with all the movies. \n",
    "\n",
    "N.B.: most movies are defined by multiple genres and not a unique one"
   ]
  },
  {
   "cell_type": "code",
   "execution_count": null,
   "metadata": {},
   "outputs": [],
   "source": [
    "# Calculate the total count of all genres\n",
    "total_genres_count, genre_counts_df = get_genre_counts(movies_df_raw)\n",
    "# Determine the threshold count for 2%\n",
    "threshold_count = total_genres_count * 0.02\n",
    "# Replace genres with counts below the threshold with an empty string for labels\n",
    "labels = genre_counts_df.apply(lambda row: '' if row['counts'] < threshold_count else row['genre'], axis=1)\n",
    "\n",
    "# Plotting the pie chart with filtered labels\n",
    "fig, (ax1, ax2, ax3) = plt.subplots(1, 3, figsize=(21, 10))\n",
    "\n",
    "ax1.pie(genre_counts_df['counts'], labels=labels, autopct=lambda p: '' if p < 2 else f'{p:.1f}%', wedgeprops={'edgecolor': 'none'})\n",
    "ax1.set_title('Distribution of Genres in dataset')\n",
    "\n",
    "# Replace any genre containing \"comedy\" (case-insensitive) with \"comedy\"\n",
    "genre_counts_df['genre'] = genre_counts_df['genre'].str.replace(r'(?i).*comedy.*', 'Comedy', regex=True)\n",
    "\n",
    "# Group by genre and sum counts\n",
    "old_genre_counts = genre_counts_df.groupby('genre', as_index=False)['counts'].sum()\n",
    "old_genre_counts = old_genre_counts.sort_values(by='counts', ascending=False)\n",
    "labels2 = old_genre_counts.apply(lambda row: '' if row['counts'] < threshold_count else row['genre'], axis=1)\n",
    "# Plotting the pie chart\n",
    "ax2.pie(old_genre_counts['counts'], labels=labels2, autopct=lambda p: '' if p < 2 else f'{p:.1f}%', wedgeprops={'edgecolor': 'none'})\n",
    "ax2.set_title('Distribution of Genres in dataset, comedies grouped')\n",
    "\n",
    "# Replace genres with counts below the threshold with \"other\"\n",
    "old_genre_counts['genre'] = old_genre_counts.apply(lambda row: 'other' if row['counts'] < threshold_count else row['genre'], axis=1)\n",
    "old_genre_counts = old_genre_counts.groupby('genre', as_index=False)['counts'].sum()\n",
    "old_genre_counts = old_genre_counts.sort_values(by='counts', ascending=False)\n",
    "# Plotting the pie chart\n",
    "ax3.pie(old_genre_counts['counts'], labels=old_genre_counts['genre'], autopct='%1.1f%%')\n",
    "ax3.set_title('Distribution of Genres in dataset, comedies grouped, with \"other\" category')\n",
    "\n",
    "plt.show()"
   ]
  },
  {
   "cell_type": "markdown",
   "metadata": {},
   "source": [
    "Now, let's compare with the distribution in the movies in franchises subset:"
   ]
  },
  {
   "cell_type": "code",
   "execution_count": null,
   "metadata": {},
   "outputs": [],
   "source": [
    "# Calculate the total count of all genres\n",
    "total_genres_count, genre_counts_df = get_genre_counts(franchise_df)\n",
    "# Determine the threshold count for 2%\n",
    "threshold_count = total_genres_count * 0.02\n",
    "# Replace genres with counts below the threshold with an empty string for labels\n",
    "labels = genre_counts_df.apply(lambda row: '' if row['counts'] < threshold_count else row['genre'], axis=1)\n",
    "\n",
    "# Plotting the pie chart with filtered labels\n",
    "fig = plt.figure(figsize=(21, 10))\n",
    "gs = GridSpec(2, 3, height_ratios=[2, 1], width_ratios=[1, 1, 1])\n",
    "ax1 = fig.add_subplot(gs[0, 0])\n",
    "ax1.pie(genre_counts_df['counts'], labels=labels, autopct=lambda p: '' if p < 2 else f'{p:.1f}%', wedgeprops={'edgecolor': 'none'})\n",
    "ax1.set_title('Distribution of Genres in Collections')\n",
    "\n",
    "# Replace any genre containing \"comedy\" (case-insensitive) with \"comedy\"\n",
    "genre_counts_df['genre'] = genre_counts_df['genre'].str.replace(r'(?i).*comedy.*', 'Comedy', regex=True)\n",
    "\n",
    "\n",
    "# Group by genre and sum counts\n",
    "old_genre_counts = genre_counts_df.groupby('genre', as_index=False)['counts'].sum()\n",
    "old_genre_counts = old_genre_counts.sort_values(by='counts', ascending=False)\n",
    "labels2 = old_genre_counts.apply(lambda row: '' if row['counts'] < threshold_count else row['genre'], axis=1)\n",
    "# Plotting the pie chart\n",
    "ax2 = fig.add_subplot(gs[0, 1])\n",
    "ax2.pie(old_genre_counts['counts'], labels=labels2, autopct=lambda p: '' if p < 2 else f'{p:.1f}%', wedgeprops={'edgecolor': 'none'})\n",
    "ax2.set_title('Distribution of Genres in Collections, comedies grouped')\n",
    "\n",
    "# Replace genres with counts below the threshold with \"other\"\n",
    "old_genre_counts['genre'] = old_genre_counts.apply(lambda row: 'other' if row['counts'] < threshold_count else row['genre'], axis=1)\n",
    "old_genre_counts = old_genre_counts.groupby('genre', as_index=False)['counts'].sum()\n",
    "old_genre_counts = old_genre_counts.sort_values(by='counts', ascending=False)\n",
    "# Plotting the pie chart\n",
    "ax3 = fig.add_subplot(gs[0, 2])\n",
    "ax3.pie(old_genre_counts['counts'], labels=old_genre_counts['genre'], autopct='%1.1f%%')\n",
    "ax3.set_title('Distribution of Genres in Collections, comedies grouped, with \"other\" category')\n",
    "\n",
    "# Extract top 5 and bottom 5 genres\n",
    "top_5_genres = genre_counts_df.head(5)\n",
    "bottom_5_genres = genre_counts_df.tail(5)\n",
    "# Combine top 5 and bottom 5 genres into a single DataFrame\n",
    "top_bottom_genres = pd.concat([top_5_genres, bottom_5_genres])\n",
    "\n",
    "# Plot the table with top 5 and bottom 5 genres\n",
    "ax4 = fig.add_subplot(gs[1, 1])\n",
    "ax4.axis('off')\n",
    "\n",
    "# Create the table\n",
    "table = ax4.table(cellText=top_bottom_genres.values,\n",
    "                 colLabels=top_bottom_genres.columns,\n",
    "                 cellLoc='center', loc='center')\n",
    "\n",
    "# Customize table appearance\n",
    "table.auto_set_font_size(False)\n",
    "table.set_fontsize(12)  # Increase font size\n",
    "table.scale(1.2, 1.5)  # Scale for better spacing\n",
    "\n",
    "# Adding color to the header and rows\n",
    "for (i, j), cell in table.get_celld().items():\n",
    "    if i == 0:  # Header row\n",
    "        cell.set_fontsize(14)\n",
    "        cell.set_text_props(weight='bold')  # Make header text bold\n",
    "        cell.set_facecolor('#6a7ba2')  # Green background for header\n",
    "        cell.set_text_props(color='white')  # White text color for the header\n",
    "    else:\n",
    "        if i % 2 == 0:\n",
    "            cell.set_facecolor('#f2f2f2')  # Light gray color for alternate rows\n",
    "        else:\n",
    "            cell.set_facecolor('#ffffff')  # White color for other rows\n",
    "\n",
    "    # Set border style\n",
    "    cell.set_edgecolor('black')  # Add black borders to cells\n",
    "\n",
    "# Display the table\n",
    "plt.show()"
   ]
  },
  {
   "cell_type": "markdown",
   "metadata": {},
   "source": [
    "Now, let's compare with the distribution in the movies in franchises subset:"
   ]
  },
  {
   "cell_type": "markdown",
   "metadata": {},
   "source": [
    "Now, we know that there are a lot of unique, very specific and irrelevant genres in the original categories (such as \"Kitchen sink realism\"), that appear less than 2% and together represent 42% of the whole genres. We therefore chose to use the ones in the added TMDB dataset."
   ]
  },
  {
   "cell_type": "code",
   "execution_count": null,
   "metadata": {},
   "outputs": [],
   "source": [
    "# Flatten the list of genres and count the occurrences\n",
    "flattened_genres = [genre for sublist in franchise_df['genres'] for genre in sublist]\n",
    "genre_counts = Counter(flattened_genres)\n",
    "\n",
    "# Convert the Counter object to a DataFrame for easier plotting\n",
    "genre_counts_df = pd.DataFrame.from_dict(genre_counts, orient='index', columns=['count']).reset_index()\n",
    "genre_counts_df.columns = ['genre', 'count']\n",
    "\n",
    "# Calculate the proportion of each genre\n",
    "genre_counts_df['proportion [%]'] = genre_counts_df['count'] / genre_counts_df['count'].sum() * 100\n",
    "genre_counts_df = genre_counts_df.sort_values(by='proportion [%]', ascending=False)\n",
    "genre_counts_df['proportion [%]'] = genre_counts_df['proportion [%]'].apply(lambda x: round(x, 1))\n",
    "\n",
    "# Create a new figure with subplots\n",
    "fig, (ax1, ax2) = plt.subplots(1, 2, figsize=(14, 7))\n",
    "\n",
    "# Plot the table with genre proportions\n",
    "ax1.axis('off')\n",
    "table = ax1.table(cellText=genre_counts_df[['genre', 'proportion [%]']].values,\n",
    "                  colLabels=['Genre', 'Proportion [%]'],\n",
    "                  cellLoc='center', loc='center')\n",
    "\n",
    "# Customize table appearance\n",
    "table.auto_set_font_size(False)\n",
    "table.set_fontsize(12)  # Increase font size\n",
    "table.scale(1.2, 1.5)  # Scale for better spacing\n",
    "\n",
    "# Adding color to the header and rows\n",
    "for (i, j), cell in table.get_celld().items():\n",
    "    if i == 0:  # Header row\n",
    "        cell.set_fontsize(14)\n",
    "        cell.set_text_props(weight='bold')  # Make header text bold\n",
    "        cell.set_facecolor('#6a7ba2')  # Green background for header\n",
    "        cell.set_text_props(color='white')  # White text color for the header\n",
    "    else:\n",
    "        if i % 2 == 0:\n",
    "            cell.set_facecolor('#f2f2f2')  # Light gray color for alternate rows\n",
    "        else:\n",
    "            cell.set_facecolor('#ffffff')  # White color for other rows\n",
    "\n",
    "    # Set border style\n",
    "    cell.set_edgecolor('black')  # Add black borders to cells\n",
    "\n",
    "# Plot the pie chart with labels only on the side\n",
    "wedges, texts, autotexts = ax2.pie(genre_counts_df['count'], labels=['']*len(genre_counts_df), autopct='%1.1f%%')\n",
    "ax2.legend(wedges, genre_counts_df['genre'], title=\"Genres\", loc=\"center\", bbox_to_anchor=(1, 0, 0.5, 1))\n",
    "ax2.set_title('Distribution of Genres in Collections')\n",
    "\n",
    "table.auto_set_font_size(False)\n",
    "table.set_fontsize(10)\n",
    "table.scale(1., 1.)\n",
    "\n",
    "plt.show()"
   ]
  },
  {
   "cell_type": "markdown",
   "metadata": {},
   "source": [
    "This looks better ! And we still have the same top 3 genre ! Let's now compare our franchise movies to non franchise movies, to see if they seem to follow the same distribution:"
   ]
  },
  {
   "cell_type": "code",
   "execution_count": null,
   "metadata": {},
   "outputs": [],
   "source": [
    "# Extract genres proportions for movies not in franchise, as done before\n",
    "nf_flattened_genres = [genre for sublist in movies_df['genres'] for genre in sublist]\n",
    "nf_genre_counts = Counter(nf_flattened_genres)\n",
    "nf_genre_counts_df = pd.DataFrame.from_dict(nf_genre_counts, orient='index', columns=['count']).reset_index()\n",
    "nf_genre_counts_df.columns = ['genre', 'count']\n",
    "nf_genre_counts_df['proportion [%]'] = nf_genre_counts_df['count'] / nf_genre_counts_df['count'].sum() * 100\n",
    "nf_genre_counts_df = nf_genre_counts_df.sort_values(by='proportion [%]', ascending=False)\n",
    "nf_genre_counts_df['proportion [%]'] = nf_genre_counts_df['proportion [%]'].apply(lambda x: round(x, 1))\n",
    "\n",
    "# Set up the figure\n",
    "plt.figure(figsize=(12, 6))\n",
    "\n",
    "# Plot the higher bars (franchise) first\n",
    "sns.barplot(\n",
    "    x=\"genre\", y=\"proportion [%]\", data=genre_counts_df,\n",
    "    color=\"skyblue\", label=\"Franchise Movies\"\n",
    ")\n",
    "\n",
    "# Plot the lower bars (non-franchise) second\n",
    "sns.barplot(\n",
    "    x=\"genre\", y=\"proportion [%]\", data=nf_genre_counts_df,\n",
    "    color=\"orange\", alpha=0.8, label=\"Non-Franchise Movies\"\n",
    ")\n",
    "\n",
    "# Add labels, legend, and rotate x-axis labels for better visibility\n",
    "plt.xticks(rotation=90)\n",
    "plt.legend()\n",
    "plt.title(\"Genre Proportions: Franchise vs. Non-Franchise Movies\")\n",
    "plt.tight_layout()\n",
    "\n",
    "plt.show()"
   ]
  },
  {
   "cell_type": "markdown",
   "metadata": {},
   "source": [
    "### Time representation"
   ]
  },
  {
   "cell_type": "markdown",
   "metadata": {},
   "source": [
    "For this part we used the released date as the main variable to analyze first the movies in the franchise collection and then the franchise as a whole"
   ]
  },
  {
   "cell_type": "markdown",
   "metadata": {},
   "source": [
    "#### Distribution of the release year of movies in a franchise vs the whole CMU dataset"
   ]
  },
  {
   "cell_type": "code",
   "execution_count": null,
   "metadata": {},
   "outputs": [],
   "source": [
    "fig, ax = plt.subplots(1,2,figsize=(12, 4))\n",
    "\n",
    "# Plot the histogram for franchise_df\n",
    "ax[0].hist(franchise_df['release_year'].dropna(), bins=range(int(franchise_df['release_year'].min()), int(franchise_df['release_year'].max()) + 1), edgecolor='black', alpha=0.5, label='franchise_df')\n",
    "ax[0].set_xlabel('Release Year')\n",
    "ax[0].set_ylabel('Number of Movies in franchise_df', color='b')\n",
    "ax[0].tick_params(axis='y', labelcolor='b')\n",
    "\n",
    "# Create a second y-axis for the movies_df histogram\n",
    "ax2 = ax[0].twinx()\n",
    "ax2.hist(movies_df['release_year'].dropna(), bins=range(int(movies_df['release_year'].min()), int(movies_df['release_year'].max()) + 1), edgecolor='black', alpha=0.5, color='r', label='movies_df')\n",
    "ax2.set_ylabel('Number of Movies in movies_df', color='r')\n",
    "ax2.tick_params(axis='y', labelcolor='r')\n",
    "\n",
    "fig.tight_layout()\n",
    "plt.title('Histogram of Number of Movies per Release Year')\n",
    "fig.legend(loc='upper right', bbox_to_anchor=(1,1), bbox_transform=ax[0].transAxes)\n",
    "\n",
    "\n",
    "# Plot the KDE for franchise_df\n",
    "sns.kdeplot(franchise_df['release_year'].dropna(), ax=ax[1], label='franchise_df', color='blue')\n",
    "\n",
    "# Plot the KDE for movies_df\n",
    "sns.kdeplot(movies_df['release_year'].dropna(), ax=ax[1], label='movies_df', color='red')\n",
    "\n",
    "# Set labels and title\n",
    "ax[1].set_xlabel('Release Year')\n",
    "ax[1].set_ylabel('Density')\n",
    "ax[1].set_title('KDE Plot of Number of Movies per Release Year')\n",
    "ax[1].legend()\n",
    "\n",
    "plt.show()"
   ]
  },
  {
   "cell_type": "markdown",
   "metadata": {},
   "source": [
    "We observe that the subset we created from the CMU Movie dataset by extracting the franchise of at least 2 movies has more or less the same distribution of release year. Note that the CMU Movie dataset has 8% missing date. The franchise one has none since it is really necessary to know the order of the movie in a franchise, the missing release date missing were recovered."
   ]
  },
  {
   "cell_type": "markdown",
   "metadata": {},
   "source": [
    "#### Franchise length and movie release frequency"
   ]
  },
  {
   "cell_type": "markdown",
   "metadata": {},
   "source": [
    "The franchise_data_df is the dataframe of all the franchise and add the different characteristics: total revenue (if all the movie have a revenue), average vote of the franchise, number of movies, oldest movie release date of the franchise, most recent release date of the franchise, length and average time between the movies in a franchise."
   ]
  },
  {
   "cell_type": "code",
   "execution_count": null,
   "metadata": {},
   "outputs": [],
   "source": [
    "#Data frame of only the franchise name and their characteristics\n",
    "franchise_data_df = get_franchise_data(franchise_df)\n",
    "\n",
    "# Count the number of franchise with the same length\n",
    "franchise_data_df_length = franchise_data_df['franchise_length_years'].value_counts().reset_index()\n",
    "franchise_data_df_length.columns = ['franchise_length_years', 'count']\n",
    "\n",
    "# Count the number of franchise with the same average years between movies\n",
    "franchise_data_df_avbm = franchise_data_df['average_years_bt_movies'].value_counts().reset_index()\n",
    "franchise_data_df_avbm.columns = ['average_years_bt_movies', 'count']\n",
    "# Create bins for each year\n",
    "bins = np.arange(franchise_data_df_avbm['average_years_bt_movies'].min(), franchise_data_df_avbm['average_years_bt_movies'].max() + 1, 1)\n",
    "\n",
    "# Count the number of movie with the same year gap between the previous movie\n",
    "franchise_df_ydbpm = franchise_df['years_diff_bt_pre_movies'].value_counts().reset_index()\n",
    "franchise_df_ydbpm.columns = ['years_diff_bt_pre_movies', 'count']\n",
    "\n",
    "\n",
    "# Plotting the bar chart\n",
    "fig, ax = plt.subplots(1, 2, figsize=(18, 6))\n",
    "\n",
    "ax[0].bar(franchise_data_df_length['franchise_length_years'], franchise_data_df_length['count'])\n",
    "ax[0].set_xlabel('Collection Length in Years')\n",
    "ax[0].set_ylabel('Number of franchise')\n",
    "ax[0].set_title('Distribution of Franchise Lengths in Years')\n",
    "\n",
    "ax[1].hist(franchise_data_df['average_years_bt_movies'], bins=bins, edgecolor='white')\n",
    "ax[1].set_xlabel('Average Years Between Movies')\n",
    "ax[1].set_ylabel('Number of franchise')\n",
    "\n",
    "ax[1].set_title('Distribution of the frequency of the Movies in a Franchise')\n",
    "plt.show()"
   ]
  },
  {
   "cell_type": "code",
   "execution_count": null,
   "metadata": {},
   "outputs": [],
   "source": [
    "# outsiders\n",
    "#franchise of more than 20 years\n",
    "long_franchise = franchise_data_df[franchise_data_df['franchise_length_years'] > 20]\n",
    "print(long_franchise['collection_name'])\n",
    "#franchise witha an average of more than 15 years between movies\n",
    "long_average = franchise_data_df[franchise_data_df['average_years_bt_movies'] > 15]\n",
    "print(long_average['collection_name'])\n"
   ]
  },
  {
   "cell_type": "markdown",
   "metadata": {},
   "source": [
    "We observe that the vast majority of the franchise are in a close range with still pretty big range. We're going to use this parameter to describe the franchise in a following part."
   ]
  },
  {
   "cell_type": "markdown",
   "metadata": {},
   "source": [
    "### Vote distribution"
   ]
  },
  {
   "cell_type": "code",
   "execution_count": null,
   "metadata": {},
   "outputs": [],
   "source": [
    "# kde plot of the average vote for all the franchise\n",
    "\n",
    "fig, ax = plt.subplots(figsize=(10, 6))\n",
    "average_vote = franchise_df[franchise_df['vote_average'] > 0]['vote_average'].median()\n",
    "average_vote2 = movies_df[movies_df['vote_average'] > 0]['vote_average'].median()\n",
    "ax.axvline(average_vote, color='b', linestyle='--', label=f'Median franchise: {average_vote:.2f}')\n",
    "ax.axvline(average_vote2, color='r', linestyle='--', label=f'Median non-franchise: {average_vote2:.2f}')\n",
    "sns.kdeplot(franchise_df[franchise_df['vote_average'] > 0]['vote_average'].dropna(), ax=ax, label='franchise_df', color='blue')\n",
    "sns.kdeplot(movies_df[movies_df['vote_average'] > 0]['vote_average'].dropna(), ax=ax, label='movies_df', color='red') \n",
    "ax.set_xlabel('Average Vote')\n",
    "ax.set_ylabel('Density')\n",
    "ax.set_title('KDE Plot of Average Vote for all the franchise')\n",
    "ax.legend()\n",
    "plt.show()"
   ]
  },
  {
   "cell_type": "markdown",
   "metadata": {},
   "source": [
    "We see that the Franchise movies are slightly better graded !"
   ]
  },
  {
   "cell_type": "code",
   "execution_count": null,
   "metadata": {},
   "outputs": [],
   "source": [
    "# Calculate mean and standard deviation\n",
    "summary_stats = franchise_df.groupby(\"movie_order\")[\"vote_average\"].agg(\n",
    "    mean_vote=\"mean\",\n",
    "    std_vote=\"std\"\n",
    ").reset_index()\n",
    "print(summary_stats)\n",
    "# Create the bar plot\n",
    "plt.figure(figsize=(10, 6))\n",
    "sns.barplot(\n",
    "    data=summary_stats,\n",
    "    x=\"movie_order\",\n",
    "    y=\"mean_vote\",\n",
    "    ci=\"sd\",\n",
    "    color=\"skyblue\"\n",
    ")\n",
    "\n",
    "# Customize the plot\n",
    "plt.title(\"Vote Average by Movie Order with Error Bars\", fontsize=14, fontweight=\"bold\")\n",
    "plt.xlabel(\"Movie Order\", fontsize=12)\n",
    "plt.ylabel(\"Vote Average\", fontsize=12)\n",
    "plt.ylim(0, 10)  # Limit y-axis to the range 0-10\n",
    "plt.tight_layout()\n",
    "\n",
    "# Show the plot\n",
    "plt.show()\n"
   ]
  },
  {
   "cell_type": "code",
   "execution_count": null,
   "metadata": {},
   "outputs": [],
   "source": [
    "plt.figure(figsize=(10, 6))\n",
    "\n",
    "ax = sns.barplot(data=franchise_df, x='movie_order', y='vote_average', ci='sd')\n",
    "\n",
    "# Customize the plot\n",
    "plt.title(\"Vote Average by Movie Order with Error Bars\", fontsize=14, fontweight=\"bold\")\n",
    "plt.xlabel(\"Movie Order\", fontsize=12)\n",
    "plt.ylabel(\"Vote Average\", fontsize=12)\n",
    "plt.ylim(0, 10)  # Limit y-axis to the range 0-10\n",
    "plt.xticks(rotation=90)\n",
    "plt.tight_layout()\n",
    "\n",
    "# Show the plot\n",
    "plt.show()\n"
   ]
  },
  {
   "cell_type": "markdown",
   "metadata": {},
   "source": [
    "And that the second movie has a worse grade than the first !"
   ]
  },
  {
   "cell_type": "markdown",
   "metadata": {},
   "source": [
    "### Countries repartition \n",
    "\n",
    "Now, we want to focus on the franchises' countries of origin (using the tmdb dataset), and look at how they interact. First we plotted a pie chart to get a first look at which countries are most respresented in the dataset."
   ]
  },
  {
   "cell_type": "code",
   "execution_count": null,
   "metadata": {},
   "outputs": [],
   "source": [
    "plot_geo_piecharts(movies_df, franchise_df, movies_no_franchise_df)"
   ]
  },
  {
   "cell_type": "markdown",
   "metadata": {},
   "source": [
    "Now, let's look at how they interact: the nodes in the plot below represent how often the country is the origin of a movie, and the edges indicate that two countries are listed together as the origin countries."
   ]
  },
  {
   "cell_type": "code",
   "execution_count": null,
   "metadata": {},
   "outputs": [],
   "source": [
    "from src.utils.plotting import plot_network\n",
    "\n",
    "plot_network(franchise_df)\n",
    "\n",
    "# Filter out 'Republic of Macedonia' from movies_df before plotting\n",
    "#filtered_movies_df = movies_df[movies_df['tmdb_origin_country'] != 'Republic of Macedonia']\n",
    "# Check if filtering works as expected\n",
    "#print('Republic of Macedonia' not in filtered_movies_df['tmdb_origin_country'].values, \"Filtering did not remove 'Republic of Macedonia'.\")\n",
    "plot_network(movies_df)"
   ]
  },
  {
   "cell_type": "markdown",
   "metadata": {},
   "source": [
    "### Actor identity analysis\n",
    "\n",
    "In this part, we will particularly tackle Q2-3 of our research questions. That is:\n",
    "\n",
    "> 2-3: Do actors of certain ethnicity/gender groups appear more or less commonly in franchise movies? Are they depicted positively (hero/heroine) or negatively (villain) in the movie?"
   ]
  },
  {
   "cell_type": "markdown",
   "metadata": {},
   "source": [
    "#### Actor gender distribution\n",
    "To begin with, we'll look at actor gender distribution of franchise and non-franchise movies."
   ]
  },
  {
   "cell_type": "code",
   "execution_count": null,
   "metadata": {},
   "outputs": [],
   "source": [
    "# Calculate the proportion of each gender for character_df\n",
    "gender_proportion_non_fr = character_df[~character_df['is_in_franchise']]['Actor_gender'].value_counts()\n",
    "# Calculate the proportion of each gender for fr_character_df\n",
    "gender_proportion_franchise = character_df[character_df[\"is_in_franchise\"]]['Actor_gender'].value_counts()\n",
    "# Plot the gender proportions as pie charts side by side\n",
    "fig, axes = plt.subplots(1, 2, figsize=(8, 4))\n",
    "# Plot for fr_character_df\n",
    "gender_proportion_franchise.plot(kind='pie', ax=axes[0], autopct=custom_autopct(gender_proportion_franchise),\n",
    "                                 startangle=90, labels=['Male', 'Female'], colors=['#1f77b4', '#feb5da'],\n",
    "                                 fontsize=12)\n",
    "axes[0].set_ylabel('')\n",
    "axes[0].set_title('Franchise movies', fontsize=14)\n",
    "\n",
    "# Plot for character_df\n",
    "gender_proportion_non_fr.plot(kind='pie', ax=axes[1], autopct=custom_autopct(gender_proportion_non_fr),\n",
    "                           startangle=90, labels=['Male', 'Female'], colors=['#1f77b4', '#feb5da'], fontsize=12)\n",
    "axes[1].set_ylabel('')\n",
    "axes[1].set_title('Non-franchise movies', fontsize=14)\n",
    "# Set overarching title\n",
    "fig.suptitle('Gender distribution comparison', fontsize=18)\n",
    "plt.tight_layout()\n",
    "plt.show()"
   ]
  },
  {
   "cell_type": "markdown",
   "metadata": {},
   "source": [
    "It seems that actor gender distribution remains the same for franchise and non-franchise movies. This is unsurprising as most of us can agree that there are particulalry many female characters in franchise movies than non-franchise movies, at least anecdotally."
   ]
  },
  {
   "cell_type": "markdown",
   "metadata": {},
   "source": [
    "#### Racial group\n",
    "Next, we shift our focus to ethnicity groups. Contrary to actor gender information, actor ethnicity is not available for the majority of actors (available for 99719/395202 $\\approx$ 25.2%). Upon observing the dataset, we hypothesized that the actors with known ethnicity are those with more publicity and therefore, more likely to play main roles in the movies. The ethnicity distribution of these main actors can be representative of which racial group is more or less featured in the movie. Bearing this in mind, we will proceed to visualize actors' racial group distribution for franchise and non-franchise movies."
   ]
  },
  {
   "cell_type": "code",
   "execution_count": null,
   "metadata": {},
   "outputs": [],
   "source": [
    "# Define colors for racial groups\n",
    "colors = dict(zip(['White', 'Black', 'Asian', 'Middle Eastern', 'Hispanic', 'Native American', 'Others'], sns.color_palette(\"colorblind\", 7)))\n",
    "\n",
    "# Calculate the percentage of each racial group for franchise and non-franchise movies\n",
    "racial_proportion_franchise = character_df[character_df[\"is_in_franchise\"]].value_counts(\"racial_group\")\n",
    "racial_proportion_non_franchise = character_df[~character_df['is_in_franchise']].value_counts(\"racial_group\")\n",
    "percentage_fr = (racial_proportion_franchise / racial_proportion_franchise.sum()) * 100\n",
    "percentage_non_fr = (racial_proportion_non_franchise / racial_proportion_non_franchise.sum()) * 100\n",
    "fr_count = racial_proportion_franchise.sum()\n",
    "non_fr_count = racial_proportion_non_franchise.sum()\n",
    "\n",
    "# Plot the racial percentages as horizontal bar charts side by side\n",
    "fig, axes = plt.subplots(1, 2, figsize=(12, 4))\n",
    "\n",
    "# Plot for franchise movies\n",
    "bars_fr = percentage_fr.plot(kind='barh', ax=axes[0], color=[colors[group] for group in percentage_fr.index], edgecolor='black')\n",
    "axes[0].set_title(f'Franchise Movies (total: {fr_count})', fontsize=14)\n",
    "axes[0].set_xlabel('Percentage [%]')\n",
    "axes[0].set_ylabel('Racial Group')\n",
    "axes[0].invert_yaxis()  # Inverse y-axis\n",
    "axes[0].set_xlim(0, 55)  # Set x-axis range\n",
    "\n",
    "# Annotate bars with percentage values\n",
    "for bar in bars_fr.patches:\n",
    "    axes[0].text(bar.get_width() + 0.5, bar.get_y() + bar.get_height() / 2, f'{bar.get_width():.2f}%', va='center')\n",
    "\n",
    "# Plot for non-franchise movies\n",
    "bars_non_fr = percentage_non_fr.plot(kind='barh', ax=axes[1], color=[colors[group] for group in percentage_non_fr.index], edgecolor='black')\n",
    "axes[1].set_title(f'Non-Franchise Movies (total: {non_fr_count})', fontsize=14)\n",
    "axes[1].set_xlabel('Percentage [%]')\n",
    "axes[1].set_ylabel('Racial Group')\n",
    "axes[1].invert_yaxis()  # Inverse y-axis\n",
    "axes[1].set_xlim(0, 55)  # Set x-axis range\n",
    "\n",
    "# Annotate bars with percentage values\n",
    "for bar in bars_non_fr.patches:\n",
    "    axes[1].text(bar.get_width() + 0.5, bar.get_y() + bar.get_height() / 2, f'{bar.get_width():.2f}%', va='center', fontsize=12)\n",
    "\n",
    "# Set overarching title\n",
    "fig.suptitle('Racial Group Distribution Comparison', fontsize=18)\n",
    "\n",
    "plt.tight_layout()\n",
    "plt.show()"
   ]
  },
  {
   "cell_type": "markdown",
   "metadata": {},
   "source": [
    "The percentages in each of the plots above sum up to 100%. Notice that compared to non-franchise movies, franchise movies have fewer percentage of Asian actors (Franchise: 14.78%, Non-franchise: 31.18%). If we compared this to the 4 pie charts from `Countries repartition` section, the two pie charts on the righthand side of the figure show that the proporitions of movies from Asia (excluding Russia, Oceania and Middle East) in franchise and non-franchise movies are not as different as the disparity observed earlie in Asian actor percentages.\n",
    "\n",
    "This means that the disparity in the percentage of Asian actors comes from factors other than movie production location. It is hard to identify the exact cause for this from our analysis only, but a potential confounding factor is the difference in genres: perhaps certain movie genres are more likely to be franchised which are underrepresented by Asian actors."
   ]
  },
  {
   "cell_type": "markdown",
   "metadata": {},
   "source": [
    "#### Sentimental analysis"
   ]
  },
  {
   "cell_type": "markdown",
   "metadata": {},
   "source": [
    "In this section what are the typical adjectives used to positively or negatively describe the character?"
   ]
  },
  {
   "cell_type": "code",
   "execution_count": null,
   "metadata": {},
   "outputs": [],
   "source": [
    "# Generate text for positive and negative sentiment scores\n",
    "positive_text = \",\".join(character_df[character_df.sentiment_score > 0.1].Adjectives)\n",
    "negative_text = \",\".join(character_df[character_df.sentiment_score < -0.1].Adjectives)\n",
    "\n",
    "# Create word clouds\n",
    "positive_wordcloud = WordCloud(width=600, height=600, background_color='white',\n",
    "                               min_font_size=10, max_words=30).generate(positive_text)\n",
    "negative_wordcloud = WordCloud(width=600, height=600, background_color='white',\n",
    "                               min_font_size=10, max_words=30).generate(negative_text)\n",
    "\n",
    "# Plot the word clouds side by side\n",
    "fig, axes = plt.subplots(1, 2, figsize=(20, 10))\n",
    "\n",
    "axes[0].imshow(positive_wordcloud)\n",
    "axes[0].set_title('Positive Adjectives', fontsize=30, fontweight='bold')\n",
    "axes[0].axis('off')\n",
    "\n",
    "axes[1].imshow(negative_wordcloud)\n",
    "axes[1].set_title('Negative Adjectives', fontsize=30, fontweight='bold')\n",
    "axes[1].axis('off')\n",
    "\n",
    "plt.show()\n"
   ]
  },
  {
   "cell_type": "markdown",
   "metadata": {},
   "source": [
    "Box plot - no racial group stands out in terms of distribution."
   ]
  },
  {
   "cell_type": "code",
   "execution_count": null,
   "metadata": {},
   "outputs": [],
   "source": [
    "# Plot box plots of sentiment_score for each racial group\n",
    "plt.figure(figsize=(12, 8))\n",
    "character_df[character_df.is_in_franchise].dropna(subset=['sentiment_score']).boxplot(column='sentiment_score', by='racial_group', grid=False)\n",
    "movie_count = len(character_df.dropna(subset=['sentiment_score']))\n",
    "plt.title(f'Sentiment Scores by Racial Group (total: {movie_count})')\n",
    "plt.suptitle('')  # Suppress the default title to avoid overlap\n",
    "plt.xlabel('Racial Group')\n",
    "plt.ylabel('Sentiment Score')\n",
    "plt.xticks(rotation=45)\n",
    "plt.show()"
   ]
  },
  {
   "cell_type": "markdown",
   "metadata": {},
   "source": [
    "### Movie revenue box office"
   ]
  },
  {
   "cell_type": "code",
   "execution_count": 23,
   "metadata": {},
   "outputs": [],
   "source": [
    "franchise_revenue = franchise_df.dropna(subset=['real_revenue'])\n",
    "movies_revenue = movies_df.dropna(subset=['real_revenue']) \n",
    "movies_no_franchise_revenue = movies_no_franchise_df.dropna(subset=['real_revenue'])"
   ]
  },
  {
   "cell_type": "markdown",
   "metadata": {},
   "source": [
    "All the revenue and budget are renamed real because : all the expenses are tacking into account the inflation rate at for each movie release time using this formula : Real Price = Nominal Price (at the time) × CPI in Base Year / CPI in Year of Price\n",
    "The chosen base year is 2024. \n",
    "The CPI data are from the federal reserve bank of mineapolise (https://www.minneapolisfed.org/about-us/monetary-policy/inflation-calculator/consumer-price-index-1800) "
   ]
  },
  {
   "cell_type": "code",
   "execution_count": null,
   "metadata": {},
   "outputs": [],
   "source": [
    "all_revenue= pd.DataFrame({\n",
    "        'non-franchise movies': movies_no_franchise_revenue['real_revenue'], #movie_box['Movie box office revenue'],\n",
    "        'franchise movies': franchise_revenue['real_revenue'], # box_office_df['Movie box office revenue']\n",
    "        'all movies': movies_revenue['real_revenue']\n",
    "        })\n",
    "print(all_revenue.describe())\n",
    "#Box plot to compare Movie box office in film that are in franchise and those that are not\n",
    "fig, axes = plt.subplots(1, 2, figsize=(12, 6))\n",
    "    \n",
    "# Plot with outliers\n",
    "all_revenue.boxplot(ax=axes[0])\n",
    "axes[0].set_title('Box plot with outliers')\n",
    "    \n",
    "# Plot without outliers\n",
    "all_revenue.boxplot(ax=axes[1], showfliers=False)\n",
    "axes[1].set_title('Box plot without outliers')\n",
    "    \n",
    "fig.text(0.04, 0.5, 'Box Office Revenue [$]', va='center', rotation='vertical')\n",
    "plt.suptitle('Comparison of Movie Box Office Revenue ')\n",
    "plt.tight_layout(rect=[0.04, 0, 1, 0.96])\n",
    "plt.show()"
   ]
  },
  {
   "cell_type": "markdown",
   "metadata": {},
   "source": [
    "In average frachise movies gain five times more money then non franchise movies."
   ]
  },
  {
   "cell_type": "code",
   "execution_count": null,
   "metadata": {},
   "outputs": [],
   "source": [
    "ax = sns.barplot(data=all_revenue)\n",
    "plt.title('Bar chart of Movie Box Office Revenue', fontweight=\"bold\")\n",
    "plt.ylabel('Box Office Revenue')\n",
    "plt.show()\n",
    "\n",
    "# Perform independent (we assume they are) t-test (Welch's t-test, assuming unequal variances)\n",
    "t_stat, p_value = stats.ttest_ind(all_revenue['franchise movies'].dropna(), all_revenue['non-franchise movies'].dropna(), equal_var=False)\n",
    "print(\"T-test Results:\")\n",
    "print(f\"T-statistic: {t_stat:.4f}\")\n",
    "print(f\"P-value: {p_value:.4e}\")\n",
    "if p_value < 0.05:\n",
    "    print(\"The difference in means is statistically significant (p < 0.05).\")\n",
    "else:\n",
    "    print(\"The difference in means is not statistically significant (p >= 0.05).\")"
   ]
  },
  {
   "cell_type": "markdown",
   "metadata": {},
   "source": [
    "### Movie budget"
   ]
  },
  {
   "cell_type": "code",
   "execution_count": null,
   "metadata": {},
   "outputs": [],
   "source": [
    "all_budget= pd.DataFrame({\n",
    "        'non-franchise movies': movies_no_franchise_revenue['real_budget'], #movie_box['Movie box office revenue'],\n",
    "        'franchise movies': franchise_revenue['real_budget'], # box_office_df['Movie box office revenue']\n",
    "        'all movies': movies_revenue['real_budget']\n",
    "        })\n",
    "print(all_budget.describe())\n",
    "#Box plot to compare Movie box office in film that are in franchise and those that are not\n",
    "fig, axes = plt.subplots(1, 2, figsize=(12, 6))\n",
    "    \n",
    "# Plot with outliers\n",
    "all_budget.boxplot(ax=axes[0])\n",
    "axes[0].set_title('Box plot with outliers', fontweight='bold', fontsize=14)\n",
    "    \n",
    "# Plot without outliers\n",
    "all_budget.boxplot(ax=axes[1], showfliers=False)\n",
    "axes[1].set_title('Box plot without outliers', fontweight='bold', fontsize=14)\n",
    "    \n",
    "fig.text(0.04, 0.5, 'Movie budget [$]', va='center', rotation='vertical')\n",
    "plt.suptitle('Comparison of movie budget', fontweight='bold', fontsize=20)\n",
    "plt.tight_layout(rect=[0.04, 0, 1, 0.96])\n",
    "plt.show()"
   ]
  },
  {
   "cell_type": "markdown",
   "metadata": {},
   "source": [
    "In average, franchise movies has twice the budget then non franchise movies. "
   ]
  },
  {
   "cell_type": "markdown",
   "metadata": {},
   "source": [
    "Comparing movie revenue and budget along the movie order in a collection"
   ]
  },
  {
   "cell_type": "code",
   "execution_count": null,
   "metadata": {},
   "outputs": [],
   "source": [
    "plt.figure(figsize=(10, 6))\n",
    "expenses = franchise_revenue[franchise_revenue['movie_order'] <= 11].melt(id_vars='movie_order', value_vars=['real_revenue', 'real_budget'], \n",
    "                                 var_name='Type', value_name='expenses')\n",
    "sns.barplot(x='movie_order', y='expenses', hue='Type', data=expenses, palette=['skyblue', 'darkblue'])\n",
    "\n",
    "plt.xlabel('Movie Order')\n",
    "plt.ylabel('Expenses [$]')\n",
    "plt.title('Mean revenue and mean budget of movies by their order in the collection',fontsize=14, fontweight='bold')\n",
    "plt.legend()\n",
    "plt.show()"
   ]
  },
  {
   "cell_type": "code",
   "execution_count": null,
   "metadata": {},
   "outputs": [],
   "source": [
    "all_ratio = pd.DataFrame({\n",
    "        'non-franchise movies': movies_no_franchise_revenue['real_revenue']/movies_no_franchise_revenue['real_budget'],\n",
    "        'franchise movies': franchise_revenue['ratio_revenue_budget'],\n",
    "        })\n",
    "\n",
    "fig.text(0.04, 0.5, 'Ratio Revenue over budget', va='center', rotation='vertical')\n",
    "\n",
    "# Plot without outliers\n",
    "sns.boxplot(all_ratio,color='skyblue', showfliers=False)\n",
    "plt.title('Mean ratio (revenue/budget) sorted by their order in the franchise (ouliters excluded)', fontsize=14, fontweight='bold')\n",
    "plt.ylabel('Ratio revenue over budget')\n",
    "plt.tight_layout(rect=[0.04, 0, 1, 0.96])\n",
    "plt.show()"
   ]
  },
  {
   "cell_type": "markdown",
   "metadata": {},
   "source": [
    "In average franchise movies has a twice the revenu over budget ratio then other (non franchise:1.501632 ; franchise 3.647577). This implies that with less expenses (budget) a franchise movie tends to gain more revenue. Hence it could be a less risky investement then a single movie. Be aware, the median does not give the same result. Be aware, the median does not give the same result. "
   ]
  },
  {
   "cell_type": "code",
   "execution_count": null,
   "metadata": {},
   "outputs": [],
   "source": [
    "plt.figure(figsize=(10, 6))\n",
    "sns.boxplot(x=\"movie_order\", y=\"ratio_revenue_budget\", data=franchise_revenue[franchise_revenue['movie_order'] <= 11], color='skyblue', showfliers=False)\n",
    "plt.xlabel('Movie Order')\n",
    "plt.ylabel('Ratio revenue over budget')\n",
    "plt.title('Mean ratio (revenue/budget) sorted by their order in the franchise (ouliters excluded)', fontsize=14, fontweight='bold')\n",
    "plt.show()"
   ]
  },
  {
   "cell_type": "markdown",
   "metadata": {},
   "source": [
    "Franchise with revenue and budget values exist, and more then 11 movies, but only a few. Therefore we don't have enough information for movies that are the twelth and more. This is why they are not shown. "
   ]
  },
  {
   "cell_type": "markdown",
   "metadata": {},
   "source": [
    "The plot under is an exemple of the interaction plot that you can find in the web site page 2"
   ]
  },
  {
   "cell_type": "code",
   "execution_count": null,
   "metadata": {},
   "outputs": [],
   "source": [
    "sw = franchise_revenue[franchise_revenue['collection_name'] == 'Star Wars Collection'].sort_values(by='release_year')\n",
    "\n",
    "Star_wars = sw.melt(id_vars='Movie name', value_vars=['real_budget','real_revenue'], \n",
    "                             var_name='Value', value_name='Expenses [$]')\n",
    "\n",
    "sns.barplot(x='Movie name', y='Expenses [$]', hue='Value', data=Star_wars, palette=['skyblue', 'darkblue'])\n",
    "plt.title('Budget and Revenue of Star Wars Franchises')\n",
    "plt.xticks(rotation=45, ha='right')\n",
    "plt.show()"
   ]
  },
  {
   "cell_type": "markdown",
   "metadata": {},
   "source": [
    "## Bivariate analysis "
   ]
  },
  {
   "cell_type": "markdown",
   "metadata": {},
   "source": [
    "In this part we're going to look at the possible interaction 2 features have with another, this the first step to try to observe patterns or links."
   ]
  },
  {
   "cell_type": "markdown",
   "metadata": {},
   "source": [
    "### Movie revenue \\& budget "
   ]
  },
  {
   "cell_type": "code",
   "execution_count": null,
   "metadata": {},
   "outputs": [],
   "source": [
    "fig, axes = plt.subplots(1, 3, figsize=(18, 6))\n",
    " \n",
    "# scatter plot of the real budget and years diff bt pre movies\n",
    "sns.scatterplot(x='real_revenue', y='real_budget',data=movies_no_franchise_revenue,alpha=.25, ax=axes[0])\n",
    "\n",
    "# scatter plot of the real revenue and years diff bt pre movies\n",
    "sns.scatterplot(x='real_revenue', y='real_budget', data=franchise_revenue,alpha=.25, ax=axes[1])\n",
    "\n",
    "# scatter plot of the real profit and years diff bt pre movies\n",
    "sns.scatterplot(x='real_revenue', y='real_budget', data=movies_revenue,alpha=.25, ax=axes[2])\n",
    "# Calculate Pearson correlation\n",
    "\n",
    "pearson_corr_df = pd.DataFrame({\n",
    "    'Movies': ['All Movies', 'Franchise Movies', 'Non-Franchise Movies'],\n",
    "    'Pearson Correlation': [\n",
    "        movies_revenue[['real_revenue', 'real_budget']].corr(method='pearson').iloc[0, 1],\n",
    "        franchise_revenue[['real_revenue', 'real_budget']].corr(method='pearson').iloc[0, 1],\n",
    "        movies_no_franchise_revenue[['real_revenue', 'real_budget']].corr(method='pearson').iloc[0, 1]\n",
    "    ]\n",
    "})\n",
    "\n",
    "spearman_corr_df = pd.DataFrame({'Movies': ['All Movies', 'Franchise Movies', 'Non-Franchise Movies'],\n",
    "    'Pearson Correlation': [\n",
    "        movies_revenue[['real_revenue', 'real_budget']].corr(method='spearman').iloc[0, 1],\n",
    "        franchise_revenue[['real_revenue', 'real_budget']].corr(method='spearman').iloc[0, 1],\n",
    "        movies_no_franchise_revenue[['real_revenue', 'real_budget']].corr(method='spearman').iloc[0, 1]\n",
    "    ]\n",
    "})\n",
    "\n",
    "axes[0].set_title(f'Not in franchise movies\\n'f'Pearson Correlation: {pearson_corr_df.iloc[0,1]:.2f}\\nSpearman Correlation: {spearman_corr_df.iloc[0,1]:.2f}')\n",
    "axes[1].set_title(f'Franchise movies\\n'f'Pearson Correlation: {pearson_corr_df.iloc[1,1]:.2f}\\nSpearman Correlation: {spearman_corr_df.iloc[1,1]:.2f}')\n",
    "axes[2].set_title(f'All movies\\n'f'Pearson Correlation: {pearson_corr_df.iloc[2,1]:.2f}\\nSpearman Correlation: {spearman_corr_df.iloc[2,1]:.2f}');\n"
   ]
  },
  {
   "cell_type": "markdown",
   "metadata": {},
   "source": [
    "A significant correlation is observed between budget and revenue, which increases for franchsie movies. "
   ]
  },
  {
   "cell_type": "markdown",
   "metadata": {},
   "source": [
    "### Genre \\& revenue"
   ]
  },
  {
   "cell_type": "code",
   "execution_count": null,
   "metadata": {},
   "outputs": [],
   "source": [
    "# Explode the genres column so that each genre gets its own row\n",
    "exploded_df = franchise_df.explode('genres').reset_index(drop=True).sort_values(by='real_revenue', ascending=False)\n",
    "# Sort the genres by their average revenue\n",
    "genre_revenue = exploded_df.groupby('genres')['real_revenue'].mean().sort_values(ascending=False).index\n",
    "exploded_df['genres'] = pd.Categorical(exploded_df['genres'], categories=genre_revenue, ordered=True)\n",
    "ax = sns.barplot(x=\"genres\", y=\"real_revenue\", data=exploded_df)\n",
    "plt.ylabel('Adjusted box Office Revenue')\n",
    "plt.xlabel('Genre')\n",
    "plt.title('Adjusted box Office Revenue by Genre, all movies in franchise')\n",
    "plt.xticks(rotation=90)  # Rotate x-axis labels for better readability\n",
    "plt.show()\n",
    "#print(exploded_df.groupby('genres')['real_revenue'].describe())"
   ]
  },
  {
   "cell_type": "markdown",
   "metadata": {},
   "source": [
    "We see that Adventure, Fantasy, and Animation are the highest-grossing genres for franchise movies.\n",
    "\n",
    "NB : If a category doesn't have a barplot, it means that there is no data. Lack of error bars means only one movie is in that category.\n",
    "\n",
    "Now, let's look at the profit, between the first and the second movie :"
   ]
  },
  {
   "cell_type": "code",
   "execution_count": null,
   "metadata": {
    "vscode": {
     "languageId": "ruby"
    }
   },
   "outputs": [],
   "source": [
    "f_and_s = exploded_df[exploded_df['movie_order'].isin([1.0, 2.0])] # First and second movies in each collection\n",
    "print(len(f_and_s))\n",
    "ax = sns.barplot(x=\"genres\", y=\"ratio_revenue_budget\", data=f_and_s.sort_values(by='ratio_revenue_budget', ascending = True), hue='movie_order', palette='bright')\n",
    "plt.ylabel('Revenue to Budget Ratio')\n",
    "plt.xlabel('Genre')\n",
    "plt.title('Revenue to Budget Ratio by Genre, and order')\n",
    "plt.yscale('log')  # Logarithmic scale for better readability\n",
    "plt.xticks(rotation=90)  # Rotate x-axis labels for better readability\n",
    "plt.show()\n",
    "\n",
    "# Keep first and second movies separately\n",
    "high_ratio_second_movies = f_and_s[(f_and_s['movie_order'] == 2)].sort_values(by='ratio_revenue_budget', ascending=False)\n",
    "high_ratio_first_movies = f_and_s[(f_and_s['movie_order'] == 1)].sort_values(by='ratio_revenue_budget', ascending=False)\n",
    "\n",
    "# Print the filtered DataFrame\n",
    "print(\"First movies :\\n\", high_ratio_first_movies[['Movie name', 'genres', 'ratio_revenue_budget']].head(10), \"\\n Second movies :\\n\", high_ratio_second_movies[['Movie name', 'genres', 'ratio_revenue_budget']].head(10))"
   ]
  },
  {
   "cell_type": "markdown",
   "metadata": {},
   "source": [
    "Action and adventure movies have higher revenue/budget ratio in second movie vs in first, but very high error bars: we decided to look at the eventual outliers, and found notably kickboxer 2. We notice that it is the only one of the kickboxers to have the ratio data: we therefore decided to filter out the movies that are the only ones to have the money information from their collection."
   ]
  },
  {
   "cell_type": "code",
   "execution_count": null,
   "metadata": {
    "vscode": {
     "languageId": "ruby"
    }
   },
   "outputs": [],
   "source": [
    "f_and_s_filtered = f_and_s.groupby('collection_id').filter(lambda x: x['ratio_revenue_budget'].notna().all())\n",
    "print(len(f_and_s_filtered))\n",
    "ax = sns.barplot(x=\"genres\", y=\"ratio_revenue_budget\", data=f_and_s_filtered.sort_values(by='ratio_revenue_budget', ascending = True), hue='movie_order', palette='bright')\n",
    "plt.ylabel('Revenue to Budget Ratio')\n",
    "plt.xlabel('Genre')\n",
    "plt.title('Revenue to Budget Ratio by Genre, and order')\n",
    "plt.yscale('log')  # Logarithmic scale for better readability\n",
    "plt.xticks(rotation=90)  # Rotate x-axis labels for better readability\n",
    "plt.show()\n",
    "\n",
    "# Filter the second movies with higher ratio_revenue_budget\n",
    "high_ratio_second_movies = f_and_s_filtered[(f_and_s_filtered['movie_order'] == 2)].sort_values(by='ratio_revenue_budget', ascending=False)\n",
    "high_ratio_first_movies = f_and_s_filtered[(f_and_s_filtered['movie_order'] == 1)].sort_values(by='ratio_revenue_budget', ascending=False)\n",
    "\n",
    "# Print the filtered DataFrame\n",
    "print(\"First movies :\\n\", high_ratio_first_movies[['Movie name', 'genres', 'ratio_revenue_budget']].head(10), \"\\n Second movies :\\n\", high_ratio_second_movies[['Movie name', 'genres', 'ratio_revenue_budget']].head(10))"
   ]
  },
  {
   "cell_type": "markdown",
   "metadata": {},
   "source": [
    "After that, we see that the first movie works a lot better than the second, for every category. We still have around 1500 movies, which is still good. And if we look at the box-office performance only ?"
   ]
  },
  {
   "cell_type": "code",
   "execution_count": null,
   "metadata": {
    "vscode": {
     "languageId": "ruby"
    }
   },
   "outputs": [],
   "source": [
    "# Sort the genres by their average revenue\n",
    "genre_revenue = f_and_s_filtered.groupby('genres')['real_revenue'].mean().sort_values(ascending=False).index\n",
    "f_and_s_filtered['genres'] = pd.Categorical(f_and_s_filtered['genres'], categories=genre_revenue, ordered=True)\n",
    "ax = sns.barplot(x=\"genres\", y=\"real_revenue\", data=f_and_s, hue='movie_order', palette='bright')\n",
    "plt.ylabel('Adjusted box Office Revenue')\n",
    "plt.xlabel('Genre')\n",
    "plt.title('Adjusted Revenue by Genre, only first and second movies in each collection')\n",
    "plt.xticks(rotation=90)\n",
    "plt.show()\n",
    "print(len(f_and_s_filtered))"
   ]
  },
  {
   "cell_type": "markdown",
   "metadata": {},
   "source": [
    "Except for thrillers, Crime, Romance and Documentaries, the first movie performs on average better than the second. Nonetheless, they were still less profitable than the first movies.\n",
    "\n",
    "And just to be sure, let's look at the first plot again, but with the filtered data:"
   ]
  },
  {
   "cell_type": "code",
   "execution_count": null,
   "metadata": {
    "vscode": {
     "languageId": "ruby"
    }
   },
   "outputs": [],
   "source": [
    "# Sort the genres by their average revenue\n",
    "exploded_filtered = exploded_df.groupby('collection_id').filter(lambda x: x['real_revenue'].notna().all())\n",
    "# Sort the genres by their average revenue\n",
    "genre_revenue = exploded_filtered.groupby('genres')['real_revenue'].mean().sort_values(ascending=False).index\n",
    "exploded_filtered['genres'] = pd.Categorical(exploded_filtered['genres'], categories=genre_revenue, ordered=True)\n",
    "ax = sns.barplot(x=\"genres\", y=\"real_revenue\", data=exploded_filtered)\n",
    "plt.ylabel('Adjusted box Office Revenue')\n",
    "plt.xlabel('Genre')\n",
    "plt.title('Adjusted box Office Revenue by Genre, all movies in franchise')\n",
    "plt.xticks(rotation=90)  # Rotate x-axis labels for better readability\n",
    "plt.show()"
   ]
  },
  {
   "cell_type": "markdown",
   "metadata": {},
   "source": [
    "We see that the 8 highest-grossing genres for the entire collections are still the same !"
   ]
  },
  {
   "cell_type": "markdown",
   "metadata": {},
   "source": [
    "### Genre \\& movie order"
   ]
  },
  {
   "cell_type": "code",
   "execution_count": null,
   "metadata": {},
   "outputs": [],
   "source": [
    "# Create a bar plot of the number of genres depending on the order of the movie in a franchise\n",
    "drop_no_genre = franchise_df[franchise_df['num_genres'] > 0]\n",
    "plt.figure(figsize=(12, 6))\n",
    "sns.barplot(x='movie_order', y='num_genres', data=drop_no_genre)\n",
    "\n",
    "# Add labels and title\n",
    "plt.xlabel('Movie Order')\n",
    "plt.ylabel('Number of Genres')\n",
    "plt.title('Number of Genres in a Movie Depending on the Order of the Movie in a Franchise')\n",
    "# Rotate bar x-axis labels plot for better readability\n",
    "plt.xticks(rotation=90)\n",
    "# Adjust layout to add padding\n",
    "plt.tight_layout(pad=3.0)\n",
    "\n",
    "# Show the plot\n",
    "plt.show();"
   ]
  },
  {
   "cell_type": "markdown",
   "metadata": {},
   "source": [
    "We know that 75% of the franchises have between 2 and 4 movies, and here we can see that for these franchises, and for the first movies of longer franchises, the number of genres does not seem to change much. Maybe they switched though ? \n",
    "And for longer franchises, we see that the number of genres seems to decrease, and oscillate quite weirdly.\n",
    "Now, let's see if the genres change between two consecutive movies"
   ]
  },
  {
   "cell_type": "code",
   "execution_count": null,
   "metadata": {},
   "outputs": [],
   "source": [
    "# Reset the index of the DataFrame\n",
    "drop_no_genre = drop_no_genre.reset_index(drop=True)\n",
    "\n",
    "# Create a new column to indicate if the genre switched between two movies in a franchise\n",
    "drop_no_genre['genre_switched'] = drop_no_genre.groupby('collection_id')['genres'].apply(lambda x: x != x.shift()).reset_index(drop=True)\n",
    "\n",
    "# Plot for every movie in the franchise\n",
    "fig, ax = plt.subplots(figsize=(10, 6))\n",
    "sns.countplot(x='movie_order', hue='genre_switched', data=drop_no_genre[['movie_order', 'genre_switched']].astype(int), palette='Set1', ax=ax)\n",
    "ax.set_xlabel('Movie Order')\n",
    "ax.set_ylabel('Count')\n",
    "ax.set_title('Genre Switch Between Consecutive Movies in a Franchise')\n",
    "ax.legend(title='Genre Switched', labels=['No', 'Yes'])\n",
    "ax.set_yscale('log')\n",
    "# Ensure x-axis labels are integers\n",
    "ax.set_xticklabels(ax.get_xticklabels(), rotation=90)\n",
    "\n",
    "plt.show()"
   ]
  },
  {
   "cell_type": "code",
   "execution_count": null,
   "metadata": {},
   "outputs": [],
   "source": [
    "# Filter the DataFrame to include only the first and second movies in each franchise\n",
    "first_and_second_movies = drop_no_genre[drop_no_genre['movie_order'].isin([1, 2])]\n",
    "\n",
    "# Pivot the DataFrame to have one row per franchise and columns for the genres of the first and second movies\n",
    "pivot_df = first_and_second_movies.pivot(index='collection_id', columns='movie_order', values='genres')\n",
    "\n",
    "# Create a new column to indicate if the genres are the same between the first and second movies\n",
    "pivot_df['same_genres'] = pivot_df[1] == pivot_df[2]\n",
    "\n",
    "# Plot the comparison\n",
    "fig, ax = plt.subplots(figsize=(10, 6))\n",
    "# Calculate the error bars\n",
    "error_bars = pivot_df['same_genres'].astype(int).value_counts().apply(lambda x: np.sqrt(x))\n",
    "\n",
    "# Plot with error bars\n",
    "sns.countplot(x=pivot_df['same_genres'].astype(int), ax=ax)\n",
    "ax.errorbar(x=[0, 1], y=pivot_df['same_genres'].astype(int).value_counts(), yerr=error_bars, fmt='none', c='black', capsize=5)\n",
    "ax.set_xlabel('Same Genres (0 = No, 1 = Yes)')\n",
    "ax.set_ylabel('Count')\n",
    "ax.set_title('Comparison of Genres Between First and Second Movies in a Franchise')\n",
    "ax.set_xticklabels(['No', 'Yes'])\n",
    "\n",
    "plt.show()"
   ]
  },
  {
   "cell_type": "markdown",
   "metadata": {},
   "source": [
    "ajouter ça si possible dans une lin reg / trees etc, mais attention ! certains films ont 0 genres, mais n'ont pas le ratio non plus !\n",
    "j'ai ajouté dans utils !"
   ]
  },
  {
   "cell_type": "markdown",
   "metadata": {},
   "source": [
    "### Budget \\& revenue"
   ]
  },
  {
   "cell_type": "markdown",
   "metadata": {},
   "source": [
    "#### Average revenue of a franchise and length of a franchise, frequency and number of movie "
   ]
  },
  {
   "cell_type": "code",
   "execution_count": null,
   "metadata": {},
   "outputs": [],
   "source": [
    "fig, axes = plt.subplots(1, 3, figsize=(18, 6))\n",
    "\n",
    "# Scatter plot of total revenue_avg vs length of a franchise\n",
    "axes[0].scatter(franchise_data_df['franchise_length_years'], franchise_data_df['revenue_avg'], alpha=0.25)\n",
    "axes[0].set_title('Total revenue_avg vs Length of Franchise')\n",
    "axes[0].set_xlabel('Franchise Length (years)')\n",
    "axes[0].set_ylabel('Total revenue_avg')\n",
    "\n",
    "\n",
    "# Scatter plot of total revenue_avg vs average years between movies\n",
    "axes[1].scatter(franchise_data_df['average_years_bt_movies'], franchise_data_df['revenue_avg'], alpha=0.25)\n",
    "axes[1].set_title('Total revenue_avg vs Average Years Between Movies')\n",
    "axes[1].set_xlabel('Average Years Between Movies')\n",
    "axes[1].set_ylabel('Total revenue_avg')\n",
    "\n",
    "\n",
    "# Scatter plot of total revenue_avg vs number of movies in the franchise\n",
    "axes[2].scatter(franchise_data_df['movie_count'], franchise_data_df['revenue_avg'], alpha=0.25)\n",
    "axes[2].set_title('revenue_avg vs Number of Movies')\n",
    "axes[2].set_xlabel('Number of Movies')\n",
    "axes[2].set_ylabel('Total revenue_avg')\n",
    "\n",
    "plt.tight_layout()\n",
    "\n",
    "# Calculate Pearson and Spearman correlations\n",
    "pearson_corr_length = stats.pearsonr(franchise_data_df.dropna(subset=['franchise_length_years','revenue_avg'])['franchise_length_years'],franchise_data_df.dropna(subset=['franchise_length_years','revenue_avg'])['revenue_avg'])\n",
    "spearman_corr_length = stats.spearmanr(franchise_data_df.dropna(subset=['franchise_length_years','revenue_avg'])['franchise_length_years'],franchise_data_df.dropna(subset=['franchise_length_years','revenue_avg'])['revenue_avg'])\n",
    "\n",
    "pearson_corr_average = stats.pearsonr(franchise_data_df.dropna(subset=['average_years_bt_movies','revenue_avg'])['average_years_bt_movies'],franchise_data_df.dropna(subset=['average_years_bt_movies','revenue_avg'])['revenue_avg'])\n",
    "spearman_corr_average = stats.spearmanr(franchise_data_df.dropna(subset=['average_years_bt_movies','revenue_avg'])['average_years_bt_movies'],franchise_data_df.dropna(subset=['average_years_bt_movies','revenue_avg'])['revenue_avg'])\n",
    "\n",
    "pearson_corr_count = stats.pearsonr(franchise_data_df.dropna(subset=['movie_count','revenue_avg'])['movie_count'],franchise_data_df.dropna(subset=['movie_count','revenue_avg'])['revenue_avg'])\n",
    "spearman_corr_count = stats.spearmanr(franchise_data_df.dropna(subset=['movie_count','revenue_avg'])['movie_count'],franchise_data_df.dropna(subset=['movie_count','revenue_avg'])['revenue_avg'])\n",
    "\n",
    "\n",
    "# Add correlation text to the plots\n",
    "axes[0].text(0.05, 0.95, f'Pearson: {pearson_corr_length.statistic:.2f} Pvalue: {pearson_corr_length.pvalue:.2e}\\nSpearman: {spearman_corr_length.statistic:.2f} Pvalue: {spearman_corr_length.pvalue:.2e}', \n",
    "             transform=axes[0].transAxes, verticalalignment='top')\n",
    "\n",
    "axes[1].text(0.05, 0.95, f'Pearson: {pearson_corr_average.statistic:.2f} Pvalue: {pearson_corr_average.pvalue:.2e}\\nSpearman: {spearman_corr_average.statistic:.2f} Pvalue: {spearman_corr_average.pvalue:.2e}',\n",
    "             transform=axes[1].transAxes, verticalalignment='top')\n",
    "\n",
    "axes[2].text(0.05, 0.95, f'Pearson: {pearson_corr_count.statistic:.2f} Pvalue: {pearson_corr_count.pvalue:.2e}\\nSpearman: {spearman_corr_count.statistic:.2f} Pvalue: {spearman_corr_count.pvalue:.2e}',\n",
    "             transform=axes[2].transAxes, verticalalignment='top')\n",
    "\n",
    "plt.show()"
   ]
  },
  {
   "cell_type": "markdown",
   "metadata": {},
   "source": [
    "We don't observe a significant correlation, but there seems to be a range where the high budget movies lies in."
   ]
  },
  {
   "cell_type": "markdown",
   "metadata": {},
   "source": [
    "#### Box office of a movie and the average vote of a movie vs the year difference between the movies"
   ]
  },
  {
   "cell_type": "code",
   "execution_count": null,
   "metadata": {},
   "outputs": [],
   "source": [
    "# Create a copy of the franchise data since modification will be made\n",
    "franchise_df_temp = franchise_df.copy()\n",
    "\n",
    "# Replace NaN values in 'years_diff_bt_pre_movies' with -1\n",
    "franchise_df_temp['years_diff_bt_pre_movies'].fillna(-1, inplace=True)\n",
    "\n",
    "# Create a color map for the scatter plot\n",
    "colors = franchise_df_temp['years_diff_bt_pre_movies'].apply(lambda x: 'red' if x == -1 else 'blue')\n",
    "\n",
    "fig, axes = plt.subplots(1, 2, figsize=(12, 6))\n",
    "\n",
    "# Scatter plot of years difference vs box office merge\n",
    "axes[0].scatter(franchise_df_temp['years_diff_bt_pre_movies'], franchise_df_temp['real_revenue'], c=colors, alpha=0.5)\n",
    "axes[0].set_title('Box Office vs Years Difference from Previous Movie')\n",
    "axes[0].set_xlabel('Years Difference from Previous Movie')\n",
    "axes[0].set_ylabel('Box Office Merge')\n",
    "axes[0].set_yscale('log')\n",
    "\n",
    "# Scatter plot of years difference vs vote average\n",
    "axes[1].scatter(franchise_df_temp['years_diff_bt_pre_movies'], franchise_df_temp['vote_average'], c=colors, alpha=0.5)\n",
    "axes[1].set_title('Vote Average vs Years Difference from Previous Movie')\n",
    "axes[1].set_xlabel('Years Difference from Previous Movie')\n",
    "axes[1].set_ylabel('Vote Average')\n",
    "axes[1].set_ylim(0, 10)\n",
    "\n",
    "# Add legend to the plot\n",
    "first_movie_patch = plt.Line2D([0], [0], marker='o', color='w', markerfacecolor='red', markersize=10, label='First Movie')\n",
    "other_movies_patch = plt.Line2D([0], [0], marker='o', color='w', markerfacecolor='blue', markersize=10, label='Other Movies')\n",
    "axes[0].legend(handles=[first_movie_patch, other_movies_patch], loc='upper right')\n",
    "axes[1].legend(handles=[first_movie_patch, other_movies_patch], loc='upper right')\n",
    "\n",
    "plt.tight_layout()\n",
    "\n",
    "# Filter out rows where 'years_diff_bt_pre_movies' is -1\n",
    "filtered_franchise_df_temp = franchise_df_temp[franchise_df_temp['years_diff_bt_pre_movies'] != -1]\n",
    "\n",
    "# Calculate Pearson and Spearman correlations\n",
    "pearson_corr_years_diff_box_office = filtered_franchise_df_temp[['years_diff_bt_pre_movies', 'real_revenue']].corr(method='pearson').iloc[0, 1]\n",
    "spearman_corr_years_diff_box_office = filtered_franchise_df_temp[['years_diff_bt_pre_movies', 'real_revenue']].corr(method='spearman').iloc[0, 1]\n",
    "\n",
    "pearson_corr_years_diff_vote_average = filtered_franchise_df_temp[['years_diff_bt_pre_movies', 'vote_average']].corr(method='pearson').iloc[0, 1]\n",
    "spearman_corr_years_diff_vote_average = filtered_franchise_df_temp[['years_diff_bt_pre_movies', 'vote_average']].corr(method='spearman').iloc[0, 1]\n",
    "\n",
    "# Add correlation text to the plots\n",
    "axes[0].text(0.05, 0.95, f'Pearson: {pearson_corr_years_diff_box_office:.2f}\\nSpearman: {spearman_corr_years_diff_box_office:.2f}', \n",
    "             transform=axes[0].transAxes, verticalalignment='top')\n",
    "\n",
    "axes[1].text(0.05, 0.95, f'Pearson: {pearson_corr_years_diff_vote_average:.2f}\\nSpearman: {spearman_corr_years_diff_vote_average:.2f}', \n",
    "             transform=axes[1].transAxes, verticalalignment='top')\n",
    "\n",
    "plt.show()\n"
   ]
  },
  {
   "cell_type": "markdown",
   "metadata": {},
   "source": [
    "Note that the first movies were assigned the value -1 to differentiate them from the rest of the movies but still have them on the plot (they are not taking into account for the correlation). We observe no significant correlation for both "
   ]
  },
  {
   "cell_type": "markdown",
   "metadata": {},
   "source": [
    "### Budget/revenue & vote"
   ]
  },
  {
   "cell_type": "code",
   "execution_count": null,
   "metadata": {},
   "outputs": [],
   "source": [
    "fig, axes = plt.subplots(1, 3, figsize=(18, 8))\n",
    " \n",
    "# scatter plot of the real budget and vote average\n",
    "sns.scatterplot(x='vote_average', y='real_budget', data=franchise_df,alpha=.25, ax=axes[0])\n",
    "\n",
    "# scatter plot of the real revenue and vote average\n",
    "sns.scatterplot(x='vote_average', y='real_revenue', data=franchise_df,alpha=.25, ax=axes[1])\n",
    "\n",
    "# scatter plot of the real profit and vote average\n",
    "sns.scatterplot(x='vote_average', y='real_profit', data=franchise_df,alpha=.25, ax=axes[2])\n",
    "\n",
    "# Calculate the person and spearmann correlation\n",
    "person_corr = franchise_df[['vote_average','real_budget','real_revenue', 'real_profit']].corr(method='pearson')\n",
    "spearman_corr = franchise_df[['vote_average','real_budget','real_revenue', 'real_profit']].corr(method='spearman')\n",
    "\n",
    "axes[0].set_title('Budget vs Vote Average',fontsize=18,fontweight='bold')\n",
    "axes[1].set_title('Revenue vs Vote Average',fontsize=18,fontweight='bold')\n",
    "axes[2].set_title('Profit vs Vote Average',fontsize=18,fontweight='bold')\n",
    "\n",
    "axes[0].text(0.05, 0.95,f'Pearson Correlation: {person_corr.iloc[0,1]:.2f}\\nSpearman Correlation: {spearman_corr.iloc[0,1]:.2f}',transform=axes[0].transAxes, verticalalignment='top')\n",
    "axes[1].text(0.05, 0.95,f'Pearson Correlation: {person_corr.iloc[0,2]:.2f}\\nSpearman Correlation: {spearman_corr.iloc[0,2]:.2f}',transform=axes[1].transAxes, verticalalignment='top')\n",
    "axes[2].text(0.05, 0.95,f'Pearson Correlation: {person_corr.iloc[0,3]:.2f}\\nSpearman Correlation: {spearman_corr.iloc[0,3]:.2f}',transform=axes[2].transAxes, verticalalignment='top')\n",
    "plt.show()"
   ]
  },
  {
   "cell_type": "markdown",
   "metadata": {},
   "source": [
    "Here, we see that the profit has the highest linear relationship with the vote !"
   ]
  },
  {
   "cell_type": "markdown",
   "metadata": {},
   "source": [
    "## Shapley value analysis: what is the recipe for franchise movies?"
   ]
  },
  {
   "cell_type": "markdown",
   "metadata": {},
   "source": [
    "In our univarariate and bivariate analysis, we explored the wealth of information associated with each movie and the interaction between variables. However, it is difficult to conclude what variables characterize franchise movies the most from these previous analyses only.\n",
    "\n",
    "**Shapley value comes into rescue**:\n",
    "\n",
    "Instead of directly inspecting relationship between variables, we can also train a model to predict whether the subsequent movie exists for an individual movie or not, and run feature importance analysis. We use a concept from cooperative game theory called “Shapley value”. The advantage Shapley value over regular feature importance is that, it also provides information about whether each feature contributes positively or negatively to the prediction! We trained `HistGradientBoostingClassifier`, a tree based model from scikit-learn and calculate Shapley values for various binary-encoded features about genres, ethnicity, country and other numerical variables.\n",
    "\n",
    "Let's first look at how well the model is performing. Note that our target variable `in_franchise` is already balanced. We have more non-franchise movies in the dataset, so non-franchise movies were subsampled to match the number of franchise movies. We only take franchise movies that are the first in their respective franchise and have the second movie into consideration."
   ]
  },
  {
   "cell_type": "code",
   "execution_count": null,
   "metadata": {},
   "outputs": [],
   "source": [
    "tree_df = get_tree_df(franchise_df, movies_no_franchise_df, RANDOM_STATE)\n",
    "X_train, X_test, y_train, y_test = train_test_split(tree_df.drop(columns=[\"in_franchise\"]), tree_df[\"in_franchise\"], test_size=0.3)\n",
    "clf = HistGradientBoostingClassifier(max_iter=100, random_state=RANDOM_STATE)\n",
    "clf.fit(X_train, y_train)\n",
    "print(\"Test accuracy:\", clf.score(X_test, y_test))"
   ]
  },
  {
   "cell_type": "markdown",
   "metadata": {},
   "source": [
    "It looks like test accuracy is at 81.7% which is significantly better than the baseline (50% for binary prediction)! Our model is working. Let's create a summary plot for Shapley value analysis next."
   ]
  },
  {
   "cell_type": "code",
   "execution_count": 44,
   "metadata": {},
   "outputs": [],
   "source": [
    "#run_importance(clf, X_train, X_test, y_test, target_name=\"in_franchise\", save_dir=\"data/shapley_result\", random_state=RANDOM_STATE)"
   ]
  },
  {
   "cell_type": "code",
   "execution_count": null,
   "metadata": {},
   "outputs": [],
   "source": [
    "# commented out so that it won't run again and again\n",
    "#run_importance(clf, X_train, X_test, y_test, target_name=\"in_franchise\", save_dir=\"data/shapley_result\", random_state=RANDOM_STATE)\n",
    "shap_plot = plt.imread(\"data/shapley_result/shap_summary_plot_in_franchise.jpg\")\n",
    "plt.figure(figsize=(8,10))  # Set the plot size\n",
    "plt.imshow(shap_plot)\n",
    "plt.axis('off')  # Hide the axis\n",
    "plt.show()"
   ]
  },
  {
   "cell_type": "markdown",
   "metadata": {},
   "source": [
    "Here, we're showing the top 20 features that have the highest mean absolute Shapley value. The color bar shows the distribution of values within each feature. The high shapley value (x-axis) indicates positive contribution to model's prediction (= prediction being 1, there will be a second movie), and the low shapley value means negative contribution.\n",
    "\n",
    "From the plot, we observe that `vote_count` has the most positive contribution when its value is high. However, this feature was drown from TMDB dataset and it is possible that franchise movies gained a lot of votes because the seris was already famous. `vote_average`(= rating by users) was also drived from TMDB, and here we see a pattern that higher rating contributes positively to the prediction. It makes sense that the first movie in franchise has more popularity than an average movie, as that movitvates producers to create a subsequent film. The contribution of `real_revenue` (inflation adjusted revenue) is also supporting this story. As for movie genres, we see that Family, Action, Comedy and Fantasy films are more likely to be franchised. While contribution from racial group is rather minor, we see a large contribution from `from_US` (whether the movie was produced in the US or not). This aligns with our previous analysis for \"Countries repartion\" showing that the majority of franchise movies come from the US."
   ]
  },
  {
   "cell_type": "markdown",
   "metadata": {},
   "source": [
    "## Franchise successfulness and pattern investigation"
   ]
  },
  {
   "cell_type": "markdown",
   "metadata": {},
   "source": [
    "In order to find the underlying pattern in franchises (has a group of movies and not has movies in a franchise), we've used different characteristics of a franchise such has its length, the number of movies in it, the average years between the movies, the average revenue, the average budget, genre that appears in the franchise and country that are link to the franchise.\n",
    "\n",
    "After trying to find correlation between those different characteristic and having difficulties observing patterns we're going to try a new approach to better understand the franchise dataset.\n",
    "\n",
    "Since the franchise we have in the dataset can defer a lot from one to another, an idea to go deeper into our analysis is to try to group franchise that have features close to one another. Using the hypothesis that if franchises have features that are similar they would behave the same, then looking at those features we might be able to find interesting pattern.\n",
    "\n",
    "To group the feature a K nearest neighbors (KNN) was used to the fit the data."
   ]
  },
  {
   "cell_type": "markdown",
   "metadata": {},
   "source": [
    "### KNN regression of franchise that have both a average revenue and a average budget"
   ]
  },
  {
   "cell_type": "markdown",
   "metadata": {},
   "source": [
    "The revenue and budget of a franchise was calculated using the known values of movies in the franchise and was average on the number of movies that had a value. This was done in order to maximize the number of franchise for the analysis, but it can create a bias since its assuming that movies that don't have values must have had a similar revenue and budget."
   ]
  },
  {
   "cell_type": "code",
   "execution_count": null,
   "metadata": {},
   "outputs": [],
   "source": [
    "KNN_data = get_franchise_data(franchise_df)\n",
    "KNN_data_no_na = KNN_data.dropna(subset=['ratio_rb'])\n",
    "\n",
    "# genre vecotrization\n",
    "from sklearn.feature_extraction.text import CountVectorizer\n",
    "\n",
    "vectorizer = CountVectorizer(tokenizer=lambda x: x.split(\", \"))\n",
    "genre_matrix = vectorizer.fit_transform(KNN_data['genres'])\n",
    "genre_df = pd.DataFrame(genre_matrix.toarray(), columns=[f'genre_{col}' for col in vectorizer.get_feature_names_out()])\n",
    "KNN_data = pd.concat([KNN_data, genre_df], axis=1)\n",
    "\n",
    "vectorizer = CountVectorizer(tokenizer=lambda x: x.split(\", \"))\n",
    "country_matrix = vectorizer.fit_transform(KNN_data['country'])\n",
    "country_df = pd.DataFrame(country_matrix.toarray(), columns=[f'country_{col}' for col in vectorizer.get_feature_names_out()])\n",
    "KNN_data = pd.concat([KNN_data, country_df], axis=1)\n",
    "\n",
    "# Separate the franchise with a ratio of revenue over budget and the ones that don't\n",
    "KNN_data_no_na = KNN_data.dropna(subset=['ratio_rb'])\n",
    "KNN_data_na = KNN_data[KNN_data['ratio_rb'].isna()]\n",
    "\n",
    "# Load and preprocess dat\n",
    "data = KNN_data_no_na.drop(columns=['collection_id','collection_name','genres','oldest_release','newest_release','franchise_length','country','region'])\n",
    "\n",
    "\n",
    "scaler = StandardScaler()\n",
    "scaled_data = scaler.fit_transform(data)\n",
    "\n",
    "# Apply K-Means\n",
    "kmeans = KMeans(n_clusters=6, random_state=RANDOM_STATE)\n",
    "clusters = kmeans.fit_predict(scaled_data)\n",
    "\n",
    "# Assign clusters back to franchise_data_df\n",
    "KNN_data_no_na.loc[:, 'Cluster'] = pd.NA  # Initialize Cluster column with NaN\n",
    "KNN_data_no_na.loc[data.index, 'Cluster'] = clusters\n",
    "\n",
    "    \n",
    "# Dimensionality reduction for visualization\n",
    "pca = PCA(n_components=2)\n",
    "reduced_data = pca.fit_transform(scaled_data)\n",
    "plt.scatter(reduced_data[:, 0], reduced_data[:, 1], c=clusters, cmap='viridis')\n",
    "plt.title('Franchise Clusters')\n",
    "plt.xlabel('PCA 1')\n",
    "plt.ylabel('PCA 2')\n",
    "plt.colorbar(label='Cluster')\n",
    "plt.show()"
   ]
  },
  {
   "cell_type": "code",
   "execution_count": null,
   "metadata": {},
   "outputs": [],
   "source": [
    "from sklearn.metrics import silhouette_score\n",
    "silhouettes = []\n",
    "\n",
    "# Try multiple k\n",
    "for k in range(2, 40):\n",
    "    # Cluster the data and assigne the labels\n",
    "    clusters = KMeans(n_clusters=k, random_state=42,n_init='auto').fit_predict(scaled_data)\n",
    "    # Get the Silhouette score\n",
    "    score = silhouette_score(scaled_data, clusters)\n",
    "    silhouettes.append({\"k\": k, \"score\": score})\n",
    "    \n",
    "# Convert to dataframe\n",
    "silhouettes = pd.DataFrame(silhouettes)\n",
    "\n",
    "# Plot the data\n",
    "plt.figure(figsize=(12, 6))\n",
    "plt.plot(silhouettes.k, silhouettes.score)\n",
    "plt.xlabel(\"K\")\n",
    "plt.ylabel(\"Silhouette score\")\n",
    "plt.xticks(range(2, 40))\n",
    "plt.show()"
   ]
  },
  {
   "cell_type": "markdown",
   "metadata": {},
   "source": [
    "#### Visualization of what the cluster looks like"
   ]
  },
  {
   "cell_type": "code",
   "execution_count": null,
   "metadata": {},
   "outputs": [],
   "source": [
    "# Drop the cluster with less than 10 franchises idk if it is necessary\n",
    "KNN_data_filt = KNN_data_no_na.groupby('Cluster').filter(lambda x: len(x) >= 10)\n",
    "\n",
    "\n",
    "# Print the small cluster\n",
    "print(\"Franchise of the cluster of less than 10 movies:\")\n",
    "print(KNN_data_no_na[~KNN_data_no_na['Cluster'].isin(KNN_data_no_na.groupby('Cluster').filter(lambda x: len(x) >= 10)['Cluster'])][['Cluster','collection_name']].sort_values(by='Cluster'))\n",
    "\n",
    "\n",
    "fig, axs = plt.subplots(3, 3, figsize=(16, 30))\n",
    "\n",
    "\n",
    "sns.boxplot(x='Cluster', y='ratio_rb', data=KNN_data_filt,showfliers=False, ax=axs[0,0])\n",
    "axs[0,0].set_title('Average Ratio Revenue over Budget')\n",
    "sns.boxplot(x='Cluster', y='revenue_avg', data=KNN_data_filt, ax=axs[0,1])\n",
    "axs[0,1].set_title('Average Revenue')\n",
    "axs[0,1].set_yscale('log')\n",
    "\n",
    "sns.boxplot(x='Cluster', y='budget_avg', data=KNN_data_filt, ax=axs[0,2])\n",
    "axs[0,2].set_title('Average Budget')\n",
    "axs[0,2].set_yscale('log')\n",
    "\n",
    "sns.boxplot(x='Cluster', y='movie_count', data=KNN_data_filt,showfliers=False, ax=axs[1,0])\n",
    "axs[1,0].set_title('Average Number of Movies')\n",
    "sns.boxplot(x='Cluster', y='average_years_bt_movies', data=KNN_data_filt,showfliers=False, ax=axs[1,1])\n",
    "axs[1,1].set_title('Average years between the movies')\n",
    "\n",
    "\n",
    "sns.boxplot(x='Cluster', y='franchise_length_years', data=KNN_data_filt,showfliers=False, ax=axs[1,2])\n",
    "axs[1,2].set_title('Average Franchise Length (Years)')\n",
    "sns.barplot(x=KNN_data_no_na['Cluster'].value_counts().index, y=KNN_data_no_na['Cluster'].value_counts().values, ax=axs[2,0])\n",
    "axs[2,0].set_title('Number of Franchises per Cluster')\n",
    "sns.boxplot(x='Cluster', y='runtime_avg', data=KNN_data_filt, ax=axs[2,1])\n",
    "axs[2,1].set_title('Average Runtime')\n",
    "sns.boxplot(x='Cluster', y='average_score', data=KNN_data_filt, ax=axs[2,2])\n",
    "axs[2,2].set_title('Average Score')\n",
    "axs[2,2].set_ylim(0, 10)\n",
    "\n",
    "plt.tight_layout()\n",
    "plt.show()\n",
    "\n"
   ]
  },
  {
   "cell_type": "markdown",
   "metadata": {},
   "source": [
    "By doing different number of cluster we quickly observe that it can pretty easily make 4 clusters with a lot of franchises, the James Bonds' franchise is always alone and there are some other outliers that varies slightly when the number of cluster is increase, but 6 clusters made interesting results, so we're going to stick with that. "
   ]
  },
  {
   "cell_type": "code",
   "execution_count": null,
   "metadata": {},
   "outputs": [],
   "source": [
    "plot_heatmap_1(KNN_data_filt)"
   ]
  },
  {
   "cell_type": "markdown",
   "metadata": {},
   "source": [
    "#### Summary by cluster"
   ]
  },
  {
   "cell_type": "markdown",
   "metadata": {},
   "source": [
    "Cluster 1:"
   ]
  },
  {
   "cell_type": "code",
   "execution_count": null,
   "metadata": {},
   "outputs": [],
   "source": [
    "KNN_data_no_na[KNN_data_no_na['Cluster']==0]['collection_name']"
   ]
  },
  {
   "cell_type": "markdown",
   "metadata": {},
   "source": [
    "This cluster is the cluster of the musical, mostly produces by the United States, they have a pretty good ratio of budget over revenues, and they never have more that 3-4 movies."
   ]
  },
  {
   "cell_type": "markdown",
   "metadata": {},
   "source": [
    "Cluster 2:"
   ]
  },
  {
   "cell_type": "code",
   "execution_count": null,
   "metadata": {},
   "outputs": [],
   "source": [
    "KNN_data_no_na[KNN_data_no_na['Cluster']==1]['collection_name']"
   ]
  },
  {
   "cell_type": "markdown",
   "metadata": {},
   "source": [
    "The second cluster is the James Bond one, it is a big outlier that was already noticed previously and confirm again. It looks like no other franchise can be compared to it. It is around 25 movies that have been produced in 45 years, so around a movie each 2 years, and it has an average revenue that is big compared to other franchise. I think what makes this franchise unique is that its timeless."
   ]
  },
  {
   "cell_type": "markdown",
   "metadata": {},
   "source": [
    "Cluster 3:"
   ]
  },
  {
   "cell_type": "code",
   "execution_count": null,
   "metadata": {},
   "outputs": [],
   "source": [
    "KNN_data_no_na[KNN_data_no_na['Cluster']==2]['collection_name']"
   ]
  },
  {
   "cell_type": "markdown",
   "metadata": {},
   "source": [
    "This is the other cluster with outliers, I personally never heard of those movies, but it looks like it got excellent review on tmbd and the movie runtime is longer than average. We also observe that one of those two franchise must have not really work out in the end since a ratio of revenue over budget is pretty low."
   ]
  },
  {
   "cell_type": "markdown",
   "metadata": {},
   "source": [
    "Cluster 4:"
   ]
  },
  {
   "cell_type": "code",
   "execution_count": null,
   "metadata": {},
   "outputs": [],
   "source": [
    "pd.set_option('display.max_rows', 500)  # Set a higher row limit\n",
    "KNN_data_filt[KNN_data_filt['Cluster'] == 3]['collection_name'].head()"
   ]
  },
  {
   "cell_type": "markdown",
   "metadata": {},
   "source": [
    "This is one of the first really big cluster, it looks like its mostly teenage movies, animated movies, disneys and family sitcom. The main genre is comedy and "
   ]
  },
  {
   "cell_type": "markdown",
   "metadata": {},
   "source": [
    "Cluster 5:"
   ]
  },
  {
   "cell_type": "code",
   "execution_count": null,
   "metadata": {},
   "outputs": [],
   "source": [
    "KNN_data_filt[KNN_data_filt['Cluster'] == 4]['collection_name'].head()"
   ]
  },
  {
   "cell_type": "markdown",
   "metadata": {},
   "source": [
    "This cluster looks like its mostly action movies and blockbuster hence it is also the pretty high budget franchise."
   ]
  },
  {
   "cell_type": "markdown",
   "metadata": {},
   "source": [
    "cluster 6:"
   ]
  },
  {
   "cell_type": "code",
   "execution_count": null,
   "metadata": {},
   "outputs": [],
   "source": [
    "KNN_data_filt[KNN_data_filt['Cluster'] == 5]['collection_name'].head()"
   ]
  },
  {
   "cell_type": "markdown",
   "metadata": {},
   "source": [
    "This cluster is the clusters of the horror and thrillers movies, we can see that it has most of the time smaller budget but can have a ratio that can be really high depending on the franchise."
   ]
  },
  {
   "cell_type": "markdown",
   "metadata": {},
   "source": [
    "To conclude this part it looks like the pattern we were looking for is kind of hard to define, it looks like the cluster have mostly been separated by their genre which looks like its link to the average budget of the franchise. We were thinking that the successfulness of a franchise could be seen in the ratio of the revenue over the budget, but the results don't give a clear answer. There must still be features of franchise that would define better their successfulness, but we don't have them, that's why there's a big variance in the ratios."
   ]
  },
  {
   "cell_type": "markdown",
   "metadata": {},
   "source": [
    "It also looks like analyzing the franchise has a whole makes it difficult to quantify what is going to make a good franchise because the success inside a franchise can vary a lot that's why in the next part we're going to look at the interaction between the first a second and how from a first movie that work pretty well make another successful movie or a successful franchise,"
   ]
  },
  {
   "cell_type": "markdown",
   "metadata": {},
   "source": [
    "### KNN regression of the first and second movie of the franchise (that both have values for budget and revenue)"
   ]
  },
  {
   "cell_type": "markdown",
   "metadata": {},
   "source": [
    "In this part we're going to try to look more specificly on how does the first and second movie interact and which common behaviour of the first movie impacts the second movie.\n",
    "\n",
    "After some trial and errors, the KNN couldn't really separate the franchise where the 2nd movie performs better than the first one, so to make it more relevant for our analysis, we first separate the franchise where the ratio (revenue over budget) has increase from the first movie or has decreased"
   ]
  },
  {
   "cell_type": "code",
   "execution_count": null,
   "metadata": {},
   "outputs": [],
   "source": [
    "KNN_1_2 = get_1_2_movies(franchise_df)\n",
    "KNN_1_2 = KNN_1_2.dropna(subset=['real_profit_1','real_profit_2'])\n",
    "KNN_1_2 = KNN_1_2.drop(columns=['num_Asian_1','num_Asian_2','num_Black_1','num_Black_2','num_Hispanic_1','num_Hispanic_2','num_Middle Eastern_1','num_Middle Eastern_2','num_White_1','num_White_2','num_Native American_1','num_Native American_2','num_Others_1','num_Others_2','female_ratio_1','female_ratio_2'])\n",
    "# seprate the franchise where the 2nd movie has a higher ratio than the first one\n",
    "KNN_1_2_2ndbetter=KNN_1_2[KNN_1_2['ratio_revenue_budget_2'] > KNN_1_2['ratio_revenue_budget_1']]\n",
    "KNN_1_2_1stbetter=KNN_1_2[KNN_1_2['ratio_revenue_budget_2'] <= KNN_1_2['ratio_revenue_budget_1']]\n",
    "\n",
    "# Load and preprocess dat\n",
    "#data = KNN_1_2_other.drop(columns=['collection_id','Wikipedia movie ID_1','Wikipedia movie ID_2','Movie name_1','Movie name_2','collection_name_1','collection_name_2','genres_1','genres_2','tmdb_origin_country_1','tmdb_origin_country_2'])\n",
    "\n",
    "data = KNN_1_2_1stbetter.drop(columns=['collection_id','Wikipedia movie ID_1','Wikipedia movie ID_2','Movie name_1','Movie name_2','collection_name_1','collection_name_2','genres_1','genres_2','tmdb_origin_country_1','tmdb_origin_country_2'])\n",
    "\n",
    "scaler = StandardScaler()\n",
    "scaled_data_1st = scaler.fit_transform(data)\n",
    "\n",
    "\n",
    "# Apply K-Means\n",
    "kmeans = KMeans(n_clusters=5, random_state=RANDOM_STATE, n_init='auto')\n",
    "clusters = kmeans.fit_predict(scaled_data_1st)\n",
    "\n",
    "# Assign clusters back to franchise_data_df\n",
    "KNN_1_2['Cluster'] = pd.NA  # Initialize Cluster column with NaN\n",
    "KNN_1_2.loc[data.index, 'Cluster'] = clusters\n",
    "    \n",
    "# Dimensionality reduction for visualization\n",
    "pca = PCA(n_components=2)\n",
    "reduced_data = pca.fit_transform(scaled_data_1st)\n",
    "plt.scatter(reduced_data[:, 0], reduced_data[:, 1], c=clusters, cmap='viridis')\n",
    "plt.title('2nd movie Clusters 1st better')\n",
    "plt.xlabel('PCA 1')\n",
    "plt.ylabel('PCA 2')\n",
    "plt.colorbar(label='Cluster')\n",
    "plt.show()\n",
    "\n",
    "# Load and preprocess dat\n",
    "data = KNN_1_2_2ndbetter.drop(columns=['collection_id','Wikipedia movie ID_1','Wikipedia movie ID_2','Movie name_1','Movie name_2','collection_name_1','collection_name_2','genres_1','genres_2','tmdb_origin_country_1','tmdb_origin_country_2'])\n",
    "\n",
    "\n",
    "scaler = StandardScaler()\n",
    "scaled_data_2nd = scaler.fit_transform(data)\n",
    "\n",
    "# Apply K-Means\n",
    "kmeans = KMeans(n_clusters=5, random_state=RANDOM_STATE,n_init='auto')\n",
    "clusters = kmeans.fit_predict(scaled_data_2nd)\n",
    "\n",
    "# Assign clusters back to franchise_data_df\n",
    "KNN_1_2.loc[data.index, 'Cluster'] = -clusters-1\n",
    "    \n",
    "# Dimensionality reduction for visualization\n",
    "pca = PCA(n_components=2)\n",
    "reduced_data = pca.fit_transform(scaled_data_2nd)\n",
    "plt.scatter(reduced_data[:, 0], reduced_data[:, 1], c=clusters, cmap='viridis')\n",
    "plt.title('2nd movie Clusters 2nd better')\n",
    "plt.xlabel('PCA 1')\n",
    "plt.ylabel('PCA 2')\n",
    "plt.colorbar(label='Cluster')\n",
    "plt.show()\n"
   ]
  },
  {
   "cell_type": "code",
   "execution_count": null,
   "metadata": {},
   "outputs": [],
   "source": [
    "silhouettes = []\n",
    "\n",
    "# Try multiple k\n",
    "for k in range(2, 40):\n",
    "    # Cluster the data and assigne the labels\n",
    "    clusters = KMeans(n_clusters=k, random_state=42,n_init='auto').fit_predict(scaled_data_1st)\n",
    "    # Get the Silhouette score\n",
    "    score = silhouette_score(scaled_data_1st, clusters)\n",
    "    silhouettes.append({\"k\": k, \"score\": score})\n",
    "    \n",
    "# Convert to dataframe\n",
    "silhouettes = pd.DataFrame(silhouettes)\n",
    "\n",
    "# Plot the data\n",
    "plt.figure(figsize=(12, 6))\n",
    "plt.title('Silhouette score for 1st movie')\n",
    "plt.plot(silhouettes.k, silhouettes.score)\n",
    "plt.xlabel(\"K\")\n",
    "plt.ylabel(\"Silhouette score\")\n",
    "plt.xticks(range(2, 40))\n",
    "plt.show()"
   ]
  },
  {
   "cell_type": "code",
   "execution_count": null,
   "metadata": {},
   "outputs": [],
   "source": [
    "silhouettes = []\n",
    "\n",
    "# Try multiple k\n",
    "for k in range(2, 15):\n",
    "    # Cluster the data and assigne the labels\n",
    "    clusters = KMeans(n_clusters=k, random_state=42,n_init='auto').fit_predict(scaled_data_2nd)\n",
    "    # Get the Silhouette score\n",
    "    score = silhouette_score(scaled_data_2nd, clusters)\n",
    "    silhouettes.append({\"k\": k, \"score\": score})\n",
    "    \n",
    "# Convert to dataframe\n",
    "silhouettes = pd.DataFrame(silhouettes)\n",
    "\n",
    "# Plot the data\n",
    "plt.figure(figsize=(12, 6))\n",
    "plt.title('Silhouette score for 2nd movie')\n",
    "plt.plot(silhouettes.k, silhouettes.score)\n",
    "plt.xlabel(\"K\")\n",
    "plt.ylabel(\"Silhouette score\")\n",
    "plt.xticks(range(2, 15))\n",
    "plt.show()"
   ]
  },
  {
   "cell_type": "markdown",
   "metadata": {},
   "source": [
    "Using the silouhette function we found that 5 is a good number of clusters for both and it's not creating too many cluster with a little number of franchise"
   ]
  },
  {
   "cell_type": "markdown",
   "metadata": {},
   "source": [
    "#### Visualization of what the cluster looks like"
   ]
  },
  {
   "cell_type": "code",
   "execution_count": null,
   "metadata": {},
   "outputs": [],
   "source": [
    "# Drop the cluster with less than 10 franchises idk if it is necessary\n",
    "KNN_1_2_filt = KNN_1_2.groupby('Cluster').filter(lambda x: len(x) >= 5)\n",
    "\n",
    "# Print the small cluster\n",
    "print(\"Franchise of the cluster of less than 10 movies:\")\n",
    "print(KNN_1_2[~KNN_1_2['Cluster'].isin(KNN_1_2.groupby('Cluster').filter(lambda x: len(x) >= 5)['Cluster'])][['Cluster','collection_name_1','Movie name_1','Movie name_2']].sort_values(by='Cluster'))\n",
    "\n",
    "print('Note that strictly negative cluster are the ones where the 2nd movie is better than the first one, positive cluster are the opposite')\n",
    "fig, axs = plt.subplots(3, 3, figsize=(16, 30))\n",
    "\n",
    "\n",
    "data_long = pd.melt(KNN_1_2_filt, id_vars='Cluster', value_vars=['ratio_revenue_budget_1', 'ratio_revenue_budget_2'],var_name='movie_nb', value_name='ratio_revenue_budget')\n",
    "data_long['movie_nb']=data_long['movie_nb'].replace({'ratio_revenue_budget_1': '1st Movie', 'ratio_revenue_budget_2': '2nd Movie'})\n",
    "sns.boxplot(data=data_long, x='Cluster', y='ratio_revenue_budget', hue='movie_nb', ax=axs[0,0])\n",
    "axs[0,0].legend()\n",
    "axs[0,0].set_title('Average Ratio Revenue over Budget 1st and 2nd movie')\n",
    "axs[0,0].set_yscale('log')\n",
    "\n",
    "data_long = pd.melt(KNN_1_2_filt, id_vars='Cluster', value_vars=['real_budget_1', 'real_budget_2'],var_name='movie_nb', value_name='real_budget')\n",
    "data_long['movie_nb']=data_long['movie_nb'].replace({'real_budget_1': '1st Movie', 'real_budget_2': '2nd Movie'})\n",
    "sns.boxplot(data=data_long, x='Cluster', y='real_budget', hue='movie_nb', ax=axs[0,1])\n",
    "axs[0,1].legend()\n",
    "axs[0,1].set_title('Average Budget 1st and 2nd movie')\n",
    "\n",
    "data_long = pd.melt(KNN_1_2_filt, id_vars='Cluster', value_vars=['real_revenue_1', 'real_revenue_2'],var_name='movie_nb', value_name='real_revenue')\n",
    "data_long['movie_nb']=data_long['movie_nb'].replace({'real_revenue_1': '1st Movie', 'real_revenue_2': '2nd Movie'})\n",
    "sns.boxplot(data=data_long, x='Cluster', y='real_revenue', hue='movie_nb', ax=axs[0,2])\n",
    "axs[0,2].legend()\n",
    "axs[0,2].set_title('Average Revenue 1st and 2nd movie')\n",
    "\n",
    "\n",
    "sns.barplot(x=KNN_1_2['Cluster'].value_counts().index, y=KNN_1_2['Cluster'].value_counts().values, ax=axs[1,0])\n",
    "axs[1,0].set_title('Number of Movies per Cluster')\n",
    "\n",
    "sns.boxplot(x='Cluster', y='years_diff_bt_pre_movies_2', data=KNN_1_2_filt, ax=axs[1,1])\n",
    "axs[1,1].set_title('Average Years Between Movies 1st and 2nd movie')\n",
    "\n",
    "sns.boxplot(x='Cluster', y='collection_size_1', data=KNN_1_2_filt, ax=axs[1,2])\n",
    "axs[1,2].set_title('Average Collection Size')\n",
    "\n",
    "\n",
    "data_long = pd.melt(KNN_1_2_filt, id_vars='Cluster', value_vars=['num_genres_1', 'num_genres_2'],var_name='movie_nb', value_name='num_genres')\n",
    "data_long['movie_nb']=data_long['movie_nb'].replace({'num_genres_1': '1st Movie', 'num_genres_2': '2nd Movie'})\n",
    "sns.boxplot(data=data_long, x='Cluster', y='num_genres', hue='movie_nb', ax=axs[2,0])\n",
    "axs[2,0].legend()\n",
    "axs[2,0].set_title('Average Number of Genres 1st and 2nd movie')\n",
    "\n",
    "data_long = pd.melt(KNN_1_2_filt, id_vars='Cluster', value_vars=['vote_average_1', 'vote_average_2'],var_name='movie_nb', value_name='vote_average')\n",
    "data_long['movie_nb']=data_long['movie_nb'].replace({'vote_average_1': '1st Movie', 'vote_average_2': '2nd Movie'})\n",
    "sns.boxplot(data=data_long, x='Cluster', y='vote_average', hue='movie_nb', ax=axs[2,1])\n",
    "axs[2,1].legend()\n",
    "axs[2,1].set_title('Average Vote Average 1st and 2nd movie')\n",
    "\n",
    "plt.tight_layout()\n",
    "plt.show()\n",
    "\n"
   ]
  },
  {
   "cell_type": "code",
   "execution_count": null,
   "metadata": {},
   "outputs": [],
   "source": [
    "plot_heatmap_2(KNN_1_2_filt)\n"
   ]
  },
  {
   "cell_type": "markdown",
   "metadata": {},
   "source": [
    "#### Summary by cluster"
   ]
  },
  {
   "cell_type": "markdown",
   "metadata": {},
   "source": [
    "Cluster -4:"
   ]
  },
  {
   "cell_type": "code",
   "execution_count": null,
   "metadata": {},
   "outputs": [],
   "source": [
    "KNN_1_2[KNN_1_2['Cluster']==-4][['collection_name_1','Movie name_1','Movie name_2']]"
   ]
  },
  {
   "cell_type": "markdown",
   "metadata": {},
   "source": [
    "Those are the high budget franchise that didnt had a increase in budget for the second movie and "
   ]
  },
  {
   "cell_type": "markdown",
   "metadata": {},
   "source": [
    "Cluster -3:"
   ]
  },
  {
   "cell_type": "code",
   "execution_count": null,
   "metadata": {},
   "outputs": [],
   "source": [
    "KNN_1_2[KNN_1_2['Cluster']==-3][['collection_name_1','Movie name_1','Movie name_2']]"
   ]
  },
  {
   "cell_type": "markdown",
   "metadata": {},
   "source": [
    "Cluster -2:"
   ]
  },
  {
   "cell_type": "code",
   "execution_count": null,
   "metadata": {},
   "outputs": [],
   "source": [
    "KNN_1_2[KNN_1_2['Cluster']==-2][['collection_name_1','Movie name_1','Movie name_2']]"
   ]
  },
  {
   "cell_type": "markdown",
   "metadata": {},
   "source": [
    "Cluster -1:"
   ]
  },
  {
   "cell_type": "code",
   "execution_count": null,
   "metadata": {},
   "outputs": [],
   "source": [
    "KNN_1_2[KNN_1_2['Cluster']==-1][['collection_name_1','Movie name_1','Movie name_2']]"
   ]
  },
  {
   "cell_type": "markdown",
   "metadata": {},
   "source": [
    "Cluster 1:"
   ]
  },
  {
   "cell_type": "code",
   "execution_count": null,
   "metadata": {},
   "outputs": [],
   "source": [
    "KNN_1_2[KNN_1_2['Cluster']==0][['collection_name_1','Movie name_1','Movie name_2']]"
   ]
  },
  {
   "cell_type": "markdown",
   "metadata": {},
   "source": [
    "Cluster 2:"
   ]
  },
  {
   "cell_type": "code",
   "execution_count": null,
   "metadata": {},
   "outputs": [],
   "source": [
    "KNN_1_2[KNN_1_2['Cluster']==1][['collection_name_1','Movie name_1','Movie name_2']]"
   ]
  },
  {
   "cell_type": "markdown",
   "metadata": {},
   "source": []
  },
  {
   "cell_type": "markdown",
   "metadata": {},
   "source": [
    "Cluster 3:"
   ]
  },
  {
   "cell_type": "code",
   "execution_count": null,
   "metadata": {},
   "outputs": [],
   "source": [
    "KNN_1_2[KNN_1_2['Cluster']==2][['collection_name_1','Movie name_1','Movie name_2']]"
   ]
  },
  {
   "cell_type": "markdown",
   "metadata": {},
   "source": []
  },
  {
   "cell_type": "markdown",
   "metadata": {},
   "source": [
    "Cluster 4:"
   ]
  },
  {
   "cell_type": "code",
   "execution_count": null,
   "metadata": {},
   "outputs": [],
   "source": [
    "KNN_1_2[KNN_1_2['Cluster']==3][['collection_name_1','Movie name_1','Movie name_2']]"
   ]
  },
  {
   "cell_type": "markdown",
   "metadata": {},
   "source": []
  },
  {
   "cell_type": "markdown",
   "metadata": {},
   "source": [
    "Cluster 5:"
   ]
  },
  {
   "cell_type": "code",
   "execution_count": null,
   "metadata": {},
   "outputs": [],
   "source": [
    "KNN_1_2[KNN_1_2['Cluster']==4][['collection_name_1','Movie name_1','Movie name_2']]"
   ]
  },
  {
   "cell_type": "markdown",
   "metadata": {},
   "source": []
  }
 ],
 "metadata": {
  "kernelspec": {
   "display_name": "ada",
   "language": "python",
   "name": "python3"
  },
  "language_info": {
   "codemirror_mode": {
    "name": "ipython",
    "version": 3
   },
   "file_extension": ".py",
   "mimetype": "text/x-python",
   "name": "python",
   "nbconvert_exporter": "python",
   "pygments_lexer": "ipython3",
   "version": "3.11.0"
  }
 },
 "nbformat": 4,
 "nbformat_minor": 2
}
