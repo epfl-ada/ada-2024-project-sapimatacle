{
 "cells": [
  {
   "cell_type": "code",
   "execution_count": 1,
   "metadata": {},
   "outputs": [],
   "source": [
    "# importing the libraries and files\n",
    "from collections import Counter, defaultdict\n",
    "from functools import reduce\n",
    "import ast\n",
    "import numpy as np\n",
    "\n",
    "import geopandas as gpd\n",
    "import networkx as nx\n",
    "from itertools import combinations\n",
    "\n",
    "import pandas as pd\n",
    "import matplotlib.pyplot as plt\n",
    "from matplotlib.gridspec import GridSpec\n",
    "from scipy import stats\n",
    "from scipy.interpolate import interp1d\n",
    "import seaborn as sns\n",
    "from statsmodels.stats import diagnostic\n",
    "\n",
    "from src.data.utils import get_franchise_movies, get_franchise_data, clean_character_metadata, custom_autopct, get_inflation_rate\n",
    "\n",
    "# setting the color theme for the plots\n",
    "sns.set_theme(style='darkgrid', palette='colorblind', color_codes=True)"
   ]
  },
  {
   "cell_type": "code",
   "execution_count": 2,
   "metadata": {},
   "outputs": [],
   "source": [
    "# loading the completed dataset\n",
    "movies_df = pd.read_csv('data/movie_metadata_with_tmdb.csv')\n",
    "\n",
    "# keeping only movies in franchises\n",
    "inflation_rate = get_inflation_rate()\n",
    "franchise_df = get_franchise_movies(movies_df, inflation_rate)"
   ]
  },
  {
   "cell_type": "markdown",
   "metadata": {},
   "source": [
    "### Basic numerical analysis"
   ]
  },
  {
   "cell_type": "code",
   "execution_count": null,
   "metadata": {},
   "outputs": [],
   "source": [
    "# Counting the number of movies per collections\n",
    "franchise_counts = franchise_df.groupby(by='collection_id')['Wikipedia movie ID'].count()\n",
    "print(franchise_counts.describe())\n",
    "print(f\"Number of movies in collections: {len(franchise_df['collection_id'])}\")"
   ]
  },
  {
   "cell_type": "markdown",
   "metadata": {},
   "source": [
    "When importing the data, we decided to directly drop the franchises that had only one movie, as it would bias our analysis (it means that the other movies in the collections were not included in the dataset as they were released after 2016). "
   ]
  },
  {
   "cell_type": "markdown",
   "metadata": {},
   "source": [
    "Now, we have 1595 collections, with 5173 movies, which we deem enough. We also see a strong outlier that has 66 movies (the maximum)."
   ]
  },
  {
   "cell_type": "markdown",
   "metadata": {},
   "source": [
    "### Basic visualization"
   ]
  },
  {
   "cell_type": "code",
   "execution_count": null,
   "metadata": {},
   "outputs": [],
   "source": [
    "proportion = len(franchise_df) / len(movies_df)\n",
    "proportions = pd.DataFrame({'Proportion': [proportion, 1 - proportion]}, index=['In franchise', 'Not in franchise'])\n",
    "explode = (0, 0.1)\n",
    "fig, ax = plt.subplots()\n",
    "ax.pie(proportions['Proportion'], labels=proportions.index, autopct='%1.1f%%', startangle=90)\n",
    "\n",
    "plt.show()"
   ]
  },
  {
   "cell_type": "code",
   "execution_count": null,
   "metadata": {},
   "outputs": [],
   "source": [
    "# Plot the box plot\n",
    "fig, axes = plt.subplots(1, 2, figsize=(12, 6))\n",
    "\n",
    "# Boxplot with outliers\n",
    "axes[0].boxplot(franchise_counts)\n",
    "axes[0].set_title('Box plot of franchise sizes (with outliers)')\n",
    "axes[0].set_ylabel('Number of movies')\n",
    "axes[0].set_xlabel('Franchises')\n",
    "axes[0].set_xticks([])\n",
    "\n",
    "# Boxplot without outliers\n",
    "axes[1].boxplot(franchise_counts, showfliers=False)\n",
    "axes[1].set_title('Box plot of franchise sizes (without outliers)')\n",
    "axes[1].set_ylabel('Number of movies')\n",
    "axes[1].set_xlabel('Franchises')\n",
    "axes[1].set_xticks([])\n",
    "\n",
    "plt.tight_layout()\n",
    "plt.show()"
   ]
  },
  {
   "cell_type": "markdown",
   "metadata": {},
   "source": [
    "Here, we can see that at least 75% of the franchises have between 2 and 4 movies. And when looking closely at the outliers, such as \"Our gang: The Roach/Pathé silents (1922-1928)\" with 66 movies, we see that they mostly do not correspond to sequels, but to franchises. This is something to keep in mind for the data analysis."
   ]
  },
  {
   "cell_type": "markdown",
   "metadata": {},
   "source": [
    "### Focusing on genres\n",
    "\n",
    "Now, we wanted to look more closely at the genre columns, as it is one of the parameters needed to answer our research questions. First, let's plot the genre proportions in the original dataset, with all the movies. \n",
    "\n",
    "N.B.: most movies are defined by multiple genres and not a unique one"
   ]
  },
  {
   "cell_type": "code",
   "execution_count": null,
   "metadata": {},
   "outputs": [],
   "source": [
    "genre_counts = Counter()\n",
    "\n",
    "for genres in movies_df['Movie genres (Freebase ID:name tuples)']:\n",
    "    if pd.notnull(genres):\n",
    "        # Split the genres by comma and strip any extra spaces\n",
    "        genre_list = [genre.split(\":\")[1].strip().replace(\"}\", \"\") for genre in genres.split(\",\") if \":\" in genre]\n",
    "        genre_counts.update(genre_list)\n",
    "\n",
    "genre_counts_df = pd.DataFrame.from_dict(genre_counts, orient='index', columns=['counts']).reset_index()\n",
    "genre_counts_df.columns = ['genre', 'counts']\n",
    "genre_counts_df['genre']=genre_counts_df['genre'].str.replace('}','')\n",
    "genre_counts_df = genre_counts_df.sort_values(by='counts', ascending=False)\n",
    "# Clean up genre names by removing double quotes\n",
    "genre_counts_df['genre'] = genre_counts_df['genre'].str.replace('\"', '')\n",
    "\n",
    "# Calculate the total count of all genres\n",
    "total_genres_count = genre_counts_df['counts'].sum()\n",
    "# Determine the threshold count for 2%\n",
    "threshold_count = total_genres_count * 0.02\n",
    "# Replace genres with counts below the threshold with an empty string for labels\n",
    "labels = genre_counts_df.apply(lambda row: '' if row['counts'] < threshold_count else row['genre'], axis=1)\n",
    "\n",
    "# Plotting the pie chart with filtered labels\n",
    "fig, (ax1, ax2, ax3) = plt.subplots(1, 3, figsize=(21, 10))\n",
    "\n",
    "ax1.pie(genre_counts_df['counts'], labels=labels, autopct=lambda p: '' if p < 2 else f'{p:.1f}%', wedgeprops={'edgecolor': 'none'})\n",
    "ax1.set_title('Distribution of Genres in dataset')\n",
    "\n",
    "# Replace any genre containing \"comedy\" (case-insensitive) with \"comedy\"\n",
    "genre_counts_df['genre'] = genre_counts_df['genre'].str.replace(r'(?i).*comedy.*', 'Comedy', regex=True)\n",
    "\n",
    "# Group by genre and sum counts\n",
    "old_genre_counts = genre_counts_df.groupby('genre', as_index=False)['counts'].sum()\n",
    "old_genre_counts = old_genre_counts.sort_values(by='counts', ascending=False)\n",
    "labels2 = old_genre_counts.apply(lambda row: '' if row['counts'] < threshold_count else row['genre'], axis=1)\n",
    "# Plotting the pie chart\n",
    "ax2.pie(old_genre_counts['counts'], labels=labels2, autopct=lambda p: '' if p < 2 else f'{p:.1f}%', wedgeprops={'edgecolor': 'none'})\n",
    "ax2.set_title('Distribution of Genres in dataset, comedies grouped')\n",
    "\n",
    "# Replace genres with counts below the threshold with \"other\"\n",
    "old_genre_counts['genre'] = old_genre_counts.apply(lambda row: 'other' if row['counts'] < threshold_count else row['genre'], axis=1)\n",
    "old_genre_counts = old_genre_counts.groupby('genre', as_index=False)['counts'].sum()\n",
    "old_genre_counts = old_genre_counts.sort_values(by='counts', ascending=False)\n",
    "# Plotting the pie chart\n",
    "ax3.pie(old_genre_counts['counts'], labels=old_genre_counts['genre'], autopct='%1.1f%%')\n",
    "ax3.set_title('Distribution of Genres in dataset, comedies grouped, with \"other\" category')\n",
    "\n",
    "plt.show()"
   ]
  },
  {
   "cell_type": "markdown",
   "metadata": {},
   "source": [
    "Now, let's compare with the distribution in the movies in franchises subset:"
   ]
  },
  {
   "cell_type": "code",
   "execution_count": null,
   "metadata": {},
   "outputs": [],
   "source": [
    "genre_counts = Counter()\n",
    "\n",
    "for genres in franchise_df['Movie genres (Freebase ID:name tuples)']:\n",
    "    if pd.notnull(genres):\n",
    "        # Split the genres by comma and strip any extra spaces\n",
    "        genre_list = [genre.split(\":\")[1].strip().replace(\"}\", \"\") for genre in genres.split(\",\") if \":\" in genre]\n",
    "        genre_counts.update(genre_list)\n",
    "\n",
    "genre_counts_df = pd.DataFrame.from_dict(genre_counts, orient='index', columns=['counts']).reset_index()\n",
    "genre_counts_df.columns = ['genre', 'counts']\n",
    "genre_counts_df['genre']=genre_counts_df['genre'].str.replace('}','')\n",
    "genre_counts_df = genre_counts_df.sort_values(by='counts', ascending=False)\n",
    "# Clean up genre names by removing double quotes\n",
    "genre_counts_df['genre'] = genre_counts_df['genre'].str.replace('\"', '')\n",
    "\n",
    "# Calculate the total count of all genres\n",
    "total_genres_count = genre_counts_df['counts'].sum()\n",
    "# Determine the threshold count for 2%\n",
    "threshold_count = total_genres_count * 0.02\n",
    "# Replace genres with counts below the threshold with an empty string for labels\n",
    "labels = genre_counts_df.apply(lambda row: '' if row['counts'] < threshold_count else row['genre'], axis=1)\n",
    "\n",
    "# Plotting the pie chart with filtered labels\n",
    "fig = plt.figure(figsize=(21, 10))\n",
    "gs = GridSpec(2, 3, height_ratios=[2, 1], width_ratios=[1, 1, 1])\n",
    "ax1 = fig.add_subplot(gs[0, 0])\n",
    "ax1.pie(genre_counts_df['counts'], labels=labels, autopct=lambda p: '' if p < 2 else f'{p:.1f}%', wedgeprops={'edgecolor': 'none'})\n",
    "ax1.set_title('Distribution of Genres in Collections')\n",
    "\n",
    "# Replace any genre containing \"comedy\" (case-insensitive) with \"comedy\"\n",
    "genre_counts_df['genre'] = genre_counts_df['genre'].str.replace(r'(?i).*comedy.*', 'Comedy', regex=True)\n",
    "\n",
    "\n",
    "# Group by genre and sum counts\n",
    "old_genre_counts = genre_counts_df.groupby('genre', as_index=False)['counts'].sum()\n",
    "old_genre_counts = old_genre_counts.sort_values(by='counts', ascending=False)\n",
    "labels2 = old_genre_counts.apply(lambda row: '' if row['counts'] < threshold_count else row['genre'], axis=1)\n",
    "# Plotting the pie chart\n",
    "ax2 = fig.add_subplot(gs[0, 1])\n",
    "ax2.pie(old_genre_counts['counts'], labels=labels2, autopct=lambda p: '' if p < 2 else f'{p:.1f}%', wedgeprops={'edgecolor': 'none'})\n",
    "ax2.set_title('Distribution of Genres in Collections, comedies grouped')\n",
    "\n",
    "# Replace genres with counts below the threshold with \"other\"\n",
    "old_genre_counts['genre'] = old_genre_counts.apply(lambda row: 'other' if row['counts'] < threshold_count else row['genre'], axis=1)\n",
    "old_genre_counts = old_genre_counts.groupby('genre', as_index=False)['counts'].sum()\n",
    "old_genre_counts = old_genre_counts.sort_values(by='counts', ascending=False)\n",
    "# Plotting the pie chart\n",
    "ax3 = fig.add_subplot(gs[0, 2])\n",
    "ax3.pie(old_genre_counts['counts'], labels=old_genre_counts['genre'], autopct='%1.1f%%')\n",
    "ax3.set_title('Distribution of Genres in Collections, comedies grouped, with \"other\" category')\n",
    "\n",
    "# Extract top 5 and bottom 5 genres\n",
    "top_5_genres = genre_counts_df.head(5)\n",
    "bottom_5_genres = genre_counts_df.tail(5)\n",
    "# Combine top 5 and bottom 5 genres into a single DataFrame\n",
    "top_bottom_genres = pd.concat([top_5_genres, bottom_5_genres])\n",
    "\n",
    "# Plot the table with top 5 and bottom 5 genres\n",
    "ax4 = fig.add_subplot(gs[1, 1])\n",
    "ax4.axis('off')\n",
    "\n",
    "# Create the table\n",
    "table = ax4.table(cellText=top_bottom_genres.values,\n",
    "                 colLabels=top_bottom_genres.columns,\n",
    "                 cellLoc='center', loc='center')\n",
    "\n",
    "# Customize table appearance\n",
    "table.auto_set_font_size(False)\n",
    "table.set_fontsize(12)  # Increase font size\n",
    "table.scale(1.2, 1.5)  # Scale for better spacing\n",
    "\n",
    "# Adding color to the header and rows\n",
    "for (i, j), cell in table.get_celld().items():\n",
    "    if i == 0:  # Header row\n",
    "        cell.set_fontsize(14)\n",
    "        cell.set_text_props(weight='bold')  # Make header text bold\n",
    "        cell.set_facecolor('#6a7ba2')  # Green background for header\n",
    "        cell.set_text_props(color='white')  # White text color for the header\n",
    "    else:\n",
    "        if i % 2 == 0:\n",
    "            cell.set_facecolor('#f2f2f2')  # Light gray color for alternate rows\n",
    "        else:\n",
    "            cell.set_facecolor('#ffffff')  # White color for other rows\n",
    "\n",
    "    # Set border style\n",
    "    cell.set_edgecolor('black')  # Add black borders to cells\n",
    "\n",
    "# Display the table\n",
    "plt.show()"
   ]
  },
  {
   "cell_type": "markdown",
   "metadata": {},
   "source": [
    "Now, we know that there are a lot of unique, very specific and irrelevant genres in the original categories (such as \"Kitchen sink realism\"), that appear less than 2% and together represent 42% of the whole genres. We therefore chose to use the ones in the added TMDB dataset."
   ]
  },
  {
   "cell_type": "code",
   "execution_count": null,
   "metadata": {},
   "outputs": [],
   "source": [
    "# Function to extract genre names from the string representation of the list of dictionaries\n",
    "def extract_genres(genres_str):\n",
    "    try:\n",
    "        genres_list = ast.literal_eval(genres_str)\n",
    "        return [genre['name'] for genre in genres_list]\n",
    "    except (ValueError, SyntaxError):\n",
    "        return []\n",
    "\n",
    "# Apply the function to the 'genres' column\n",
    "franchise_df.loc[:, 'cleaned_genres'] = franchise_df['genres'].apply(extract_genres)\n",
    "\n",
    "# Flatten the list of genres and count the occurrences\n",
    "flattened_genres = [genre for sublist in franchise_df['cleaned_genres'] for genre in sublist]\n",
    "genre_counts = Counter(flattened_genres)\n",
    "\n",
    "# Convert the Counter object to a DataFrame for easier plotting\n",
    "genre_counts_df = pd.DataFrame.from_dict(genre_counts, orient='index', columns=['count']).reset_index()\n",
    "genre_counts_df.columns = ['genre', 'count']\n",
    "\n",
    "# Calculate the proportion of each genre\n",
    "genre_counts_df['proportion [%]'] = genre_counts_df['count'] / genre_counts_df['count'].sum() * 100\n",
    "genre_counts_df = genre_counts_df.sort_values(by='proportion [%]', ascending=False)\n",
    "genre_counts_df['proportion [%]'] = genre_counts_df['proportion [%]'].apply(lambda x: round(x, 1))\n",
    "\n",
    "# Create a new figure with subplots\n",
    "fig, (ax1, ax2) = plt.subplots(1, 2, figsize=(14, 7))\n",
    "\n",
    "# Plot the table with genre proportions\n",
    "ax1.axis('off')\n",
    "table = ax1.table(cellText=genre_counts_df[['genre', 'proportion [%]']].values,\n",
    "                  colLabels=['Genre', 'Proportion [%]'],\n",
    "                  cellLoc='center', loc='center')\n",
    "\n",
    "# Customize table appearance\n",
    "table.auto_set_font_size(False)\n",
    "table.set_fontsize(12)  # Increase font size\n",
    "table.scale(1.2, 1.5)  # Scale for better spacing\n",
    "\n",
    "# Adding color to the header and rows\n",
    "for (i, j), cell in table.get_celld().items():\n",
    "    if i == 0:  # Header row\n",
    "        cell.set_fontsize(14)\n",
    "        cell.set_text_props(weight='bold')  # Make header text bold\n",
    "        cell.set_facecolor('#6a7ba2')  # Green background for header\n",
    "        cell.set_text_props(color='white')  # White text color for the header\n",
    "    else:\n",
    "        if i % 2 == 0:\n",
    "            cell.set_facecolor('#f2f2f2')  # Light gray color for alternate rows\n",
    "        else:\n",
    "            cell.set_facecolor('#ffffff')  # White color for other rows\n",
    "\n",
    "    # Set border style\n",
    "    cell.set_edgecolor('black')  # Add black borders to cells\n",
    "\n",
    "# Plot the pie chart with labels only on the side\n",
    "wedges, texts, autotexts = ax2.pie(genre_counts_df['count'], labels=['']*len(genre_counts_df), autopct='%1.1f%%')\n",
    "ax2.legend(wedges, genre_counts_df['genre'], title=\"Genres\", loc=\"center\", bbox_to_anchor=(1, 0, 0.5, 1))\n",
    "ax2.set_title('Distribution of Genres in Collections')\n",
    "\n",
    "table.auto_set_font_size(False)\n",
    "table.set_fontsize(10)\n",
    "table.scale(1., 1.)\n",
    "\n",
    "plt.show()"
   ]
  },
  {
   "cell_type": "markdown",
   "metadata": {},
   "source": [
    "This looks better ! And we still have the same top 3 genre ! Let's now compare our franchise movies to non franchise movies, to see if they seem to follow the same distribution:"
   ]
  },
  {
   "cell_type": "code",
   "execution_count": null,
   "metadata": {},
   "outputs": [],
   "source": [
    "# Extract movies not in franchise\n",
    "non_franchise_df = movies_df[~movies_df['Wikipedia movie ID'].isin(franchise_df['Wikipedia movie ID'])].copy()\n",
    "\n",
    "# Extract genres proportions for movies not in franchise, as done before\n",
    "non_franchise_df.loc[:, 'cleaned_genres'] = non_franchise_df['genres'].apply(extract_genres)\n",
    "nf_flattened_genres = [genre for sublist in non_franchise_df['cleaned_genres'] for genre in sublist]\n",
    "nf_genre_counts = Counter(nf_flattened_genres)\n",
    "nf_genre_counts_df = pd.DataFrame.from_dict(nf_genre_counts, orient='index', columns=['count']).reset_index()\n",
    "nf_genre_counts_df.columns = ['genre', 'count']\n",
    "nf_genre_counts_df['proportion [%]'] = nf_genre_counts_df['count'] / nf_genre_counts_df['count'].sum() * 100\n",
    "nf_genre_counts_df = nf_genre_counts_df.sort_values(by='proportion [%]', ascending=False)\n",
    "nf_genre_counts_df['proportion [%]'] = nf_genre_counts_df['proportion [%]'].apply(lambda x: round(x, 1))\n",
    "\n",
    "# Set up the figure\n",
    "plt.figure(figsize=(12, 6))\n",
    "\n",
    "# Plot the higher bars (franchise) first\n",
    "sns.barplot(\n",
    "    x=\"genre\", y=\"proportion [%]\", data=genre_counts_df,\n",
    "    color=\"skyblue\", label=\"Franchise Movies\"\n",
    ")\n",
    "\n",
    "# Plot the lower bars (non-franchise) second\n",
    "sns.barplot(\n",
    "    x=\"genre\", y=\"proportion [%]\", data=nf_genre_counts_df,\n",
    "    color=\"orange\", alpha=0.8, label=\"Non-Franchise Movies\"\n",
    ")\n",
    "\n",
    "# Add labels, legend, and rotate x-axis labels for better visibility\n",
    "plt.xticks(rotation=90)\n",
    "plt.legend()\n",
    "plt.title(\"Genre Proportions: Franchise vs. Non-Franchise Movies\")\n",
    "plt.tight_layout()\n",
    "\n",
    "plt.show()"
   ]
  },
  {
   "cell_type": "markdown",
   "metadata": {},
   "source": [
    "Here, we can see that Dramas are a lot more present (three times more) in non-franchise movies than in franchise movies. Why is that ? Do the viewers lose interest when they are presented multiple dramas in a row ? If so, how would that translate ? In worse ratings ? Less box-office revenues ? Let's dive deeper into these questions, and try to understand the disparities between franchise and non-franchise movies, as well as understanding what makes a saga successful."
   ]
  },
  {
   "cell_type": "markdown",
   "metadata": {},
   "source": [
    "### Box office analysis "
   ]
  },
  {
   "cell_type": "code",
   "execution_count": null,
   "metadata": {},
   "outputs": [],
   "source": [
    "franchise_df = franchise_df.dropna(subset=['Movie box office revenue'])\n",
    "movies_df = movies_df.dropna(subset=['Movie box office revenue'])\n",
    "print(franchise_df['collection_id'].value_counts())"
   ]
  },
  {
   "cell_type": "markdown",
   "metadata": {},
   "source": [
    "If we erase missing box office values in the franchise dataset, we can see that not all movies in a franchise have the box office revenue. For now, we'll use all the movies with box-office information in the franchise dataset, but we might remove them later on, when comparing revenue between the movies in a franchise. "
   ]
  },
  {
   "cell_type": "code",
   "execution_count": 11,
   "metadata": {},
   "outputs": [],
   "source": [
    "movies_no_franchise = movies_df.copy()[movies_df['collection_id'].isna()]"
   ]
  },
  {
   "cell_type": "markdown",
   "metadata": {},
   "source": [
    "Let's first look at the boxplot of revenue to know what we're working with."
   ]
  },
  {
   "cell_type": "code",
   "execution_count": null,
   "metadata": {},
   "outputs": [],
   "source": [
    "all_box= pd.DataFrame({\n",
    "        'non-franchise movies': movies_no_franchise['Movie box office revenue'], #movie_box['Movie box office revenue'],\n",
    "        'franchise movies': franchise_df['Movie box office revenue'] # box_office_df['Movie box office revenue']\n",
    "        })\n",
    "print(all_box.describe())\n",
    "#Box plot to compare Movie box office in film that are in franchise and those that are not\n",
    "fig, axes = plt.subplots(1, 2, figsize=(12, 6))\n",
    "    \n",
    "# Plot with outliers\n",
    "all_box.boxplot(ax=axes[0])\n",
    "axes[0].set_title('Box plot with outliers')\n",
    "    \n",
    "# Plot without outliers\n",
    "all_box.boxplot(ax=axes[1], showfliers=False)\n",
    "axes[1].set_title('Box plot without outliers')\n",
    "    \n",
    "fig.text(0.04, 0.5, 'Box Office Revenue', va='center', rotation='vertical')\n",
    "plt.suptitle('Comparison of Movie Box Office Revenue')\n",
    "plt.tight_layout(rect=[0.04, 0, 1, 0.96])\n",
    "plt.show()"
   ]
  },
  {
   "cell_type": "markdown",
   "metadata": {},
   "source": [
    "In the first plot, we see that there are a lot of outliers. The other plot allows us to see more clearly the average and median box office revenue values. We see that franchises movies in general have a larger box office revenue then non franchise movies. "
   ]
  },
  {
   "cell_type": "code",
   "execution_count": null,
   "metadata": {},
   "outputs": [],
   "source": [
    "ax = sns.barplot(data=all_box)\n",
    "plt.title('Bar chart of Movie Box Office Revenue')\n",
    "plt.ylabel('Box Office Revenue')\n",
    "plt.show()\n",
    "\n",
    "# Perform independent (we assume they are) t-test (Welch's t-test, assuming unequal variances)\n",
    "t_stat, p_value = stats.ttest_ind(all_box['franchise movies'].dropna(), all_box['non-franchise movies'].dropna(), equal_var=False)\n",
    "print(\"T-test Results:\")\n",
    "print(f\"T-statistic: {t_stat:.4f}\")\n",
    "print(f\"P-value: {p_value:.4e}\")\n",
    "if p_value < 0.05:\n",
    "    print(\"The difference in means is statistically significant (p < 0.05).\")\n",
    "else:\n",
    "    print(\"The difference in means is not statistically significant (p >= 0.05).\")"
   ]
  },
  {
   "cell_type": "markdown",
   "metadata": {},
   "source": [
    "This graph is another visualisation then the one before that allows use to calculate the p-values. "
   ]
  },
  {
   "cell_type": "markdown",
   "metadata": {},
   "source": [
    "Now, let's analyse if a correlation exists beetween box office revenue and the movie budget. "
   ]
  },
  {
   "cell_type": "code",
   "execution_count": null,
   "metadata": {},
   "outputs": [],
   "source": [
    "#Formating the box office and budget values \n",
    "# Create a figure with three subplots\n",
    "fig, (ax1, ax2, ax3) = plt.subplots(1, 3, figsize=(18, 6))\n",
    "# Plot the correlation matrix \n",
    "ax1.scatter(movies_no_franchise['budget'], movies_no_franchise['revenue'])\n",
    "ax1.set_title(\"non-franchise movies\")\n",
    "ax1.set_xlabel('Budget')\n",
    "ax1.set_ylabel('Box office revenue')\n",
    "\n",
    "ax2.scatter(movies_df['budget'], movies_df['revenue'])\n",
    "ax2.set_title(\"all movies\")\n",
    "ax2.set_xlabel('Budget')\n",
    "ax2.set_ylabel('Box office revenue')\n",
    "\n",
    "ax3.scatter(franchise_df['budget'], franchise_df['revenue'])\n",
    "ax3.set_title(\"franchise movies\")\n",
    "ax3.set_xlabel('Budget')\n",
    "ax3.set_ylabel('Box office revenue')\n",
    "\n",
    "fig.suptitle('Scatter plot comparing box office revenue and budget ')\n",
    "plt.tight_layout(rect=[0, 0, 1, 0.96])\n",
    "plt.show()\n",
    "\n",
    "def correlation_revenue_budget(df):\n",
    "    # Calculate the correlation between 'budget' and 'revenue'\n",
    "    numerical_df = df.select_dtypes(include='number').drop(columns=['ratio_box_budget','Freebase movie ID','Movie name','Movie release date','vote_count','release_year','run_time','nbr_movie_per_col','movie_order','tmdb_id','cote_count','vote_average','Movie runtime','Wikipedia movie ID','collection_name',\t'collection_id','revenue'], errors='ignore')\n",
    "    correlation_matrix = numerical_df.corr()\n",
    "    return correlation_matrix\n",
    "\n",
    "non_franchise_correlation=correlation_revenue_budget(movies_no_franchise)\n",
    "movies_correlation=correlation_revenue_budget(movies_df)\n",
    "franchise_correlation=correlation_revenue_budget(franchise_df)\n",
    "\n",
    "# Create a figure with three subplots\n",
    "fig, (ax1, ax2, ax3) = plt.subplots(1, 3, figsize=(18, 6))\n",
    "# Plot the correlation matrix \n",
    "sns.heatmap(non_franchise_correlation, annot=True, cmap=\"coolwarm\", fmt=\".2f\", ax=ax1)\n",
    "ax1.set_title(\"non-franchise movies\")\n",
    "\n",
    "sns.heatmap(movies_correlation, annot=True, cmap=\"coolwarm\", fmt=\".2f\", ax=ax2)\n",
    "ax2.set_title(\"movies_correlation\")\n",
    "\n",
    "sns.heatmap(franchise_correlation, annot=True, cmap=\"coolwarm\", fmt=\".2f\", ax=ax3)\n",
    "ax3.set_title(\"franchise movies\")\n",
    "\n",
    "fig.suptitle('Correlation Matrices')\n",
    "plt.tight_layout(rect=[0, 0, 1, 0.96])\n",
    "plt.show()"
   ]
  },
  {
   "cell_type": "markdown",
   "metadata": {},
   "source": [
    "There is a linear positive correlation between box office revenue and budget that increase in franchise movies. Next, we want to look at how these values change within a single franchise:"
   ]
  },
  {
   "cell_type": "code",
   "execution_count": 23,
   "metadata": {},
   "outputs": [],
   "source": [
    "franchise_df = franchise_df.dropna(subset=['revenue'])\n",
    "franchise_df= franchise_df[franchise_df['revenue'] != 0]\n",
    "movies_df= movies_df.dropna(subset=['revenue'])\n",
    "movies_df = movies_df[movies_df['revenue'] != 0]"
   ]
  },
  {
   "cell_type": "code",
   "execution_count": 24,
   "metadata": {},
   "outputs": [],
   "source": [
    "#Formating the date in all the data set \n",
    "franchise_df['Movie release date corrected'] = pd.to_datetime(franchise_df['Movie release date'],format='mixed',yearfirst=True)\n",
    "franchise_df['release_year'] = franchise_df['Movie release date corrected'].dt.year\n",
    "movies_df['Movie release date'] = pd.to_datetime(movies_df['Movie release date'], errors='coerce')\n",
    "movies_df['release_year'] = movies_df['Movie release date'].dt.year\n",
    "\n",
    "franchise_df['movie_order']=franchise_df.groupby('collection_id')['release_year'].rank(ascending=True)\n",
    "#cleaning the data \n",
    "franchise_df['release_year'].dropna()\n",
    "\n",
    "#Formating the box office and budget values \n",
    "def scientific_notation(x):\n",
    "    return \"{:.2e}\".format(x)\n",
    "\n",
    "franchise_df['budget'] = pd.to_numeric(franchise_df['budget'])\n",
    "franchise_df['Movie box office revenue'] = pd.to_numeric(franchise_df['Movie box office revenue'])\n",
    "\n",
    "box_count = franchise_df['collection_id'].value_counts()\n",
    "valid_box_id = box_count[box_count > 1].index\n",
    "franchise_df = franchise_df[franchise_df['collection_id'].isin(valid_box_id)]"
   ]
  },
  {
   "cell_type": "markdown",
   "metadata": {},
   "source": [
    "Now the data set is clean, we can compare movies box office and revenue that are in the same franchise, classified by year. "
   ]
  },
  {
   "cell_type": "code",
   "execution_count": 25,
   "metadata": {},
   "outputs": [],
   "source": [
    "def collection_budget_box_1(df):\n",
    "    fig, (ax1, ax2) = plt.subplots(1, 2, figsize=(14, 6))\n",
    "    df = df.sort_values(by='release_year')\n",
    "\n",
    "    # Plot budget \n",
    "    for index, row in df.iterrows():\n",
    "        ax1.plot(row['release_year'], row['budget'], marker='o',linestyle='-',label=row['Movie name'])\n",
    "\n",
    "    f_budget = interp1d(df['release_year'], df['budget'], kind='linear')\n",
    "    x_budget = np.linspace(df['release_year'].min(), df['release_year'].max(), 500)\n",
    "    y_budget = f_budget(x_budget)\n",
    "    ax1.plot(x_budget, y_budget, '-', label='Interpolated Budget')\n",
    "    ax1.set_ylabel('Budget')\n",
    "    ax1.set_xlabel('Release Year')\n",
    "    ax1.set_title('Budget over Time')\n",
    "\n",
    "    # Plot box office revenue \n",
    "    for index, row in df.iterrows():\n",
    "        ax2.plot(row['release_year'], row['Movie box office revenue'], marker='o', linestyle='-',label=row['Movie name'])\n",
    "    \n",
    "    f_revenue = interp1d(df['release_year'], df['Movie box office revenue'], kind='linear')\n",
    "    x_revenue = np.linspace(df['release_year'].min(), df['release_year'].max(), 500)\n",
    "    y_revenue = f_revenue(x_revenue)\n",
    "    ax2.set_ylabel('Box Office Revenue')\n",
    "    ax2.plot(x_revenue, y_revenue, '-', label='Interpolated Revenue')\n",
    "    ax2.set_xlabel('Release Year')\n",
    "    ax2.set_title('Box Office Revenue over Time')\n",
    "    ax2.legend(bbox_to_anchor=(1.05, 1), loc='upper left')\n",
    "\n",
    "    # Set the main title for the figure\n",
    "    fig.suptitle(f\"{df['collection_name'].iloc[0]}\")\n",
    "    \n",
    "    plt.tight_layout(rect=[0, 0, 1, 0.96])\n",
    "    plt.show()"
   ]
  },
  {
   "cell_type": "code",
   "execution_count": null,
   "metadata": {},
   "outputs": [],
   "source": [
    "filtered_df = franchise_df[franchise_df['collection_id'] == 10]\n",
    "collection_budget_box_1(filtered_df)"
   ]
  },
  {
   "cell_type": "markdown",
   "metadata": {},
   "source": [
    "Here we plot the evolution through time of revenu and budget of movies in the franchise Star Wars. The goal is to create an interactive plot where you can choose the collection. \n",
    "Plus, to create an other interactive plot with the same information but as bar chart to be more readable. \n"
   ]
  },
  {
   "cell_type": "code",
   "execution_count": null,
   "metadata": {},
   "outputs": [],
   "source": [
    "import plotly.express as px\n",
    "import plotly.graph_objects as go\n",
    "import dash\n",
    "from dash import dcc, html\n",
    "from dash.dependencies import Input, Output\n",
    "app = dash.Dash(__name__)\n",
    "app.layout = html.Div([\n",
    "    html.H4('Interactive collection selection with simple Dash example'),\n",
    "    html.P(\"Select collection:\"),\n",
    "    dcc.Dropdown(\n",
    "        id=\"dropdown\",\n",
    "        options=[{'label': name, 'value': name} for name in franchise_df['collection_name'].unique()],\n",
    "        value='Star Wars Collection',\n",
    "        clearable=False,\n",
    "    ),\n",
    "    dcc.Graph(id=\"graph\"),\n",
    "])\n",
    "\n",
    "\n",
    "@app.callback(\n",
    "    Output(\"graph\", \"figure\"), \n",
    "    Input(\"dropdown\", \"value\"))\n",
    "def display_graph(collection_name):\n",
    "    filtered_df = franchise_df[franchise_df['collection_name'] == collection_name].sort_values(by='release_year')\n",
    "    filtered_df['release_year_int'] = filtered_df.loc[:,'release_year'].astype(int)\n",
    "# Melt the DataFrame to have budget and revenue in a single column\n",
    "    melted_df = filtered_df.melt(id_vars=['release_year_int', 'Movie name'], value_vars=['budget', 'revenue'], \n",
    "                             var_name='Value', value_name='Money [$]')\n",
    "# Create an interactive plot using Plotly\n",
    "    fig = px.bar(melted_df, x='release_year_int', y='Money [$]', color='Value', barmode=\"group\",\n",
    "             hover_data=['Movie name'], title=f'Budget and Revenue through time of the {filtered_df[\"collection_name\"].iloc[0]}',\n",
    "             labels={'release_year_int': 'Release Year', 'Money [$]': 'Money [$]', 'Value': 'Type'})\n",
    "# Customize the layout\n",
    "    fig.update_layout(\n",
    "        xaxis=dict(\n",
    "            tickmode='array', \n",
    "            tickvals=filtered_df['release_year_int'], \n",
    "            ticktext=[f'{year} {name}' for year, name in filtered_df[['release_year_int', 'Movie name']].values],\n",
    "            tickangle=45\n",
    "        ),\n",
    "        legend_title_text='Value',\n",
    "        autosize=False,\n",
    "        width=1000,\n",
    "        height=600\n",
    "    )\n",
    "    return fig\n",
    "\n",
    "# Run the Dash app on a different port\n",
    "if __name__ == '__main__':\n",
    "    app.run_server(debug=True, port=8056)\n"
   ]
  },
  {
   "cell_type": "code",
   "execution_count": 47,
   "metadata": {},
   "outputs": [],
   "source": [
    "# Import libraries\n",
    "import requests\n",
    "from bs4 import BeautifulSoup\n",
    "URL ='https://www.minneapolisfed.org/about-us/monetary-policy/inflation-calculator/consumer-price-index-1800-'\n",
    "r = requests.get(URL)\n",
    "page_body = r.text\n",
    "soup = BeautifulSoup(page_body, 'html.parser')\n",
    "table = soup.find('table')\n",
    "table_rows = table.find_all('tr')\n",
    "data = []\n",
    "for tr in table_rows:\n",
    "    td = tr.find_all('td')\n",
    "    row = [i.text for i in td]\n",
    "    data.append(row)\n",
    "inflation_rate = pd.DataFrame(data, columns=[\"Year\", \"CPI\",\"anuel_inflation_rate\"])\n",
    "# Drop the first row \n",
    "inflation_rate = inflation_rate.drop(0).reset_index(drop=True)\n",
    "\n",
    "# Clean up the data by removing newline characters and extra spaces\n",
    "inflation_rate['Year'] = inflation_rate['Year'].str.strip().str.replace('\\n', '')\n",
    "inflation_rate['CPI'] = inflation_rate['CPI'].str.strip().str.replace('\\n', '').astype(float)\n",
    "inflation_rate['anuel_inflation_rate'] = inflation_rate['anuel_inflation_rate'].str.strip().str.replace('\\n', '')\n",
    "\n",
    "inflation_rate['Year'] = pd.to_numeric(inflation_rate['Year'])\n",
    "inflation_rate['CPI'] = pd.to_numeric(inflation_rate['CPI'])\n",
    "\n",
    "franchise_df= pd.merge(franchise_df, inflation_rate['CPI'], how='left', left_on=franchise_df['release_year'], right_on=inflation_rate['Year'])\n",
    "\n",
    "\n",
    "\n",
    "#base year 2024\n",
    "#Real Price=Nominal Price×CPI in Base Year/ CPI in Year of Price\n",
    "#Year 2 Price = Year 1 Price x (Year 2 CPI/Year 1 CPI)\n",
    "\n",
    "# Find the CPI corresponding to the year 2024\n",
    "base_year_cpi= inflation_rate.loc[inflation_rate['Year'] == 2024, 'CPI'].iloc[0]\n",
    "#print(base_year_cpi)\n",
    "\n",
    "franchise_df['real_revenue']= franchise_df['revenue']*base_year_cpi/franchise_df['CPI'].iloc[0]\n",
    "franchise_df['real_budget']= franchise_df['budget']*base_year_cpi/franchise_df['CPI'].iloc[0]"
   ]
  },
  {
   "cell_type": "markdown",
   "metadata": {},
   "source": [
    "### Year Repartition (from the release date colomn)"
   ]
  },
  {
   "cell_type": "markdown",
   "metadata": {},
   "source": [
    "#### initialisation for the year partition part"
   ]
  },
  {
   "cell_type": "code",
   "execution_count": 159,
   "metadata": {},
   "outputs": [],
   "source": [
    "movies_df = pd.read_csv('data/movie_metadata_with_tmdb.csv')\n",
    "movies_df['Movie release date corrected'] = pd.to_datetime(movies_df['Movie release date'], format='mixed', yearfirst=True, errors='coerce')\n",
    "movies_df['release_year'] = movies_df['Movie release date corrected'].dt.year\n",
    "\n",
    "\n",
    "franchise_df=get_franchise_movies(movies_df)\n",
    "franchise_data_df = get_franchise_data(franchise_df)"
   ]
  },
  {
   "cell_type": "markdown",
   "metadata": {},
   "source": [
    "In this section, we visualize the distribution of movies over the years to compare whether the CMU dataset and the franchise dataset contain a similar distribution of movies across time."
   ]
  },
  {
   "cell_type": "code",
   "execution_count": null,
   "metadata": {},
   "outputs": [],
   "source": [
    "fig, ax1 = plt.subplots(figsize=(10, 6))\n",
    "\n",
    "# Plot the histogram for franchise_df\n",
    "ax1.hist(franchise_df['release_year'].dropna(), bins=range(int(franchise_df['release_year'].min()), int(franchise_df['release_year'].max()) + 1), edgecolor='black', alpha=0.5, label='franchise_df')\n",
    "ax1.set_xlabel('Release Year')\n",
    "ax1.set_ylabel('Number of Movies in franchise_df', color='b')\n",
    "ax1.tick_params(axis='y', labelcolor='b')\n",
    "\n",
    "# Create a second y-axis for the movies_df histogram\n",
    "ax2 = ax1.twinx()\n",
    "ax2.hist(movies_df['release_year'].dropna(), bins=range(int(movies_df['release_year'].min()), int(movies_df['release_year'].max()) + 1), edgecolor='black', alpha=0.5, color='r', label='movies_df')\n",
    "ax2.set_ylabel('Number of Movies in movies_df', color='r')\n",
    "ax2.tick_params(axis='y', labelcolor='r')\n",
    "\n",
    "fig.tight_layout()\n",
    "plt.title('Histogram of Number of Movies per Release Year')\n",
    "fig.legend(loc='upper right', bbox_to_anchor=(1,1), bbox_transform=ax1.transAxes)\n",
    "plt.show()\n",
    "# Create a new figure\n",
    "fig, ax = plt.subplots(figsize=(10, 6))\n",
    "\n",
    "# Plot the KDE for franchise_df\n",
    "sns.kdeplot(franchise_df['release_year'].dropna(), ax=ax, label='franchise_df', color='blue')\n",
    "\n",
    "# Plot the KDE for movies_df\n",
    "sns.kdeplot(movies_df['release_year'].dropna(), ax=ax, label='movies_df', color='red')\n",
    "\n",
    "# Set labels and title\n",
    "ax.set_xlabel('Release Year')\n",
    "ax.set_ylabel('Density')\n",
    "ax.set_title('KDE Plot of Number of Movies per Release Year')\n",
    "ax.legend()\n",
    "\n",
    "plt.show()"
   ]
  },
  {
   "cell_type": "markdown",
   "metadata": {},
   "source": [
    "Since the interactive plot does not work on the website version of GitHub, it was removed. However, the idea is to create a timeline displaying all the franchises, with options to sort, filter, and adjust color hues to emphasize specific categories of franchises and provide a clearer overview of the data."
   ]
  },
  {
   "cell_type": "markdown",
   "metadata": {},
   "source": [
    "In this part we're gonna investigate the distribution of length and of number of movies in the dataset"
   ]
  },
  {
   "cell_type": "code",
   "execution_count": null,
   "metadata": {},
   "outputs": [],
   "source": [
    "# Count the number of collection of same length\n",
    "franchise_data_df_counts = franchise_data_df['franchise_length_years'].value_counts().reset_index()\n",
    "franchise_data_df_counts.columns = ['franchise_length_years', 'count']\n",
    "# Plotting the bar chart\n",
    "fig, ax = plt.subplots()\n",
    "ax.bar(franchise_data_df_counts['franchise_length_years'], franchise_data_df_counts['count'])\n",
    "ax.set_xlabel('Collection Length in Years')\n",
    "ax.set_ylabel('Count')\n",
    "ax.set_title('Distribution of Collection Lengths in Years')\n",
    "plt.show()\n",
    "\n",
    "# Show the outliers for a length of 40 years and more\n",
    "outliers = franchise_data_df[franchise_data_df['franchise_length_years'] >= 40]\n",
    "outliers[['collection_name', 'franchise_length_years']]"
   ]
  },
  {
   "cell_type": "code",
   "execution_count": null,
   "metadata": {},
   "outputs": [],
   "source": [
    "# Count the number of collection with the same number of movies\n",
    "franchise_data_df_counts = franchise_data_df['movie_count'].value_counts().reset_index()\n",
    "franchise_data_df_counts.columns = ['movie_count', 'count']\n",
    "\n",
    "# Show the outliers for a number of movies of 20 and more\n",
    "outliers = franchise_data_df[franchise_data_df['movie_count'] >= 20]\n",
    "outliers[['collection_name', 'movie_count']]"
   ]
  },
  {
   "cell_type": "markdown",
   "metadata": {},
   "source": [
    "We see that most of the franchise have 2 movies, which could be sequel of 2 movies but also be an original movie with a remake or an additional movie of a side story, to try to separate them, we try to normalize this length and number of movie distribution"
   ]
  },
  {
   "cell_type": "code",
   "execution_count": null,
   "metadata": {},
   "outputs": [],
   "source": [
    "# Normalize the length by the number of movies\n",
    "franchise_data_df['franchise_length_normalized'] = franchise_data_df['franchise_length_years'] / franchise_data_df['movie_count']\n",
    "\n",
    "# Count the number of collection with the same normalized length\n",
    "franchise_data_df_counts = franchise_data_df['franchise_length_normalized'].value_counts().reset_index()\n",
    "franchise_data_df_counts.columns = ['franchise_length_normalized', 'count']\n",
    "\n",
    "# Plotting the bar chart\n",
    "fig, ax = plt.subplots()\n",
    "ax.bar(franchise_data_df_counts['franchise_length_normalized'], franchise_data_df_counts['count'])\n",
    "ax.set_xlabel('Normalized Collection Length in Years')\n",
    "ax.set_ylabel('Count')\n",
    "ax.set_title('Distribution of Normalized Collection Lengths in Years')\n",
    "plt.show()\n",
    "\n",
    "# Show the outliers for a normalized length of 15 years and more\n",
    "print(\"Outliers (Normalized Length >= 16 years):\")\n",
    "print(franchise_data_df[franchise_data_df['franchise_length_normalized'] >= 16][['collection_name', 'franchise_length_normalized']])\n",
    "\n",
    "# Show the 10 first where the normalized length under 5 years\n",
    "print(\"\\nFirst 10 (Normalized Length < 5 years):\")\n",
    "print(franchise_data_df[franchise_data_df['franchise_length_normalized'] < 5].head(10)[['collection_name', 'franchise_length_normalized']])"
   ]
  },
  {
   "cell_type": "markdown",
   "metadata": {},
   "source": [
    "Now show the average vote score per collection for different normalized years values"
   ]
  },
  {
   "cell_type": "code",
   "execution_count": null,
   "metadata": {},
   "outputs": [],
   "source": [
    "# violin plot of the average vote by length in years with 8 bashes for 0,1,2,3,4,5,6 and more than 6 years\n",
    "franchise_data_df['franchise_length_years_binned'] = pd.cut(franchise_data_df['franchise_length_years'], bins=[0, 1, 2, 3, 4, 5, 6, np.inf], labels=['0-1', '1-2', '2-3', '3-4', '4-5', '5-6', '6+'])\n",
    "# Calculate the mean and standard deviation of average_score for each franchise_length_years_binned\n",
    "length_stats = franchise_data_df.groupby('franchise_length_years_binned')['average_score'].agg(['mean', 'std']).reset_index()\n",
    "\n",
    "# Plot the line with error bars\n",
    "fig, ax = plt.subplots(figsize=(10, 6))\n",
    "ax.errorbar(length_stats['franchise_length_years_binned'], length_stats['mean'], yerr=length_stats['std'], fmt='-o', capsize=5)\n",
    "ax.set_xlabel('Franchise Length in Years')\n",
    "ax.set_ylabel('Average Vote')\n",
    "ax.set_title('Average Vote by Franchise Length in Years with Error Bars')\n",
    "ax.set_ylim(0, 10)\n",
    "plt.show()"
   ]
  },
  {
   "cell_type": "code",
   "execution_count": null,
   "metadata": {},
   "outputs": [],
   "source": [
    "# violin plot of the average vote by length in years with 8 bashes for 0,1,2,3,4,5,6 and more than 6 years\n",
    "franchise_data_df['franchise_normalized_length_years_binned'] = pd.cut(franchise_data_df['franchise_length_normalized'], bins=[0, 1, 2, 3, 4, 5, 6, np.inf], labels=['0-1', '1-2', '2-3', '3-4', '4-5', '5-6', '6+'])\n",
    "# Calculate the mean and standard deviation of average_score for each franchise_normalized_length_years_binned\n",
    "length_stats = franchise_data_df.groupby('franchise_normalized_length_years_binned')['average_score'].agg(['mean', 'std']).reset_index()\n",
    "\n",
    "# Plot the line with error bars\n",
    "fig, ax = plt.subplots(figsize=(10, 6))\n",
    "ax.errorbar(length_stats['franchise_normalized_length_years_binned'], length_stats['mean'], yerr=length_stats['std'], fmt='-o', capsize=5)\n",
    "ax.set_xlabel('Franchise Normalized Length in Years')\n",
    "ax.set_ylabel('Average Vote')\n",
    "ax.set_title('Average Vote by Franchise Normalized Length in Years with Error Bars')\n",
    "ax.set_ylim(0, 10)\n",
    "plt.show()"
   ]
  },
  {
   "cell_type": "markdown",
   "metadata": {},
   "source": [
    "Now we can also investigate the score for each movie in a collection according to their order of release"
   ]
  },
  {
   "cell_type": "code",
   "execution_count": 166,
   "metadata": {},
   "outputs": [],
   "source": [
    "# add a collmn with the numerotation of the movies in the collection by release date order\n",
    "franchise_df['movie_order'] = franchise_df.groupby('collection_name')['Movie release date corrected'].rank(method='first')"
   ]
  },
  {
   "cell_type": "code",
   "execution_count": null,
   "metadata": {},
   "outputs": [],
   "source": [
    "# violin plot of the average vote for the movie order with 8 bashes for 0,1,2,3,4,5,6 and more than 6th movie\n",
    "franchise_df['movie_order_binned'] = pd.cut(franchise_df['movie_order'], bins=[0, 1, 2, 3, 4, 5, 6, np.inf], labels=['1st', '2nd', '3rd', '4th', '5th', '6th', '6th+'])\n",
    "# Calculate the mean and standard deviation of vote_average for each movie_order_binned\n",
    "order_stats = franchise_df.groupby('movie_order_binned')['vote_average'].agg(['mean', 'std']).reset_index()\n",
    "\n",
    "# Plot the line with error bars\n",
    "fig, ax = plt.subplots(figsize=(10, 6))\n",
    "ax.errorbar(order_stats['movie_order_binned'], order_stats['mean'], yerr=order_stats['std'], fmt='-o', capsize=5)\n",
    "ax.set_xlabel('Number of the movie in the collection')\n",
    "ax.set_ylabel('Average Vote')\n",
    "ax.set_title('Average Vote by movie number in the collection with Error Bars')\n",
    "ax.set_ylim(0, 10)\n",
    "plt.show()"
   ]
  },
  {
   "cell_type": "markdown",
   "metadata": {},
   "source": [
    "Now we can also compare the distribution of the vote score in franchise with a good overall review and ones with a worse overal review"
   ]
  },
  {
   "cell_type": "code",
   "execution_count": null,
   "metadata": {},
   "outputs": [],
   "source": [
    "# kde plot of the average vote for all the franchise\n",
    "\n",
    "fig, ax = plt.subplots(figsize=(10, 6))\n",
    "average_vote = franchise_df[franchise_df['vote_average'] > 0]['vote_average'].median()\n",
    "ax.axvline(average_vote, color='r', linestyle='--', label=f'Median: {average_vote:.2f}')\n",
    "sns.kdeplot(franchise_df[franchise_df['vote_average'] > 0]['vote_average'].dropna(), ax=ax, label='franchise_df', color='blue')\n",
    "ax.set_xlabel('Average Vote')\n",
    "ax.set_ylabel('Density')\n",
    "ax.set_title('KDE Plot of Average Vote for all the franchise')\n",
    "ax.legend()\n",
    "plt.show()"
   ]
  },
  {
   "cell_type": "code",
   "execution_count": null,
   "metadata": {},
   "outputs": [],
   "source": [
    "# Filter the data for collections with average scores less than 6.1\n",
    "low_score_df = franchise_df[(franchise_df['vote_average'] < average_vote) & (franchise_df['vote_average'] > 0)]\n",
    "\n",
    "# Filter the data for collections with average scores more than 6.1\n",
    "high_score_df = franchise_df[franchise_df['vote_average'] > average_vote]\n",
    "\n",
    "# Bin the movie order for both dataframes using .loc to avoid the SettingWithCopyWarning\n",
    "low_score_df.loc[:, 'movie_order_binned'] = pd.cut(low_score_df['movie_order'], bins=[0, 1, 2, 3, 4, 5, 6, np.inf], labels=['1st', '2nd', '3rd', '4th', '5th', '6th', '6th+'])\n",
    "high_score_df.loc[:, 'movie_order_binned'] = pd.cut(high_score_df['movie_order'], bins=[0, 1, 2, 3, 4, 5, 6, np.inf], labels=['1st', '2nd', '3rd', '4th', '5th', '6th', '6th+'])\n",
    "\n",
    "# Calculate the mean and standard deviation of vote_average for each movie_order_binned\n",
    "low_score_stats = low_score_df.groupby('movie_order_binned')['vote_average'].agg(['mean', 'std']).reset_index()\n",
    "high_score_stats = high_score_df.groupby('movie_order_binned')['vote_average'].agg(['mean', 'std']).reset_index()\n",
    "\n",
    "# Plot the line with error bars for both low and high score collections\n",
    "fig, ax = plt.subplots(figsize=(10, 6))\n",
    "\n",
    "# Plot low score collections\n",
    "ax.errorbar(low_score_stats['movie_order_binned'], low_score_stats['mean'], yerr=low_score_stats['std'], fmt='-o', capsize=5, label='Score < 6.1')\n",
    "\n",
    "# Plot high score collections\n",
    "ax.errorbar(high_score_stats['movie_order_binned'], high_score_stats['mean'], yerr=high_score_stats['std'], fmt='-o', capsize=5, label='Score > 6.1')\n",
    "\n",
    "ax.set_xlabel('Number of the movie in the collection')\n",
    "ax.set_ylabel('Average Vote')\n",
    "ax.set_title('Average Vote by movie number in the collection with Error Bars')\n",
    "ax.set_ylim(0, 10)\n",
    "ax.legend()\n",
    "plt.show()\n"
   ]
  },
  {
   "cell_type": "markdown",
   "metadata": {},
   "source": [
    "### Looking at the Countries of Origin\n",
    "\n",
    "Now, we want to focus on the franchises' countries of origin (using the tmdb dataset), and look at how they interact. First we plotted a pie chart to get a first look at which countries are most respresented in the dataset."
   ]
  },
  {
   "cell_type": "code",
   "execution_count": null,
   "metadata": {},
   "outputs": [],
   "source": [
    "\n",
    "# Clean the categories and normalize the data\n",
    "def clean_categories(category_string):\n",
    "    # Remove brackets and quotes\n",
    "    cleaned_category=category_string.replace(\"[\",\"\").replace(\"]\",\"\").replace(\"'\",\"\").split(\", \")\n",
    "    # Return category list\n",
    "    return cleaned_category\n",
    "\n",
    "\n",
    "# Initialize a defaultdict to hold category sums\n",
    "country_sums = defaultdict(int)\n",
    "\n",
    "# Iterate over the rows of the DataFrame\n",
    "for _, row in franchise_df.iterrows():\n",
    "    # Clean the categories\n",
    "    origin_country_new = clean_categories(row['tmdb_origin_country'])\n",
    "    # Increment the count for each category\n",
    "    for country in origin_country_new:\n",
    "        country_sums[country] += 1\n",
    "\n",
    "# Convert the defaultdict to a DataFrame\n",
    "country_count = pd.Series(country_sums)\n",
    "\n",
    "# Only keep countries with more than 10 movies\n",
    "others=country_count[country_count<150].sum()\n",
    "country_count=country_count[country_count>=150]\n",
    "country_count['Others']=others\n",
    "\n",
    "# Plot the pie chart\n",
    "fig, ax = plt.subplots(figsize=(6, 6))\n",
    "wedges, texts, autotexts = ax.pie(country_count, autopct='%1.1f%%', pctdistance=1.1, startangle=90)\n",
    "ax.legend(wedges, country_count.index, title=\"Countries\", loc=\"center\", bbox_to_anchor=(1, 0, 0.5, 1))\n",
    "ax.set_title('Distribution of Origin Countries in Franchise movies')\n",
    "# Add the text under the pie chart\n",
    "info_text = \"'US'=='United States of America' ; 'HK'=='Hong Kong' ; 'CA'=='Canada' ; 'IN'=='India' ; 'GB'=='Great Britain' ; 'JP'=='Japan'\"\n",
    "fig.text(0.5, 0.01, info_text, ha='center', va='center', fontsize=10, wrap=True)\n",
    "plt.tight_layout()\n",
    "plt.show()"
   ]
  },
  {
   "cell_type": "markdown",
   "metadata": {},
   "source": [
    "Now, let's look at how they interact: the nodes in the plot below represent how often the country is the origin of a movie, and the edges indicate that two countries are listed together as the origin countries."
   ]
  },
  {
   "cell_type": "code",
   "execution_count": null,
   "metadata": {},
   "outputs": [],
   "source": [
    "from src.utils.plotting import plot_network\n",
    "plot_network(franchise_df)"
   ]
  },
  {
   "cell_type": "markdown",
   "metadata": {},
   "source": [
    "## Character data analysis"
   ]
  },
  {
   "cell_type": "markdown",
   "metadata": {},
   "source": [
    "### Data loading and preprocessing"
   ]
  },
  {
   "cell_type": "markdown",
   "metadata": {},
   "source": [
    "First, we load the character data, and drop rows with missing values in any of the following columns:\n",
    "\n",
    "```\n",
    "['Wikipedia_movie_ID', 'Freebase_movie_ID', 'Movie_release_date','Actor_gender' 'Actor_name', 'Freebase_character_actor_map_ID', 'Freebase_actor_ID']\n",
    "```\n",
    "\n",
    "Note that `clean_character_metadata` also creates `ethnicity` and `racial_group` columns. For more details, please refer to `data/utils.py`."
   ]
  },
  {
   "cell_type": "code",
   "execution_count": null,
   "metadata": {},
   "outputs": [],
   "source": [
    "col_names = [\n",
    "    'Wikipedia_movie_ID', 'Freebase_movie_ID', 'Movie_release_date', 'Character_name', \n",
    "    'Actor_date_of_birth', 'Actor_gender', 'Actor_height_m', 'Actor_ethnicity_Freebase_ID', \n",
    "    'Actor_name', 'Actor_age_at_movie_release', 'Freebase_character_actor_map_ID', \n",
    "    'Freebase_character_ID', 'Freebase_actor_ID'\n",
    "]\n",
    "character_df = pd.read_csv('data/character.metadata.tsv', names=col_names, sep='\\t')\n",
    "character_df = clean_character_metadata(character_df, mapping_path=\"data/ethnicity_mapping.csv\") # cleaned character data\n",
    "movie_df = pd.read_csv(\"data/movie_metadata_with_tmdb.csv\") # all tmdb-enriched movie meta data\n",
    "franchise_df = get_franchise_movies(movie_df) # franchise movies\n",
    "# Filter out movies that are not in the franchise\n",
    "fr_character_df = character_df[character_df['Wikipedia_movie_ID'].isin(franchise_df['Wikipedia movie ID'])]"
   ]
  },
  {
   "cell_type": "markdown",
   "metadata": {},
   "source": [
    "### Grasping the data"
   ]
  },
  {
   "cell_type": "markdown",
   "metadata": {},
   "source": [
    "#### On gender"
   ]
  },
  {
   "cell_type": "markdown",
   "metadata": {},
   "source": [
    "In the context of diversity and inclusion, what interests us the most is gender and ethnicity distribution of actors. Let's first check if gender distribution in franchise movies is similar to that of set of all of our movies."
   ]
  },
  {
   "cell_type": "code",
   "execution_count": null,
   "metadata": {},
   "outputs": [],
   "source": [
    "# Calculate the proportion of each gender for character_df\n",
    "gender_proportion_all = character_df['Actor_gender'].value_counts()\n",
    "\n",
    "# Calculate the proportion of each gender for fr_character_df\n",
    "gender_proportion_franchise = fr_character_df['Actor_gender'].value_counts()\n",
    "\n",
    "# Plot the gender proportions as pie charts side by side\n",
    "fig, axes = plt.subplots(1, 2, figsize=(16, 8))\n",
    "\n",
    "# Plot for character_df\n",
    "gender_proportion_all.plot(kind='pie', ax=axes[0], autopct=custom_autopct(gender_proportion_all),\n",
    "                           startangle=90, labels=['Male', 'Female'], colors=['#1f77b4', '#feb5da'], fontsize=14)\n",
    "axes[0].set_ylabel('')\n",
    "axes[0].set_title('All movies', fontsize=20)\n",
    "\n",
    "# Plot for fr_character_df\n",
    "gender_proportion_franchise.plot(kind='pie', ax=axes[1], autopct=custom_autopct(gender_proportion_franchise),\n",
    "                                 startangle=90, labels=['Male', 'Female'], colors=['#1f77b4', '#feb5da'],\n",
    "                                 fontsize=14)\n",
    "axes[1].set_ylabel('')\n",
    "axes[1].set_title('Franchise movies', fontsize=20)\n",
    "\n",
    "# Set overarching title\n",
    "fig.suptitle('Gender distribution comparison', fontsize=24)\n",
    "\n",
    "plt.show()"
   ]
  },
  {
   "cell_type": "markdown",
   "metadata": {},
   "source": [
    "It seems that franchise movies have similar proportion of female actors, so that we can do analysis on the influence of gender on both franchise and non-franchise movies."
   ]
  },
  {
   "cell_type": "markdown",
   "metadata": {},
   "source": [
    "#### On ethnicity"
   ]
  },
  {
   "cell_type": "markdown",
   "metadata": {},
   "source": [
    "For what percentage of the actors the ethnicity information is available?\n",
    "\n",
    "From the pie chart below, it seems that this is available for only 1/4 of the actors. However, after observing the data, these actors with known ethnicity tend to play main roles in the film. For us, this justify to conduct analysis on only available ethnicity data."
   ]
  },
  {
   "cell_type": "code",
   "execution_count": null,
   "metadata": {},
   "outputs": [],
   "source": [
    "ethnicity_counts = character_df['ethnicity'].notnull().value_counts()\n",
    "ethnicity_labels = ['Ethnicity Unknown', 'Ethnicity Known']\n",
    "\n",
    "# Plot the pie chart\n",
    "fig, ax = plt.subplots()\n",
    "ax.pie(ethnicity_counts, labels=ethnicity_labels, autopct=custom_autopct(ethnicity_counts), startangle=90, colors=['#1f77b4', '#ff7f0e'])\n",
    "ax.set_title('Proportion of Actors with Ethnicity Entries', fontsize=14)\n",
    "plt.show()"
   ]
  },
  {
   "cell_type": "markdown",
   "metadata": {},
   "source": [
    "As shown in below, some of the ethnicity categories are very specific which might not be suitable for group-level analysis. We manually mapped these ethnicity categories to 7 racial groups, as exlained in the `README.md`."
   ]
  },
  {
   "cell_type": "code",
   "execution_count": null,
   "metadata": {},
   "outputs": [],
   "source": [
    "character_df.ethnicity.dropna().reset_index()[:10]"
   ]
  },
  {
   "cell_type": "markdown",
   "metadata": {},
   "source": [
    "The plot below shows\n",
    "\n",
    "(Left): Count of ethnicity category on log-scale. If you pay attention to the y-axis, we notice that there are more than 400 ethnicity categories.\n",
    "\n",
    "(Right): Extracting the top-30 categories from the plot on the left."
   ]
  },
  {
   "cell_type": "code",
   "execution_count": null,
   "metadata": {},
   "outputs": [],
   "source": [
    "fig, axes = plt.subplots(1, 2, figsize=(20, 10))\n",
    "\n",
    "# Plot the current figure on the left\n",
    "ax1 = character_df.groupby(\"ethnicity\").size().sort_values(ascending=True).plot(\n",
    "    kind='barh', ax=axes[0], logx=True, width=1, edgecolor='none')\n",
    "ax1.set_title(\"Number of characters per ethnicity (log scale)\", fontsize=14)\n",
    "ax1.set_yticks(range(0, len(character_df['ethnicity'].value_counts()), 50))\n",
    "ax1.set_yticklabels(range(0, len(character_df['ethnicity'].value_counts()), 50), rotation=0)\n",
    "ax1.set_xlabel(\"Number of characters (log scale)\")\n",
    "ax1.set_ylabel(\"Ethnicity\")\n",
    "\n",
    "# Plot the top 30 ethnicities on the right\n",
    "top_30_ethnicities = character_df['ethnicity'].value_counts().nlargest(30)\n",
    "ax2 = top_30_ethnicities.sort_values(ascending=True).plot(\n",
    "    kind='barh', ax=axes[1], width=.5)\n",
    "ax2.set_title(\"Top 30 ethnicities by number of characters\", fontsize=14)\n",
    "ax2.set_xlabel(\"Number of characters\")\n",
    "ax2.set_ylabel(\"Ethnicity\")\n",
    "\n",
    "plt.tight_layout()\n",
    "plt.show()"
   ]
  },
  {
   "cell_type": "markdown",
   "metadata": {},
   "source": [
    "Next, we'll look at the distribution of racial groups in our movie sets."
   ]
  },
  {
   "cell_type": "code",
   "execution_count": null,
   "metadata": {},
   "outputs": [],
   "source": [
    "character_df[\"racial_group\"]\n",
    "value_counts = character_df[\"racial_group\"].value_counts()\n",
    "value_counts.plot(kind='bar', figsize=(10, 6), color='skyblue', edgecolor='black')\n",
    "plt.title('Distribution of Racial Groups', fontsize=14)\n",
    "plt.xlabel('Racial Group')\n",
    "plt.ylabel('Count')\n",
    "plt.xticks(rotation=45)\n",
    "plt.show()"
   ]
  },
  {
   "cell_type": "markdown",
   "metadata": {},
   "source": [
    "We observe that white people are the largest group among the actors where ethnicity information is available. In the next step, we combine this ethnicity/racial group information with actor casting and tabular data analysis to reveal the influence of ethnic identity in the movie world."
   ]
  }
 ],
 "metadata": {
  "kernelspec": {
   "display_name": "ada",
   "language": "python",
   "name": "python3"
  },
  "language_info": {
   "codemirror_mode": {
    "name": "ipython",
    "version": 3
   },
   "file_extension": ".py",
   "mimetype": "text/x-python",
   "name": "python",
   "nbconvert_exporter": "python",
   "pygments_lexer": "ipython3",
   "version": "3.11.10"
  }
 },
 "nbformat": 4,
 "nbformat_minor": 2
}
