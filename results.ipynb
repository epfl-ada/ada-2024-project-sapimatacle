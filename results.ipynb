{
 "cells": [
  {
   "cell_type": "code",
   "execution_count": null,
   "metadata": {},
   "outputs": [],
   "source": [
    "import numpy as np\n",
    "import matplotlib.pyplot as plt\n",
    "import pandas as pd\n",
    "import seaborn as sns\n",
    "import math\n",
    "\n",
    "#load the statistical libraries\n",
    "from statsmodels.stats import diagnostic\n",
    "from scipy import stats\n"
   ]
  },
  {
   "cell_type": "code",
   "execution_count": null,
   "metadata": {},
   "outputs": [],
   "source": [
    "# data \n",
    "\n",
    "character = pd.read_csv(\"data/character.metadata.tsv\", sep='\\t')\n",
    "movie = pd.read_csv(\"data/movie.metadata.tsv\", sep='\\t')\n",
    "\n",
    "# Add headers to the DataFrame\n",
    "movie.columns = [\n",
    "    'Wikipedia movie ID', 'Freebase movie ID', 'Movie name', 'Movie release date', \n",
    "    'Movie box office revenue', 'Movie runtime', 'Movie languages (Freebase ID:name tuples)', \n",
    "    'Movie countries (Freebase ID:name tuples)', 'Movie genres (Freebase ID:name tuples)'\n",
    "]\n",
    "\n",
    "# Add headers to the DataFrame\n",
    "character.columns = [\n",
    "    'Wikipedia movie ID', 'Freebase movie ID', 'Movie release date', 'Character name', \n",
    "    'Actor date of birth', 'Actor gender', 'Actor height (in meters)', 'Actor ethnicity (Freebase ID)', \n",
    "    'Actor name', 'Actor age at movie release', 'Freebase character/actor map ID', \n",
    "    'Freebase character ID', 'Freebase actor ID'\n",
    "]"
   ]
  },
  {
   "cell_type": "code",
   "execution_count": null,
   "metadata": {},
   "outputs": [],
   "source": [
    "import pandas as pd\n",
    "new_data = pd.read_csv('data/movie_metadata_with_tmdb.csv')\n",
    "new_data.groupby(by='collection_id').head()\n",
    "collection = new_data.groupby(by='collection_id')\n",
    "collection.head()"
   ]
  },
  {
   "cell_type": "code",
   "execution_count": null,
   "metadata": {},
   "outputs": [],
   "source": [
    "import matplotlib.pyplot as plt\n",
    "\n",
    "# Group by 'collection_id' and count 'Wikipedia movie ID', then sort in descending order\n",
    "counts = new_data.groupby(by='collection_id')['Wikipedia movie ID'].count().sort_values(ascending=False) \n",
    "counts = counts[counts > 1]\n",
    "print(counts)\n",
    "# jetter ceux avec un seul film \n",
    "# Create a bar plot\n",
    "plt.figure(figsize=(10, 2))\n",
    "counts.plot(kind='bar')\n",
    "plt.title('Number of movies by Collection')\n",
    "plt.xlabel('colllection ID')\n",
    "plt.ylabel('number of movie ')\n",
    "plt.xticks([])\n",
    "plt.show()"
   ]
  },
  {
   "cell_type": "code",
   "execution_count": null,
   "metadata": {},
   "outputs": [],
   "source": [
    "new_data.groupby(by='collection_id')['Wikipedia movie ID'].count().describe()\n",
    "#collection['Wikipedia movie ID'].count().max()"
   ]
  },
  {
   "cell_type": "markdown",
   "metadata": {},
   "source": [
    "here we have an outlier : one collecion has 66 movies \n",
    "We see the min = 1 --> not a colection "
   ]
  },
  {
   "cell_type": "code",
   "execution_count": null,
   "metadata": {},
   "outputs": [],
   "source": [
    "import matplotlib.pyplot as plt\n",
    "\n",
    "# Group by 'collection_id' and count 'Wikipedia movie ID', then sort in descending order\n",
    "counts = new_data.groupby(by='collection_id')['Wikipedia movie ID'].count().sort_values(ascending=False)\n",
    "\n",
    "# Create a bar plot\n",
    "plt.figure(figsize=(15, 2))\n",
    "counts.head(100).plot(kind='bar')\n",
    "plt.title('Counts of the first 100th largest collection')\n",
    "plt.xlabel('Collection')\n",
    "plt.ylabel('Number of Movies by Collection')\n",
    "plt.xticks([])  \n",
    "plt.show()"
   ]
  },
  {
   "cell_type": "code",
   "execution_count": null,
   "metadata": {},
   "outputs": [],
   "source": [
    "new_data.groupby(by='collection_id')['Wikipedia movie ID'].count().describe()\n",
    "#collection['Wikipedia movie ID'].count().max()\n",
    "#len(new_data.groupby(by='collection_id')['Wikipedia movie ID'].count())\n",
    "new_data.groupby(by='collection_id')['Wikipedia movie ID'].count().sort_values(ascending=False).head(1)"
   ]
  },
  {
   "cell_type": "markdown",
   "metadata": {},
   "source": [
    "Here we see there is min = 1 --> therefore not a saga "
   ]
  },
  {
   "cell_type": "code",
   "execution_count": null,
   "metadata": {},
   "outputs": [],
   "source": [
    "# number of collection of more than 1 movie \n",
    "len(new_data.groupby(by='collection_id'))-(new_data.groupby(by='collection_id')['Wikipedia movie ID'].count() == 1).sum()"
   ]
  },
  {
   "cell_type": "code",
   "execution_count": null,
   "metadata": {},
   "outputs": [],
   "source": [
    "#distribution of collection >1\n",
    "counts = new_data.groupby(by='collection_id')['Wikipedia movie ID'].count().sort_values(ascending=False) \n",
    "counts = counts[(counts>1)]\n",
    "counts.hist(bins=200)\n",
    "\n",
    "plt.title(\"Collection distribution with more than 1 movie\")\n",
    "plt.xlabel('number of movies')\n",
    "plt.ylabel('Number of Collection')\n",
    "plt.xlim(left=2)  # Start the x-axis at 2\n",
    "plt.show()\n",
    "\n",
    "plt.figure(figsize=(15, 2))\n",
    "counts.plot(kind='bar')\n",
    "plt.title('number of movie distribution')\n",
    "plt.xlabel('Collection with more then 1 movie')\n",
    "plt.ylabel('Number of Movies by Collection')\n",
    "plt.xticks([])  \n",
    "plt.show()"
   ]
  },
  {
   "cell_type": "code",
   "execution_count": null,
   "metadata": {},
   "outputs": [],
   "source": [
    "counts.plot(kind='bar')\n",
    "plt.title('Number of Movie Distribution in Log Scale')\n",
    "plt.xlabel('Collection with More Than 1 Movie')\n",
    "plt.ylabel('Number of Movies by Collection')\n",
    "plt.yscale('log')  # Set y-axis to log scale\n",
    "plt.xticks([]) \n",
    "plt.show()\n",
    "\n",
    "\n",
    "counts.hist(bins=200)\n",
    "plt.yscale('log')\n",
    "plt.title(\"Collection distribution with more than 1 movie Log scale\")\n",
    "plt.xlabel('number of movies')\n",
    "plt.ylabel('Number of Collection')\n",
    "plt.xlim(left=2) \n",
    "plt.show()"
   ]
  },
  {
   "cell_type": "code",
   "execution_count": null,
   "metadata": {},
   "outputs": [],
   "source": [
    "plt.figure(figsize=(10, 6))\n",
    "plt.boxplot(counts)\n",
    "plt.title('Box Plot of Number of Movies by Collection ID')\n",
    "plt.xlabel('Collection ID')\n",
    "plt.ylabel('Number of Movies')\n",
    "plt.show()\n"
   ]
  },
  {
   "cell_type": "markdown",
   "metadata": {},
   "source": [
    "next step maybe plot only the data in the 0,75 percentile"
   ]
  }
 ],
 "metadata": {
  "kernelspec": {
   "display_name": "ada",
   "language": "python",
   "name": "python3"
  },
  "language_info": {
   "name": "python",
   "version": "3.11.10"
  }
 },
 "nbformat": 4,
 "nbformat_minor": 2
}
