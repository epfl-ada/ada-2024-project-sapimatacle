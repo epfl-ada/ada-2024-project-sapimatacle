{
 "cells": [
  {
   "cell_type": "code",
   "execution_count": 8,
   "metadata": {},
   "outputs": [],
   "source": [
    "import os\n",
    "import logging\n",
    "\n",
    "import aiohttp\n",
    "import asyncio\n",
    "import backoff\n",
    "from tqdm.asyncio import tqdm_asyncio\n",
    "from constants import API_KEY # import API_Key from another file"
   ]
  },
  {
   "cell_type": "markdown",
   "metadata": {},
   "source": [
    "this code just fetchs collection id and collection title.\n",
    "can fetch more information if needed."
   ]
  },
  {
   "cell_type": "code",
   "execution_count": 2,
   "metadata": {},
   "outputs": [],
   "source": [
    "@backoff.on_exception(\n",
    "    backoff.expo,  # Exponential backoff\n",
    "    aiohttp.ClientResponseError,  # Retry on client response errors\n",
    "    max_time=5,  # Maximum total wait time (5 seconds)\n",
    "    giveup=lambda e: e.status != 429,  # Only retry if status code is 429 (Too Many Requests)\n",
    "    factor=0.2\n",
    ")\n",
    "async def get_collection_info(movie_id: int, session: aiohttp.ClientSession, semaphore: asyncio.Semaphore, logger=logging.Logger):\n",
    "    url = f\"https://api.themoviedb.org/3/movie/{movie_id}\"\n",
    "    params = {'api_key': API_KEY}\n",
    "\n",
    "    async with semaphore:\n",
    "        async with session.get(url, params=params) as response:\n",
    "            if response.status == 200:\n",
    "                data = await response.json()\n",
    "                if data.get('belongs_to_collection'):\n",
    "                    collection = data['belongs_to_collection']\n",
    "                    return collection['name'], collection['id']\n",
    "                else:\n",
    "                    logger.info(f\"No collection found for {movie_id}\")\n",
    "                    return None, None\n",
    "            else:\n",
    "                logger.warning(f\"Error: Unable to retrieve data for {movie_id}. Status Code: {response.status}\")\n",
    "                return None, None\n",
    "\n",
    "# Example usage with delay between requests\n",
    "async def main(movie_ids, log_file_name):\n",
    "    # create logs folder\n",
    "    if not os.path.exists('logs'):\n",
    "        os.makedirs('logs')\n",
    "    log_file_path = f'logs/{log_file_name}'\n",
    "    # check if the same file name exists\n",
    "    if os.path.exists(log_file_path):\n",
    "        raise FileExistsError(f\"Log file {log_file_path} already exists. Please use a different file name.\")\n",
    "    logging.basicConfig(level=logging.INFO,\n",
    "                        format=\"%(asctime)s - %(levelname)s - %(message)s\",\n",
    "                        handlers=[logging.FileHandler(log_file_path)], # File handler to write logs to 'logs/*.log'\n",
    "                        force=True\n",
    "                        )\n",
    "    logger = logging.getLogger(__name__)\n",
    "    logger.info(\"Starting the main function ...\")\n",
    "    CONCURRENT_REQUESTS = 10\n",
    "    semaphore = asyncio.Semaphore(CONCURRENT_REQUESTS) \n",
    "    async with aiohttp.ClientSession() as session:\n",
    "        tasks = [get_collection_info(movie_id, session, semaphore, logger) for movie_id in movie_ids]\n",
    "        results = await tqdm_asyncio.gather(*tasks)\n",
    "        collection_name = [result[0] for result in results]\n",
    "        collection_id = [result[1] for result in results]\n",
    "    return collection_name, collection_id"
   ]
  },
  {
   "cell_type": "code",
   "execution_count": null,
   "metadata": {},
   "outputs": [],
   "source": [
    "import pandas as pd\n",
    "new_data = pd.read_csv('data/movie_metadata_with_tmdb_id.csv')"
   ]
  },
  {
   "cell_type": "code",
   "execution_count": 4,
   "metadata": {},
   "outputs": [
    {
     "name": "stdout",
     "output_type": "stream",
     "text": [
      "<class 'pandas.core.frame.DataFrame'>\n",
      "RangeIndex: 81740 entries, 0 to 81739\n",
      "Data columns (total 10 columns):\n",
      " #   Column                                     Non-Null Count  Dtype  \n",
      "---  ------                                     --------------  -----  \n",
      " 0   Wikipedia movie ID                         81740 non-null  int64  \n",
      " 1   Freebase movie ID                          81740 non-null  object \n",
      " 2   Movie name                                 81740 non-null  object \n",
      " 3   Movie release date                         74838 non-null  object \n",
      " 4   Movie box office revenue                   8400 non-null   float64\n",
      " 5   Movie runtime                              61290 non-null  float64\n",
      " 6   Movie languages (Freebase ID:name tuples)  81740 non-null  object \n",
      " 7   Movie countries (Freebase ID:name tuples)  81740 non-null  object \n",
      " 8   Movie genres (Freebase ID:name tuples)     81740 non-null  object \n",
      " 9   tmdb_id                                    70215 non-null  float64\n",
      "dtypes: float64(3), int64(1), object(6)\n",
      "memory usage: 6.2+ MB\n"
     ]
    }
   ],
   "source": [
    "new_data.info()"
   ]
  },
  {
   "cell_type": "code",
   "execution_count": 6,
   "metadata": {},
   "outputs": [
    {
     "name": "stderr",
     "output_type": "stream",
     "text": [
      "100%|██████████| 81740/81740 [28:54<00:00, 47.12it/s]  \n"
     ]
    }
   ],
   "source": [
    "# Run the main function\n",
    "movie_ids = new_data['tmdb_id']\n",
    "collection_names, collection_ids = await main(movie_ids, 'get_collection_info.log')"
   ]
  },
  {
   "cell_type": "code",
   "execution_count": 8,
   "metadata": {},
   "outputs": [],
   "source": [
    "new_data['collection_name'] = collection_names\n",
    "new_data['collection_id'] = collection_ids\n",
    "new_data.to_csv('data/movie_metadata_with_tmdb.csv', index=False)"
   ]
  }
 ],
 "metadata": {
  "kernelspec": {
   "display_name": "ada",
   "language": "python",
   "name": "python3"
  },
  "language_info": {
   "codemirror_mode": {
    "name": "ipython",
    "version": 3
   },
   "file_extension": ".py",
   "mimetype": "text/x-python",
   "name": "python",
   "nbconvert_exporter": "python",
   "pygments_lexer": "ipython3",
   "version": "3.11.10"
  }
 },
 "nbformat": 4,
 "nbformat_minor": 2
}
